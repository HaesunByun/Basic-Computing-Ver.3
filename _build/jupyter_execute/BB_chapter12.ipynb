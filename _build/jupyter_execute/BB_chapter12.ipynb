{
 "cells": [
  {
   "cell_type": "markdown",
   "metadata": {
    "id": "3SFM4wugjM5-"
   },
   "source": [
    "---\n",
    "<font color='Blue' size=\"4\">\n",
    "F37.101 컴퓨팅 기초: 처음 만나는 컴퓨팅(First Adventures in Computing)</font>\n",
    "\n",
    "---\n",
    "\n"
   ]
  },
  {
   "cell_type": "markdown",
   "metadata": {
    "id": "tnggpWyuaaAw"
   },
   "source": [
    "# Chapter 12. Pandas II\n"
   ]
  },
  {
   "cell_type": "markdown",
   "metadata": {
    "id": "wXgWyFtWU-0F"
   },
   "source": [
    ":::{admonition} 학습목표와 기대효과\n",
    ":class: info  \n",
    "- 학습목표\n",
    "  - 파일 입출력 방법을 익혀보자.\n",
    "  - 데이터 처리에 관련된 함수를 익혀보자.\n",
    "  - ChatGPT를 활용하여 파이썬 코드를 작성해보자.\n",
    "- 기대효과\n",
    "  - ChatGPT와 pandas를 활용하여 다양한 데이터 연산 및 분석에 필요한 기능을 쉽고 빠르게 코딩할 수 있다.\n",
    ":::"
   ]
  },
  {
   "cell_type": "markdown",
   "metadata": {
    "id": "ilxxp0-lq9tf"
   },
   "source": [
    "😄 데이터프레임을 생성해주세요."
   ]
  },
  {
   "cell_type": "code",
   "execution_count": 1,
   "metadata": {
    "id": "2KlE3qCe5Gkz"
   },
   "outputs": [],
   "source": [
    "import pandas as pd\n",
    "ScoresWithLectures={'국어':[84,21,87,100,59,46], '수학':[87,15,84,87,99,77], '영어':[78,84,76,99,59,56]}\n",
    "names=['철수','영이','길동','미영','순이','철이']\n",
    "#todo 변수 df에 데이터프레임을 생성해주세요.\n"
   ]
  },
  {
   "cell_type": "markdown",
   "metadata": {
    "id": "fFU08oiUyF0Y"
   },
   "source": [
    "😄 각 학생 별 '총점' 열을 추가해 주세요."
   ]
  },
  {
   "cell_type": "code",
   "execution_count": null,
   "metadata": {
    "id": "JXzMoKxmydyG"
   },
   "outputs": [],
   "source": []
  },
  {
   "cell_type": "markdown",
   "metadata": {
    "id": "WUDH-7CMy1Jk"
   },
   "source": [
    "😄 '길동'의 컴기 점수를 86점으로 수정해 주세요."
   ]
  },
  {
   "cell_type": "code",
   "execution_count": null,
   "metadata": {
    "id": "lnKk6hlV0sSX"
   },
   "outputs": [],
   "source": []
  },
  {
   "cell_type": "markdown",
   "metadata": {
    "id": "QKrWv1LFzQC7"
   },
   "source": [
    "😄 길동의 총점도 다시 계산해 주세요."
   ]
  },
  {
   "cell_type": "code",
   "execution_count": null,
   "metadata": {
    "id": "xpp4f4mI0xzb"
   },
   "outputs": [],
   "source": []
  },
  {
   "cell_type": "markdown",
   "metadata": {
    "id": "jP9gUfRLgtRB"
   },
   "source": [
    "😄 '강좌'열을 추가하고 '001'을 값으로 넣어주세요."
   ]
  },
  {
   "cell_type": "code",
   "execution_count": null,
   "metadata": {
    "id": "Y-WuNyidgzj5"
   },
   "outputs": [],
   "source": []
  },
  {
   "cell_type": "markdown",
   "metadata": {
    "id": "Gzn2Et5Ahj8y"
   },
   "source": [
    "😄 과목별 '합계'행을 만들어보세요."
   ]
  },
  {
   "cell_type": "code",
   "execution_count": null,
   "metadata": {
    "id": "ZxqBd2DMizB_"
   },
   "outputs": [],
   "source": []
  },
  {
   "cell_type": "markdown",
   "metadata": {
    "id": "izbhQeju-lfP"
   },
   "source": [
    "😄 '강좌'열을 삭제해주세요."
   ]
  },
  {
   "cell_type": "code",
   "execution_count": null,
   "metadata": {
    "id": "AeEf31W-1o7C"
   },
   "outputs": [],
   "source": []
  },
  {
   "cell_type": "markdown",
   "metadata": {
    "id": "T4MMJG-fqqHW"
   },
   "source": [
    "😄 '합계'행을 삭제해주세요."
   ]
  },
  {
   "cell_type": "code",
   "execution_count": null,
   "metadata": {
    "id": "-RmHTs3dqqHX"
   },
   "outputs": [],
   "source": []
  },
  {
   "cell_type": "markdown",
   "metadata": {
    "id": "qwCYo01OAInb"
   },
   "source": [
    "## 파일 입출력\n",
    "\n",
    "|파일 형식|읽기|쓰기|\n",
    "|:----------:|:----------|:----------|\n",
    "|MS Excel|read_excel| to_excel|\n",
    "|CSV|read_csv| to_csv|\n",
    "|JSON|read_json|to_json|\n",
    "|HTML|read_html|to_html|\n",
    "|Local clipboard|read_clipboard|to_clipboard|\n",
    "|HDF5 format|read_hdf|to_hdf|\n",
    "|SQL|read_sql|to_sql|"
   ]
  },
  {
   "cell_type": "markdown",
   "metadata": {
    "id": "QhBqDJV7MpBU"
   },
   "source": [
    "- csv 파일을 불러올 때\n",
    "  - pd.read_csv('파일명', index_col=칼럼번호, encoding='인코딩방법')\n",
    "    - index_col:칼럼번호를 설정인덱스로 지정한다.\n",
    "    - usecols: 사용할 칼럼번호를 지정한다.\n",
    "    - header: 헤더(칼럼)으로 선택할 헤더를 지정한다.\n",
    "    - encoding: 한글이 깨질때에는 encoding 옵션에 'euc-kr'을 넣어준다.\n",
    "    - 이 외에도 많은 옵션이 있다.\n",
    "\n",
    "- excel파일을 불러올 때\n",
    "  - pd.read_excel('파일명', encoding='인코딩방법')\n"
   ]
  },
  {
   "cell_type": "markdown",
   "metadata": {
    "id": "Y2I43GuaEGH9"
   },
   "source": [
    ":::{admonition} 인코딩 & 디코딩\n",
    ":class: tip  \n",
    "- 인코딩(encoding)는 코드화 또는 암호화로 불리우며, 문자열을 바이트코드로 변환하는 것을 의미한다.\n",
    "- 인코딩을 하는 이유는 언어마다 표준화된 규격으로 문자집합을 만들고, 이러한 문자집합을 가지고 정보의 형태 표준화, 보안, 저장 공간 절약 등의 다양한 목적으로 부호화하여 사용하기 위한 것이다.\n",
    "- 파이썬에서는 문자열을 유니코드로 처리하는데 유니코드를 utf-8, euc-kr, ascii 형식의 인코딩방식을 사용하여 바이트코드로 변환한다. 예를 들어,\n",
    "```\n",
    "x='한글'\n",
    "encoded = x.encode('utf-8')\n",
    "print(f'Output: {encoded}')\n",
    "```\n",
    "Output: b'\\xed\\x95\\x9c\\xea\\xb8\\x80'\n",
    "\n",
    "- 여기서 결과로 나온 b'\\xed\\x95\\x9c\\xea\\xb8\\x80'가 바이트 코드이다.\n",
    "\n",
    "- 디코딩(decoding)은 역코드화 또는 복호화로 불리우며, 바이트코드를 문자열로 변환하는 것을 의미한다.\n",
    "- 이때 디코딩에서도 인코딩 시 사용했던 것과 동일한 인코딩 방식(utf-8, euc-kr, ascii 등)이 사용되어야 한다.\n",
    "```\n",
    "decoded = encoded.decode('utf-8')\n",
    "print(f'Output: {decoded}')\n",
    "```\n",
    "Output: 한글\n",
    "\n",
    ":::"
   ]
  },
  {
   "cell_type": "markdown",
   "metadata": {
    "id": "i04LbORHGaYZ"
   },
   "source": [
    "- 파일 읽고 저장하기"
   ]
  },
  {
   "cell_type": "code",
   "execution_count": 2,
   "metadata": {
    "id": "O8JUUsS6HDjq"
   },
   "outputs": [
    {
     "data": {
      "text/html": [
       "<div>\n",
       "<style scoped>\n",
       "    .dataframe tbody tr th:only-of-type {\n",
       "        vertical-align: middle;\n",
       "    }\n",
       "\n",
       "    .dataframe tbody tr th {\n",
       "        vertical-align: top;\n",
       "    }\n",
       "\n",
       "    .dataframe thead th {\n",
       "        text-align: right;\n",
       "    }\n",
       "</style>\n",
       "<table border=\"1\" class=\"dataframe\">\n",
       "  <thead>\n",
       "    <tr style=\"text-align: right;\">\n",
       "      <th></th>\n",
       "      <th>국어</th>\n",
       "      <th>수학</th>\n",
       "      <th>영어</th>\n",
       "    </tr>\n",
       "  </thead>\n",
       "  <tbody>\n",
       "    <tr>\n",
       "      <th>철수</th>\n",
       "      <td>84</td>\n",
       "      <td>87</td>\n",
       "      <td>78</td>\n",
       "    </tr>\n",
       "    <tr>\n",
       "      <th>영이</th>\n",
       "      <td>21</td>\n",
       "      <td>15</td>\n",
       "      <td>84</td>\n",
       "    </tr>\n",
       "    <tr>\n",
       "      <th>길동</th>\n",
       "      <td>87</td>\n",
       "      <td>84</td>\n",
       "      <td>76</td>\n",
       "    </tr>\n",
       "    <tr>\n",
       "      <th>미영</th>\n",
       "      <td>100</td>\n",
       "      <td>87</td>\n",
       "      <td>99</td>\n",
       "    </tr>\n",
       "    <tr>\n",
       "      <th>순이</th>\n",
       "      <td>59</td>\n",
       "      <td>99</td>\n",
       "      <td>59</td>\n",
       "    </tr>\n",
       "    <tr>\n",
       "      <th>철이</th>\n",
       "      <td>46</td>\n",
       "      <td>77</td>\n",
       "      <td>56</td>\n",
       "    </tr>\n",
       "  </tbody>\n",
       "</table>\n",
       "</div>"
      ],
      "text/plain": [
       "     국어  수학  영어\n",
       "철수   84  87  78\n",
       "영이   21  15  84\n",
       "길동   87  84  76\n",
       "미영  100  87  99\n",
       "순이   59  99  59\n",
       "철이   46  77  56"
      ]
     },
     "execution_count": 2,
     "metadata": {},
     "output_type": "execute_result"
    }
   ],
   "source": [
    "import pandas as pd\n",
    "scores = [[84,87,78], [21,15,84], [87,84,76], [100,87,99],[59,99,59],[46,77,56]]\n",
    "names=['철수','영이','길동','미영','순이','철이']\n",
    "lectures=['국어','수학','영어']\n",
    "d1 = pd.DataFrame(scores, index=names, columns=lectures)\n",
    "d1"
   ]
  },
  {
   "cell_type": "code",
   "execution_count": 3,
   "metadata": {
    "id": "M0d9x8NaNBz7"
   },
   "outputs": [],
   "source": [
    "# 엑셀로 저장하기\n",
    "d1.to_excel('sample.xlsx')"
   ]
  },
  {
   "cell_type": "code",
   "execution_count": 4,
   "metadata": {
    "id": "ON9TedGJPDMV"
   },
   "outputs": [
    {
     "data": {
      "text/html": [
       "<div>\n",
       "<style scoped>\n",
       "    .dataframe tbody tr th:only-of-type {\n",
       "        vertical-align: middle;\n",
       "    }\n",
       "\n",
       "    .dataframe tbody tr th {\n",
       "        vertical-align: top;\n",
       "    }\n",
       "\n",
       "    .dataframe thead th {\n",
       "        text-align: right;\n",
       "    }\n",
       "</style>\n",
       "<table border=\"1\" class=\"dataframe\">\n",
       "  <thead>\n",
       "    <tr style=\"text-align: right;\">\n",
       "      <th></th>\n",
       "      <th>Unnamed: 0</th>\n",
       "      <th>국어</th>\n",
       "      <th>수학</th>\n",
       "      <th>영어</th>\n",
       "    </tr>\n",
       "  </thead>\n",
       "  <tbody>\n",
       "    <tr>\n",
       "      <th>0</th>\n",
       "      <td>철수</td>\n",
       "      <td>84</td>\n",
       "      <td>87</td>\n",
       "      <td>78</td>\n",
       "    </tr>\n",
       "    <tr>\n",
       "      <th>1</th>\n",
       "      <td>영이</td>\n",
       "      <td>21</td>\n",
       "      <td>15</td>\n",
       "      <td>84</td>\n",
       "    </tr>\n",
       "    <tr>\n",
       "      <th>2</th>\n",
       "      <td>길동</td>\n",
       "      <td>87</td>\n",
       "      <td>84</td>\n",
       "      <td>76</td>\n",
       "    </tr>\n",
       "    <tr>\n",
       "      <th>3</th>\n",
       "      <td>미영</td>\n",
       "      <td>100</td>\n",
       "      <td>87</td>\n",
       "      <td>99</td>\n",
       "    </tr>\n",
       "    <tr>\n",
       "      <th>4</th>\n",
       "      <td>순이</td>\n",
       "      <td>59</td>\n",
       "      <td>99</td>\n",
       "      <td>59</td>\n",
       "    </tr>\n",
       "    <tr>\n",
       "      <th>5</th>\n",
       "      <td>철이</td>\n",
       "      <td>46</td>\n",
       "      <td>77</td>\n",
       "      <td>56</td>\n",
       "    </tr>\n",
       "  </tbody>\n",
       "</table>\n",
       "</div>"
      ],
      "text/plain": [
       "  Unnamed: 0   국어  수학  영어\n",
       "0         철수   84  87  78\n",
       "1         영이   21  15  84\n",
       "2         길동   87  84  76\n",
       "3         미영  100  87  99\n",
       "4         순이   59  99  59\n",
       "5         철이   46  77  56"
      ]
     },
     "execution_count": 4,
     "metadata": {},
     "output_type": "execute_result"
    }
   ],
   "source": [
    "# 엑셀 읽어오기\n",
    "d2 = pd.read_excel(\"sample.xlsx\")\n",
    "d2"
   ]
  },
  {
   "cell_type": "markdown",
   "metadata": {
    "id": "FndSM_p3yeLQ"
   },
   "source": [
    "- index_col 옵션은 인덱스 칼럼을 지정하여 읽어올 수 있게 해준다."
   ]
  },
  {
   "cell_type": "code",
   "execution_count": 5,
   "metadata": {
    "id": "PzPTob9nPQ8W"
   },
   "outputs": [
    {
     "data": {
      "text/html": [
       "<div>\n",
       "<style scoped>\n",
       "    .dataframe tbody tr th:only-of-type {\n",
       "        vertical-align: middle;\n",
       "    }\n",
       "\n",
       "    .dataframe tbody tr th {\n",
       "        vertical-align: top;\n",
       "    }\n",
       "\n",
       "    .dataframe thead th {\n",
       "        text-align: right;\n",
       "    }\n",
       "</style>\n",
       "<table border=\"1\" class=\"dataframe\">\n",
       "  <thead>\n",
       "    <tr style=\"text-align: right;\">\n",
       "      <th></th>\n",
       "      <th>국어</th>\n",
       "      <th>수학</th>\n",
       "      <th>영어</th>\n",
       "    </tr>\n",
       "  </thead>\n",
       "  <tbody>\n",
       "    <tr>\n",
       "      <th>철수</th>\n",
       "      <td>84</td>\n",
       "      <td>87</td>\n",
       "      <td>78</td>\n",
       "    </tr>\n",
       "    <tr>\n",
       "      <th>영이</th>\n",
       "      <td>21</td>\n",
       "      <td>15</td>\n",
       "      <td>84</td>\n",
       "    </tr>\n",
       "    <tr>\n",
       "      <th>길동</th>\n",
       "      <td>87</td>\n",
       "      <td>84</td>\n",
       "      <td>76</td>\n",
       "    </tr>\n",
       "    <tr>\n",
       "      <th>미영</th>\n",
       "      <td>100</td>\n",
       "      <td>87</td>\n",
       "      <td>99</td>\n",
       "    </tr>\n",
       "    <tr>\n",
       "      <th>순이</th>\n",
       "      <td>59</td>\n",
       "      <td>99</td>\n",
       "      <td>59</td>\n",
       "    </tr>\n",
       "    <tr>\n",
       "      <th>철이</th>\n",
       "      <td>46</td>\n",
       "      <td>77</td>\n",
       "      <td>56</td>\n",
       "    </tr>\n",
       "  </tbody>\n",
       "</table>\n",
       "</div>"
      ],
      "text/plain": [
       "     국어  수학  영어\n",
       "철수   84  87  78\n",
       "영이   21  15  84\n",
       "길동   87  84  76\n",
       "미영  100  87  99\n",
       "순이   59  99  59\n",
       "철이   46  77  56"
      ]
     },
     "execution_count": 5,
     "metadata": {},
     "output_type": "execute_result"
    }
   ],
   "source": [
    "d2 = pd.read_excel(\"sample.xlsx\", index_col=0)\n",
    "d2"
   ]
  },
  {
   "cell_type": "code",
   "execution_count": 6,
   "metadata": {
    "id": "6qam2Ew0O37C"
   },
   "outputs": [],
   "source": [
    "# csv로 저장하기\n",
    "d2.to_csv('sample.csv', encoding='euc-kr')"
   ]
  },
  {
   "cell_type": "code",
   "execution_count": 7,
   "metadata": {
    "id": "FX9KVXea3k97"
   },
   "outputs": [
    {
     "data": {
      "text/html": [
       "<div>\n",
       "<style scoped>\n",
       "    .dataframe tbody tr th:only-of-type {\n",
       "        vertical-align: middle;\n",
       "    }\n",
       "\n",
       "    .dataframe tbody tr th {\n",
       "        vertical-align: top;\n",
       "    }\n",
       "\n",
       "    .dataframe thead th {\n",
       "        text-align: right;\n",
       "    }\n",
       "</style>\n",
       "<table border=\"1\" class=\"dataframe\">\n",
       "  <thead>\n",
       "    <tr style=\"text-align: right;\">\n",
       "      <th></th>\n",
       "      <th>국어</th>\n",
       "      <th>수학</th>\n",
       "      <th>영어</th>\n",
       "    </tr>\n",
       "  </thead>\n",
       "  <tbody>\n",
       "    <tr>\n",
       "      <th>철수</th>\n",
       "      <td>84</td>\n",
       "      <td>87</td>\n",
       "      <td>78</td>\n",
       "    </tr>\n",
       "    <tr>\n",
       "      <th>영이</th>\n",
       "      <td>21</td>\n",
       "      <td>15</td>\n",
       "      <td>84</td>\n",
       "    </tr>\n",
       "    <tr>\n",
       "      <th>길동</th>\n",
       "      <td>87</td>\n",
       "      <td>84</td>\n",
       "      <td>76</td>\n",
       "    </tr>\n",
       "    <tr>\n",
       "      <th>미영</th>\n",
       "      <td>100</td>\n",
       "      <td>87</td>\n",
       "      <td>99</td>\n",
       "    </tr>\n",
       "    <tr>\n",
       "      <th>순이</th>\n",
       "      <td>59</td>\n",
       "      <td>99</td>\n",
       "      <td>59</td>\n",
       "    </tr>\n",
       "    <tr>\n",
       "      <th>철이</th>\n",
       "      <td>46</td>\n",
       "      <td>77</td>\n",
       "      <td>56</td>\n",
       "    </tr>\n",
       "  </tbody>\n",
       "</table>\n",
       "</div>"
      ],
      "text/plain": [
       "     국어  수학  영어\n",
       "철수   84  87  78\n",
       "영이   21  15  84\n",
       "길동   87  84  76\n",
       "미영  100  87  99\n",
       "순이   59  99  59\n",
       "철이   46  77  56"
      ]
     },
     "execution_count": 7,
     "metadata": {},
     "output_type": "execute_result"
    }
   ],
   "source": [
    "d2 = pd.read_csv('sample.csv', encoding='euc-kr', index_col=0)\n",
    "d2"
   ]
  },
  {
   "cell_type": "markdown",
   "metadata": {
    "id": "W7FTuPTDSYJ6"
   },
   "source": [
    "## 자료형 다루기\n",
    "- .astype(자료형)"
   ]
  },
  {
   "cell_type": "code",
   "execution_count": 8,
   "metadata": {
    "id": "wS2zZWF5SaAb"
   },
   "outputs": [
    {
     "data": {
      "text/html": [
       "<div>\n",
       "<style scoped>\n",
       "    .dataframe tbody tr th:only-of-type {\n",
       "        vertical-align: middle;\n",
       "    }\n",
       "\n",
       "    .dataframe tbody tr th {\n",
       "        vertical-align: top;\n",
       "    }\n",
       "\n",
       "    .dataframe thead th {\n",
       "        text-align: right;\n",
       "    }\n",
       "</style>\n",
       "<table border=\"1\" class=\"dataframe\">\n",
       "  <thead>\n",
       "    <tr style=\"text-align: right;\">\n",
       "      <th></th>\n",
       "      <th>국어</th>\n",
       "      <th>수학</th>\n",
       "      <th>영어</th>\n",
       "    </tr>\n",
       "  </thead>\n",
       "  <tbody>\n",
       "    <tr>\n",
       "      <th>철수</th>\n",
       "      <td>84</td>\n",
       "      <td>87</td>\n",
       "      <td>78</td>\n",
       "    </tr>\n",
       "    <tr>\n",
       "      <th>영이</th>\n",
       "      <td>21</td>\n",
       "      <td>15</td>\n",
       "      <td>84</td>\n",
       "    </tr>\n",
       "    <tr>\n",
       "      <th>길동</th>\n",
       "      <td>87</td>\n",
       "      <td>84</td>\n",
       "      <td>76</td>\n",
       "    </tr>\n",
       "    <tr>\n",
       "      <th>미영</th>\n",
       "      <td>100</td>\n",
       "      <td>87</td>\n",
       "      <td>99</td>\n",
       "    </tr>\n",
       "    <tr>\n",
       "      <th>순이</th>\n",
       "      <td>59</td>\n",
       "      <td>99</td>\n",
       "      <td>59</td>\n",
       "    </tr>\n",
       "    <tr>\n",
       "      <th>철이</th>\n",
       "      <td>46</td>\n",
       "      <td>77</td>\n",
       "      <td>56</td>\n",
       "    </tr>\n",
       "  </tbody>\n",
       "</table>\n",
       "</div>"
      ],
      "text/plain": [
       "     국어  수학  영어\n",
       "철수   84  87  78\n",
       "영이   21  15  84\n",
       "길동   87  84  76\n",
       "미영  100  87  99\n",
       "순이   59  99  59\n",
       "철이   46  77  56"
      ]
     },
     "execution_count": 8,
     "metadata": {},
     "output_type": "execute_result"
    }
   ],
   "source": [
    "d2 = d1.astype('str')\n",
    "d2"
   ]
  },
  {
   "cell_type": "code",
   "execution_count": 9,
   "metadata": {
    "id": "4gsnqkTl33ju"
   },
   "outputs": [
    {
     "data": {
      "text/plain": [
       "국어    8421871005946\n",
       "수학     871584879977\n",
       "영어     788476995956\n",
       "dtype: object"
      ]
     },
     "execution_count": 9,
     "metadata": {},
     "output_type": "execute_result"
    }
   ],
   "source": [
    "d2.sum()"
   ]
  },
  {
   "cell_type": "markdown",
   "metadata": {
    "id": "5TWwIQE9TjBA"
   },
   "source": [
    "## 누락값 처리하기\n"
   ]
  },
  {
   "cell_type": "markdown",
   "metadata": {
    "id": "Er5qPkb2VHkX"
   },
   "source": [
    "- 누락 데이터 확인\n",
    "  - isnull(): 누락 데이터이면 True, 유효한 데이터이면 False를 반환\n",
    "  - notnull():유효한 데이터이면 True, 누락데이터이면 False를 반환"
   ]
  },
  {
   "cell_type": "code",
   "execution_count": 10,
   "metadata": {
    "id": "1g0hRwTmTl87"
   },
   "outputs": [
    {
     "data": {
      "text/html": [
       "<div>\n",
       "<style scoped>\n",
       "    .dataframe tbody tr th:only-of-type {\n",
       "        vertical-align: middle;\n",
       "    }\n",
       "\n",
       "    .dataframe tbody tr th {\n",
       "        vertical-align: top;\n",
       "    }\n",
       "\n",
       "    .dataframe thead th {\n",
       "        text-align: right;\n",
       "    }\n",
       "</style>\n",
       "<table border=\"1\" class=\"dataframe\">\n",
       "  <thead>\n",
       "    <tr style=\"text-align: right;\">\n",
       "      <th></th>\n",
       "      <th>국어</th>\n",
       "      <th>수학</th>\n",
       "      <th>영어</th>\n",
       "    </tr>\n",
       "  </thead>\n",
       "  <tbody>\n",
       "    <tr>\n",
       "      <th>철수</th>\n",
       "      <td>84</td>\n",
       "      <td>87</td>\n",
       "      <td>78</td>\n",
       "    </tr>\n",
       "    <tr>\n",
       "      <th>영이</th>\n",
       "      <td>21</td>\n",
       "      <td>15</td>\n",
       "      <td>84</td>\n",
       "    </tr>\n",
       "    <tr>\n",
       "      <th>길동</th>\n",
       "      <td>87</td>\n",
       "      <td>84</td>\n",
       "      <td>76</td>\n",
       "    </tr>\n",
       "    <tr>\n",
       "      <th>슬기</th>\n",
       "      <td>100</td>\n",
       "      <td>87</td>\n",
       "      <td>99</td>\n",
       "    </tr>\n",
       "    <tr>\n",
       "      <th>순이</th>\n",
       "      <td>59</td>\n",
       "      <td>99</td>\n",
       "      <td>59</td>\n",
       "    </tr>\n",
       "    <tr>\n",
       "      <th>철이</th>\n",
       "      <td>46</td>\n",
       "      <td>77</td>\n",
       "      <td>56</td>\n",
       "    </tr>\n",
       "  </tbody>\n",
       "</table>\n",
       "</div>"
      ],
      "text/plain": [
       "     국어  수학  영어\n",
       "철수   84  87  78\n",
       "영이   21  15  84\n",
       "길동   87  84  76\n",
       "슬기  100  87  99\n",
       "순이   59  99  59\n",
       "철이   46  77  56"
      ]
     },
     "execution_count": 10,
     "metadata": {},
     "output_type": "execute_result"
    }
   ],
   "source": [
    "scores = [[84,87,78], [21,15,84], [87,84,76], [100,87,99],[59,99,59],[46,77,56]]\n",
    "names=['철수','영이','길동','슬기','순이','철이']\n",
    "lectures=['국어','수학','영어']\n",
    "d2 = pd.DataFrame(scores, index=names, columns=lectures)\n",
    "d2"
   ]
  },
  {
   "cell_type": "markdown",
   "metadata": {
    "id": "z8jKicbsMff0"
   },
   "source": [
    "- d1과 d2를 더해서 일부러 누락값을 만들어서 테스트해보자."
   ]
  },
  {
   "cell_type": "code",
   "execution_count": 11,
   "metadata": {
    "id": "r0_jhdgVUUgM"
   },
   "outputs": [
    {
     "data": {
      "text/html": [
       "<div>\n",
       "<style scoped>\n",
       "    .dataframe tbody tr th:only-of-type {\n",
       "        vertical-align: middle;\n",
       "    }\n",
       "\n",
       "    .dataframe tbody tr th {\n",
       "        vertical-align: top;\n",
       "    }\n",
       "\n",
       "    .dataframe thead th {\n",
       "        text-align: right;\n",
       "    }\n",
       "</style>\n",
       "<table border=\"1\" class=\"dataframe\">\n",
       "  <thead>\n",
       "    <tr style=\"text-align: right;\">\n",
       "      <th></th>\n",
       "      <th>국어</th>\n",
       "      <th>수학</th>\n",
       "      <th>영어</th>\n",
       "    </tr>\n",
       "  </thead>\n",
       "  <tbody>\n",
       "    <tr>\n",
       "      <th>길동</th>\n",
       "      <td>174.0</td>\n",
       "      <td>168.0</td>\n",
       "      <td>152.0</td>\n",
       "    </tr>\n",
       "    <tr>\n",
       "      <th>미영</th>\n",
       "      <td>NaN</td>\n",
       "      <td>NaN</td>\n",
       "      <td>NaN</td>\n",
       "    </tr>\n",
       "    <tr>\n",
       "      <th>순이</th>\n",
       "      <td>118.0</td>\n",
       "      <td>198.0</td>\n",
       "      <td>118.0</td>\n",
       "    </tr>\n",
       "    <tr>\n",
       "      <th>슬기</th>\n",
       "      <td>NaN</td>\n",
       "      <td>NaN</td>\n",
       "      <td>NaN</td>\n",
       "    </tr>\n",
       "    <tr>\n",
       "      <th>영이</th>\n",
       "      <td>42.0</td>\n",
       "      <td>30.0</td>\n",
       "      <td>168.0</td>\n",
       "    </tr>\n",
       "    <tr>\n",
       "      <th>철수</th>\n",
       "      <td>168.0</td>\n",
       "      <td>174.0</td>\n",
       "      <td>156.0</td>\n",
       "    </tr>\n",
       "    <tr>\n",
       "      <th>철이</th>\n",
       "      <td>92.0</td>\n",
       "      <td>154.0</td>\n",
       "      <td>112.0</td>\n",
       "    </tr>\n",
       "  </tbody>\n",
       "</table>\n",
       "</div>"
      ],
      "text/plain": [
       "       국어     수학     영어\n",
       "길동  174.0  168.0  152.0\n",
       "미영    NaN    NaN    NaN\n",
       "순이  118.0  198.0  118.0\n",
       "슬기    NaN    NaN    NaN\n",
       "영이   42.0   30.0  168.0\n",
       "철수  168.0  174.0  156.0\n",
       "철이   92.0  154.0  112.0"
      ]
     },
     "execution_count": 11,
     "metadata": {},
     "output_type": "execute_result"
    }
   ],
   "source": [
    "d3=d1+d2\n",
    "d3"
   ]
  },
  {
   "cell_type": "code",
   "execution_count": 12,
   "metadata": {
    "id": "BWZUrRtoUzAP"
   },
   "outputs": [
    {
     "data": {
      "text/html": [
       "<div>\n",
       "<style scoped>\n",
       "    .dataframe tbody tr th:only-of-type {\n",
       "        vertical-align: middle;\n",
       "    }\n",
       "\n",
       "    .dataframe tbody tr th {\n",
       "        vertical-align: top;\n",
       "    }\n",
       "\n",
       "    .dataframe thead th {\n",
       "        text-align: right;\n",
       "    }\n",
       "</style>\n",
       "<table border=\"1\" class=\"dataframe\">\n",
       "  <thead>\n",
       "    <tr style=\"text-align: right;\">\n",
       "      <th></th>\n",
       "      <th>국어</th>\n",
       "      <th>수학</th>\n",
       "      <th>영어</th>\n",
       "    </tr>\n",
       "  </thead>\n",
       "  <tbody>\n",
       "    <tr>\n",
       "      <th>길동</th>\n",
       "      <td>False</td>\n",
       "      <td>False</td>\n",
       "      <td>False</td>\n",
       "    </tr>\n",
       "    <tr>\n",
       "      <th>미영</th>\n",
       "      <td>True</td>\n",
       "      <td>True</td>\n",
       "      <td>True</td>\n",
       "    </tr>\n",
       "    <tr>\n",
       "      <th>순이</th>\n",
       "      <td>False</td>\n",
       "      <td>False</td>\n",
       "      <td>False</td>\n",
       "    </tr>\n",
       "    <tr>\n",
       "      <th>슬기</th>\n",
       "      <td>True</td>\n",
       "      <td>True</td>\n",
       "      <td>True</td>\n",
       "    </tr>\n",
       "    <tr>\n",
       "      <th>영이</th>\n",
       "      <td>False</td>\n",
       "      <td>False</td>\n",
       "      <td>False</td>\n",
       "    </tr>\n",
       "    <tr>\n",
       "      <th>철수</th>\n",
       "      <td>False</td>\n",
       "      <td>False</td>\n",
       "      <td>False</td>\n",
       "    </tr>\n",
       "    <tr>\n",
       "      <th>철이</th>\n",
       "      <td>False</td>\n",
       "      <td>False</td>\n",
       "      <td>False</td>\n",
       "    </tr>\n",
       "  </tbody>\n",
       "</table>\n",
       "</div>"
      ],
      "text/plain": [
       "       국어     수학     영어\n",
       "길동  False  False  False\n",
       "미영   True   True   True\n",
       "순이  False  False  False\n",
       "슬기   True   True   True\n",
       "영이  False  False  False\n",
       "철수  False  False  False\n",
       "철이  False  False  False"
      ]
     },
     "execution_count": 12,
     "metadata": {},
     "output_type": "execute_result"
    }
   ],
   "source": [
    "d3.isnull()\n",
    "#d3.notnull()"
   ]
  },
  {
   "cell_type": "markdown",
   "metadata": {
    "id": "FidVvW7jzWHt"
   },
   "source": [
    "- 누락데이터의 개수를 확인하려면 .isnull().sum()으로 null인 데이터의 개수를 합한다."
   ]
  },
  {
   "cell_type": "code",
   "execution_count": 13,
   "metadata": {
    "id": "M1mwv2ymzVYW"
   },
   "outputs": [
    {
     "data": {
      "text/plain": [
       "국어    2\n",
       "수학    2\n",
       "영어    2\n",
       "dtype: int64"
      ]
     },
     "execution_count": 13,
     "metadata": {},
     "output_type": "execute_result"
    }
   ],
   "source": [
    "d3.isnull().sum()"
   ]
  },
  {
   "cell_type": "markdown",
   "metadata": {
    "id": "hEoBBI4bVjhn"
   },
   "source": [
    "- 누락 데이터 제거\n",
    "  - 행제거: .dropna(subset=['열1','열2'] axis=0)\n",
    "    - '열1' 또는 '열2' 중 하나라도 NaN이면 해당 행(row)을 제거\n",
    "    - 생략하면 모든 열을 기준으로 NaN이 있는 행을 제거\n",
    "    - dropna는 기본적으로 행제거하는 함수\n",
    "  - 열제거: .dropna(axis=1)\n",
    "    - NaN이 하나라도 있는 열 전체를 제거\n",
    "\n"
   ]
  },
  {
   "cell_type": "code",
   "execution_count": 14,
   "metadata": {
    "id": "CiqCSsbDW0Kv"
   },
   "outputs": [
    {
     "data": {
      "text/html": [
       "<div>\n",
       "<style scoped>\n",
       "    .dataframe tbody tr th:only-of-type {\n",
       "        vertical-align: middle;\n",
       "    }\n",
       "\n",
       "    .dataframe tbody tr th {\n",
       "        vertical-align: top;\n",
       "    }\n",
       "\n",
       "    .dataframe thead th {\n",
       "        text-align: right;\n",
       "    }\n",
       "</style>\n",
       "<table border=\"1\" class=\"dataframe\">\n",
       "  <thead>\n",
       "    <tr style=\"text-align: right;\">\n",
       "      <th></th>\n",
       "      <th>국어</th>\n",
       "      <th>수학</th>\n",
       "      <th>영어</th>\n",
       "    </tr>\n",
       "  </thead>\n",
       "  <tbody>\n",
       "    <tr>\n",
       "      <th>길동</th>\n",
       "      <td>174.0</td>\n",
       "      <td>168.0</td>\n",
       "      <td>152.0</td>\n",
       "    </tr>\n",
       "    <tr>\n",
       "      <th>순이</th>\n",
       "      <td>118.0</td>\n",
       "      <td>198.0</td>\n",
       "      <td>118.0</td>\n",
       "    </tr>\n",
       "    <tr>\n",
       "      <th>영이</th>\n",
       "      <td>42.0</td>\n",
       "      <td>30.0</td>\n",
       "      <td>168.0</td>\n",
       "    </tr>\n",
       "    <tr>\n",
       "      <th>철수</th>\n",
       "      <td>168.0</td>\n",
       "      <td>174.0</td>\n",
       "      <td>156.0</td>\n",
       "    </tr>\n",
       "    <tr>\n",
       "      <th>철이</th>\n",
       "      <td>92.0</td>\n",
       "      <td>154.0</td>\n",
       "      <td>112.0</td>\n",
       "    </tr>\n",
       "  </tbody>\n",
       "</table>\n",
       "</div>"
      ],
      "text/plain": [
       "       국어     수학     영어\n",
       "길동  174.0  168.0  152.0\n",
       "순이  118.0  198.0  118.0\n",
       "영이   42.0   30.0  168.0\n",
       "철수  168.0  174.0  156.0\n",
       "철이   92.0  154.0  112.0"
      ]
     },
     "execution_count": 14,
     "metadata": {},
     "output_type": "execute_result"
    }
   ],
   "source": [
    "d4=d3.dropna(axis=0)\n",
    "d4"
   ]
  },
  {
   "cell_type": "markdown",
   "metadata": {
    "id": "GBrEpau_aAlw"
   },
   "source": [
    "- 누락 데이터 치환\n",
    "  - .fillna(값)"
   ]
  },
  {
   "cell_type": "code",
   "execution_count": 15,
   "metadata": {
    "id": "lhVyXNfiap0i"
   },
   "outputs": [
    {
     "data": {
      "text/html": [
       "<div>\n",
       "<style scoped>\n",
       "    .dataframe tbody tr th:only-of-type {\n",
       "        vertical-align: middle;\n",
       "    }\n",
       "\n",
       "    .dataframe tbody tr th {\n",
       "        vertical-align: top;\n",
       "    }\n",
       "\n",
       "    .dataframe thead th {\n",
       "        text-align: right;\n",
       "    }\n",
       "</style>\n",
       "<table border=\"1\" class=\"dataframe\">\n",
       "  <thead>\n",
       "    <tr style=\"text-align: right;\">\n",
       "      <th></th>\n",
       "      <th>국어</th>\n",
       "      <th>수학</th>\n",
       "      <th>영어</th>\n",
       "    </tr>\n",
       "  </thead>\n",
       "  <tbody>\n",
       "    <tr>\n",
       "      <th>길동</th>\n",
       "      <td>174.0</td>\n",
       "      <td>168.0</td>\n",
       "      <td>152.0</td>\n",
       "    </tr>\n",
       "    <tr>\n",
       "      <th>미영</th>\n",
       "      <td>42.0</td>\n",
       "      <td>NaN</td>\n",
       "      <td>NaN</td>\n",
       "    </tr>\n",
       "    <tr>\n",
       "      <th>순이</th>\n",
       "      <td>118.0</td>\n",
       "      <td>198.0</td>\n",
       "      <td>118.0</td>\n",
       "    </tr>\n",
       "    <tr>\n",
       "      <th>슬기</th>\n",
       "      <td>42.0</td>\n",
       "      <td>NaN</td>\n",
       "      <td>NaN</td>\n",
       "    </tr>\n",
       "    <tr>\n",
       "      <th>영이</th>\n",
       "      <td>42.0</td>\n",
       "      <td>30.0</td>\n",
       "      <td>168.0</td>\n",
       "    </tr>\n",
       "    <tr>\n",
       "      <th>철수</th>\n",
       "      <td>168.0</td>\n",
       "      <td>174.0</td>\n",
       "      <td>156.0</td>\n",
       "    </tr>\n",
       "    <tr>\n",
       "      <th>철이</th>\n",
       "      <td>92.0</td>\n",
       "      <td>154.0</td>\n",
       "      <td>112.0</td>\n",
       "    </tr>\n",
       "  </tbody>\n",
       "</table>\n",
       "</div>"
      ],
      "text/plain": [
       "       국어     수학     영어\n",
       "길동  174.0  168.0  152.0\n",
       "미영   42.0    NaN    NaN\n",
       "순이  118.0  198.0  118.0\n",
       "슬기   42.0    NaN    NaN\n",
       "영이   42.0   30.0  168.0\n",
       "철수  168.0  174.0  156.0\n",
       "철이   92.0  154.0  112.0"
      ]
     },
     "execution_count": 15,
     "metadata": {},
     "output_type": "execute_result"
    }
   ],
   "source": [
    "min_kor = d3['국어'].min()\n",
    "d3['국어'].fillna(min_kor, inplace=True)\n",
    "d3"
   ]
  },
  {
   "cell_type": "markdown",
   "metadata": {
    "id": "AOq_AnUCbEeX"
   },
   "source": [
    "## 중복데이터 처리"
   ]
  },
  {
   "cell_type": "markdown",
   "metadata": {
    "id": "WK55Tr4ObJlA"
   },
   "source": [
    "- .duplicated(): 중복된 행이면 True, 아니면 False이다.\n"
   ]
  },
  {
   "cell_type": "code",
   "execution_count": 16,
   "metadata": {
    "id": "UcetNpdFbIPN"
   },
   "outputs": [
    {
     "data": {
      "text/plain": [
       "길동    False\n",
       "미영    False\n",
       "순이    False\n",
       "슬기     True\n",
       "영이    False\n",
       "철수    False\n",
       "철이    False\n",
       "dtype: bool"
      ]
     },
     "execution_count": 16,
     "metadata": {},
     "output_type": "execute_result"
    }
   ],
   "source": [
    "d3.duplicated()"
   ]
  },
  {
   "cell_type": "code",
   "execution_count": 17,
   "metadata": {
    "id": "i7iafZmLetS9"
   },
   "outputs": [
    {
     "data": {
      "text/plain": [
       "길동    False\n",
       "미영    False\n",
       "순이    False\n",
       "슬기     True\n",
       "영이     True\n",
       "철수    False\n",
       "철이    False\n",
       "Name: 국어, dtype: bool"
      ]
     },
     "execution_count": 17,
     "metadata": {},
     "output_type": "execute_result"
    }
   ],
   "source": [
    "d3['국어'].duplicated()"
   ]
  },
  {
   "cell_type": "markdown",
   "metadata": {
    "id": "0ysZB4TIfLqt"
   },
   "source": [
    "- 중복행 제거:  .drop_duplicates(subset=컬럼명리스트)"
   ]
  },
  {
   "cell_type": "code",
   "execution_count": 18,
   "metadata": {
    "id": "b7yx5YvHfmsJ"
   },
   "outputs": [
    {
     "data": {
      "text/html": [
       "<div>\n",
       "<style scoped>\n",
       "    .dataframe tbody tr th:only-of-type {\n",
       "        vertical-align: middle;\n",
       "    }\n",
       "\n",
       "    .dataframe tbody tr th {\n",
       "        vertical-align: top;\n",
       "    }\n",
       "\n",
       "    .dataframe thead th {\n",
       "        text-align: right;\n",
       "    }\n",
       "</style>\n",
       "<table border=\"1\" class=\"dataframe\">\n",
       "  <thead>\n",
       "    <tr style=\"text-align: right;\">\n",
       "      <th></th>\n",
       "      <th>국어</th>\n",
       "      <th>수학</th>\n",
       "      <th>영어</th>\n",
       "    </tr>\n",
       "  </thead>\n",
       "  <tbody>\n",
       "    <tr>\n",
       "      <th>길동</th>\n",
       "      <td>174.0</td>\n",
       "      <td>168.0</td>\n",
       "      <td>152.0</td>\n",
       "    </tr>\n",
       "    <tr>\n",
       "      <th>미영</th>\n",
       "      <td>42.0</td>\n",
       "      <td>NaN</td>\n",
       "      <td>NaN</td>\n",
       "    </tr>\n",
       "    <tr>\n",
       "      <th>순이</th>\n",
       "      <td>118.0</td>\n",
       "      <td>198.0</td>\n",
       "      <td>118.0</td>\n",
       "    </tr>\n",
       "    <tr>\n",
       "      <th>영이</th>\n",
       "      <td>42.0</td>\n",
       "      <td>30.0</td>\n",
       "      <td>168.0</td>\n",
       "    </tr>\n",
       "    <tr>\n",
       "      <th>철수</th>\n",
       "      <td>168.0</td>\n",
       "      <td>174.0</td>\n",
       "      <td>156.0</td>\n",
       "    </tr>\n",
       "    <tr>\n",
       "      <th>철이</th>\n",
       "      <td>92.0</td>\n",
       "      <td>154.0</td>\n",
       "      <td>112.0</td>\n",
       "    </tr>\n",
       "  </tbody>\n",
       "</table>\n",
       "</div>"
      ],
      "text/plain": [
       "       국어     수학     영어\n",
       "길동  174.0  168.0  152.0\n",
       "미영   42.0    NaN    NaN\n",
       "순이  118.0  198.0  118.0\n",
       "영이   42.0   30.0  168.0\n",
       "철수  168.0  174.0  156.0\n",
       "철이   92.0  154.0  112.0"
      ]
     },
     "execution_count": 18,
     "metadata": {},
     "output_type": "execute_result"
    }
   ],
   "source": [
    "d3.drop_duplicates(subset=['국어', '영어'])"
   ]
  },
  {
   "cell_type": "markdown",
   "metadata": {
    "id": "WOb-zDspgXBK"
   },
   "source": [
    "## 시계열 데이터\n",
    "- 다른 자료형을 시계열 객체로 변환\n",
    "- to_datetime(): 문자열을 timestamp로 변환"
   ]
  },
  {
   "cell_type": "code",
   "execution_count": 19,
   "metadata": {
    "id": "pKcJfIT5gniY"
   },
   "outputs": [
    {
     "data": {
      "text/html": [
       "<div>\n",
       "<style scoped>\n",
       "    .dataframe tbody tr th:only-of-type {\n",
       "        vertical-align: middle;\n",
       "    }\n",
       "\n",
       "    .dataframe tbody tr th {\n",
       "        vertical-align: top;\n",
       "    }\n",
       "\n",
       "    .dataframe thead th {\n",
       "        text-align: right;\n",
       "    }\n",
       "</style>\n",
       "<table border=\"1\" class=\"dataframe\">\n",
       "  <thead>\n",
       "    <tr style=\"text-align: right;\">\n",
       "      <th></th>\n",
       "      <th>생년월일</th>\n",
       "      <th>점수</th>\n",
       "    </tr>\n",
       "  </thead>\n",
       "  <tbody>\n",
       "    <tr>\n",
       "      <th>철수</th>\n",
       "      <td>1990-03-02</td>\n",
       "      <td>90</td>\n",
       "    </tr>\n",
       "    <tr>\n",
       "      <th>영이</th>\n",
       "      <td>1991-08-08</td>\n",
       "      <td>95</td>\n",
       "    </tr>\n",
       "    <tr>\n",
       "      <th>길동</th>\n",
       "      <td>1990-11-22</td>\n",
       "      <td>90</td>\n",
       "    </tr>\n",
       "    <tr>\n",
       "      <th>미영</th>\n",
       "      <td>1991-01-05</td>\n",
       "      <td>88</td>\n",
       "    </tr>\n",
       "  </tbody>\n",
       "</table>\n",
       "</div>"
      ],
      "text/plain": [
       "          생년월일  점수\n",
       "철수  1990-03-02  90\n",
       "영이  1991-08-08  95\n",
       "길동  1990-11-22  90\n",
       "미영  1991-01-05  88"
      ]
     },
     "execution_count": 19,
     "metadata": {},
     "output_type": "execute_result"
    }
   ],
   "source": [
    "import pandas as pd\n",
    "data = [['1990-03-02', 90], ['1991-08-08', 95], ['1990-11-22',90], ['1991-01-05', 88]]\n",
    "names=['철수','영이','길동','미영']\n",
    "column=['생년월일','점수']\n",
    "d1 = pd.DataFrame(data, index=names, columns=column)\n",
    "d1"
   ]
  },
  {
   "cell_type": "markdown",
   "metadata": {
    "id": "4wceV-zK4LdY"
   },
   "source": [
    "- 생년월일을 확인해보면 object 타입이다."
   ]
  },
  {
   "cell_type": "code",
   "execution_count": 20,
   "metadata": {
    "id": "yneH13B_nILu"
   },
   "outputs": [
    {
     "name": "stdout",
     "output_type": "stream",
     "text": [
      "<class 'pandas.core.frame.DataFrame'>\n",
      "Index: 4 entries, 철수 to 미영\n",
      "Data columns (total 2 columns):\n",
      " #   Column  Non-Null Count  Dtype \n",
      "---  ------  --------------  ----- \n",
      " 0   생년월일    4 non-null      object\n",
      " 1   점수      4 non-null      int64 \n",
      "dtypes: int64(1), object(1)\n",
      "memory usage: 96.0+ bytes\n"
     ]
    }
   ],
   "source": [
    "d1.info()"
   ]
  },
  {
   "cell_type": "markdown",
   "metadata": {
    "id": "7h37uxOS5goB"
   },
   "source": [
    "- object 타입의 생년월일을 시계열 데이터타입인 datetime형으로 바꿔보자."
   ]
  },
  {
   "cell_type": "code",
   "execution_count": 21,
   "metadata": {
    "id": "JE4e3VPZm7qV"
   },
   "outputs": [
    {
     "data": {
      "text/html": [
       "<div>\n",
       "<style scoped>\n",
       "    .dataframe tbody tr th:only-of-type {\n",
       "        vertical-align: middle;\n",
       "    }\n",
       "\n",
       "    .dataframe tbody tr th {\n",
       "        vertical-align: top;\n",
       "    }\n",
       "\n",
       "    .dataframe thead th {\n",
       "        text-align: right;\n",
       "    }\n",
       "</style>\n",
       "<table border=\"1\" class=\"dataframe\">\n",
       "  <thead>\n",
       "    <tr style=\"text-align: right;\">\n",
       "      <th></th>\n",
       "      <th>생년월일</th>\n",
       "      <th>점수</th>\n",
       "    </tr>\n",
       "  </thead>\n",
       "  <tbody>\n",
       "    <tr>\n",
       "      <th>철수</th>\n",
       "      <td>1990-03-02</td>\n",
       "      <td>90</td>\n",
       "    </tr>\n",
       "    <tr>\n",
       "      <th>영이</th>\n",
       "      <td>1991-08-08</td>\n",
       "      <td>95</td>\n",
       "    </tr>\n",
       "    <tr>\n",
       "      <th>길동</th>\n",
       "      <td>1990-11-22</td>\n",
       "      <td>90</td>\n",
       "    </tr>\n",
       "    <tr>\n",
       "      <th>미영</th>\n",
       "      <td>1991-01-05</td>\n",
       "      <td>88</td>\n",
       "    </tr>\n",
       "  </tbody>\n",
       "</table>\n",
       "</div>"
      ],
      "text/plain": [
       "         생년월일  점수\n",
       "철수 1990-03-02  90\n",
       "영이 1991-08-08  95\n",
       "길동 1990-11-22  90\n",
       "미영 1991-01-05  88"
      ]
     },
     "execution_count": 21,
     "metadata": {},
     "output_type": "execute_result"
    }
   ],
   "source": [
    "d1['생년월일'] = pd.to_datetime(d1['생년월일'])\n",
    "d1"
   ]
  },
  {
   "cell_type": "markdown",
   "metadata": {
    "id": "1kD7Fypd4SmO"
   },
   "source": [
    "- datetime으로 변환후 확인해보면 타입이 변경된 것을 알 수 있다."
   ]
  },
  {
   "cell_type": "code",
   "execution_count": 22,
   "metadata": {
    "id": "RUZBfTo2nyp8"
   },
   "outputs": [
    {
     "name": "stdout",
     "output_type": "stream",
     "text": [
      "<class 'pandas.core.frame.DataFrame'>\n",
      "Index: 4 entries, 철수 to 미영\n",
      "Data columns (total 2 columns):\n",
      " #   Column  Non-Null Count  Dtype         \n",
      "---  ------  --------------  -----         \n",
      " 0   생년월일    4 non-null      datetime64[ns]\n",
      " 1   점수      4 non-null      int64         \n",
      "dtypes: datetime64[ns](1), int64(1)\n",
      "memory usage: 96.0+ bytes\n"
     ]
    }
   ],
   "source": [
    "d1.info()"
   ]
  },
  {
   "cell_type": "markdown",
   "metadata": {
    "id": "09roYP0woqDG"
   },
   "source": [
    "- 시계열 데이터 활용\n",
    "  - 날짜 데이터를 분리할 수 있다.\n",
    "  - 연-월-일 정보에서 연,월,일 추출: dt.year, dt.month, dt.day를 사용"
   ]
  },
  {
   "cell_type": "code",
   "execution_count": 23,
   "metadata": {
    "id": "LagJZQCqo1QK"
   },
   "outputs": [
    {
     "data": {
      "text/html": [
       "<div>\n",
       "<style scoped>\n",
       "    .dataframe tbody tr th:only-of-type {\n",
       "        vertical-align: middle;\n",
       "    }\n",
       "\n",
       "    .dataframe tbody tr th {\n",
       "        vertical-align: top;\n",
       "    }\n",
       "\n",
       "    .dataframe thead th {\n",
       "        text-align: right;\n",
       "    }\n",
       "</style>\n",
       "<table border=\"1\" class=\"dataframe\">\n",
       "  <thead>\n",
       "    <tr style=\"text-align: right;\">\n",
       "      <th></th>\n",
       "      <th>생년월일</th>\n",
       "      <th>점수</th>\n",
       "      <th>년</th>\n",
       "      <th>월</th>\n",
       "      <th>일</th>\n",
       "    </tr>\n",
       "  </thead>\n",
       "  <tbody>\n",
       "    <tr>\n",
       "      <th>철수</th>\n",
       "      <td>1990-03-02</td>\n",
       "      <td>90</td>\n",
       "      <td>1990</td>\n",
       "      <td>3</td>\n",
       "      <td>2</td>\n",
       "    </tr>\n",
       "    <tr>\n",
       "      <th>영이</th>\n",
       "      <td>1991-08-08</td>\n",
       "      <td>95</td>\n",
       "      <td>1991</td>\n",
       "      <td>8</td>\n",
       "      <td>8</td>\n",
       "    </tr>\n",
       "    <tr>\n",
       "      <th>길동</th>\n",
       "      <td>1990-11-22</td>\n",
       "      <td>90</td>\n",
       "      <td>1990</td>\n",
       "      <td>11</td>\n",
       "      <td>22</td>\n",
       "    </tr>\n",
       "    <tr>\n",
       "      <th>미영</th>\n",
       "      <td>1991-01-05</td>\n",
       "      <td>88</td>\n",
       "      <td>1991</td>\n",
       "      <td>1</td>\n",
       "      <td>5</td>\n",
       "    </tr>\n",
       "  </tbody>\n",
       "</table>\n",
       "</div>"
      ],
      "text/plain": [
       "         생년월일  점수     년   월   일\n",
       "철수 1990-03-02  90  1990   3   2\n",
       "영이 1991-08-08  95  1991   8   8\n",
       "길동 1990-11-22  90  1990  11  22\n",
       "미영 1991-01-05  88  1991   1   5"
      ]
     },
     "execution_count": 23,
     "metadata": {},
     "output_type": "execute_result"
    }
   ],
   "source": [
    "d1['년'] = d1['생년월일'].dt.year\n",
    "d1['월'] = d1['생년월일'].dt.month\n",
    "d1['일'] = d1['생년월일'].dt.day\n",
    "d1"
   ]
  },
  {
   "cell_type": "markdown",
   "metadata": {
    "id": "OAW8D4mgp23-"
   },
   "source": [
    " - 연-월-일 정보에서 연-월 추출: dt.to_period()를 사용\n",
    " - df.to_period(freq=None, axis=0)\n",
    "  - freq : 원하는 시간 단위로 변환('Y','M','D', 'W')\n",
    "  - axis : 변환할 기준 축"
   ]
  },
  {
   "cell_type": "code",
   "execution_count": 24,
   "metadata": {
    "id": "kTGjLlIhqsaK"
   },
   "outputs": [
    {
     "data": {
      "text/html": [
       "<div>\n",
       "<style scoped>\n",
       "    .dataframe tbody tr th:only-of-type {\n",
       "        vertical-align: middle;\n",
       "    }\n",
       "\n",
       "    .dataframe tbody tr th {\n",
       "        vertical-align: top;\n",
       "    }\n",
       "\n",
       "    .dataframe thead th {\n",
       "        text-align: right;\n",
       "    }\n",
       "</style>\n",
       "<table border=\"1\" class=\"dataframe\">\n",
       "  <thead>\n",
       "    <tr style=\"text-align: right;\">\n",
       "      <th></th>\n",
       "      <th>생년월일</th>\n",
       "      <th>점수</th>\n",
       "      <th>년</th>\n",
       "      <th>월</th>\n",
       "      <th>일</th>\n",
       "      <th>년월</th>\n",
       "    </tr>\n",
       "  </thead>\n",
       "  <tbody>\n",
       "    <tr>\n",
       "      <th>철수</th>\n",
       "      <td>1990-03-02</td>\n",
       "      <td>90</td>\n",
       "      <td>1990</td>\n",
       "      <td>3</td>\n",
       "      <td>2</td>\n",
       "      <td>1990-03</td>\n",
       "    </tr>\n",
       "    <tr>\n",
       "      <th>영이</th>\n",
       "      <td>1991-08-08</td>\n",
       "      <td>95</td>\n",
       "      <td>1991</td>\n",
       "      <td>8</td>\n",
       "      <td>8</td>\n",
       "      <td>1991-08</td>\n",
       "    </tr>\n",
       "    <tr>\n",
       "      <th>길동</th>\n",
       "      <td>1990-11-22</td>\n",
       "      <td>90</td>\n",
       "      <td>1990</td>\n",
       "      <td>11</td>\n",
       "      <td>22</td>\n",
       "      <td>1990-11</td>\n",
       "    </tr>\n",
       "    <tr>\n",
       "      <th>미영</th>\n",
       "      <td>1991-01-05</td>\n",
       "      <td>88</td>\n",
       "      <td>1991</td>\n",
       "      <td>1</td>\n",
       "      <td>5</td>\n",
       "      <td>1991-01</td>\n",
       "    </tr>\n",
       "  </tbody>\n",
       "</table>\n",
       "</div>"
      ],
      "text/plain": [
       "         생년월일  점수     년   월   일       년월\n",
       "철수 1990-03-02  90  1990   3   2  1990-03\n",
       "영이 1991-08-08  95  1991   8   8  1991-08\n",
       "길동 1990-11-22  90  1990  11  22  1990-11\n",
       "미영 1991-01-05  88  1991   1   5  1991-01"
      ]
     },
     "execution_count": 24,
     "metadata": {},
     "output_type": "execute_result"
    }
   ],
   "source": [
    "d1['년월'] = d1['생년월일'].dt.to_period(freq='M')\n",
    "d1"
   ]
  },
  {
   "cell_type": "markdown",
   "metadata": {
    "id": "a-1wX4iqvebJ"
   },
   "source": [
    "- 날짜 인덱스 활용"
   ]
  },
  {
   "cell_type": "code",
   "execution_count": 25,
   "metadata": {
    "id": "iNytVEmquJe9"
   },
   "outputs": [
    {
     "data": {
      "text/html": [
       "<div>\n",
       "<style scoped>\n",
       "    .dataframe tbody tr th:only-of-type {\n",
       "        vertical-align: middle;\n",
       "    }\n",
       "\n",
       "    .dataframe tbody tr th {\n",
       "        vertical-align: top;\n",
       "    }\n",
       "\n",
       "    .dataframe thead th {\n",
       "        text-align: right;\n",
       "    }\n",
       "</style>\n",
       "<table border=\"1\" class=\"dataframe\">\n",
       "  <thead>\n",
       "    <tr style=\"text-align: right;\">\n",
       "      <th></th>\n",
       "      <th>점수</th>\n",
       "      <th>년</th>\n",
       "      <th>월</th>\n",
       "      <th>일</th>\n",
       "      <th>년월</th>\n",
       "    </tr>\n",
       "    <tr>\n",
       "      <th>생년월일</th>\n",
       "      <th></th>\n",
       "      <th></th>\n",
       "      <th></th>\n",
       "      <th></th>\n",
       "      <th></th>\n",
       "    </tr>\n",
       "  </thead>\n",
       "  <tbody>\n",
       "    <tr>\n",
       "      <th>1990-03-02</th>\n",
       "      <td>90</td>\n",
       "      <td>1990</td>\n",
       "      <td>3</td>\n",
       "      <td>2</td>\n",
       "      <td>1990-03</td>\n",
       "    </tr>\n",
       "    <tr>\n",
       "      <th>1991-08-08</th>\n",
       "      <td>95</td>\n",
       "      <td>1991</td>\n",
       "      <td>8</td>\n",
       "      <td>8</td>\n",
       "      <td>1991-08</td>\n",
       "    </tr>\n",
       "    <tr>\n",
       "      <th>1990-11-22</th>\n",
       "      <td>90</td>\n",
       "      <td>1990</td>\n",
       "      <td>11</td>\n",
       "      <td>22</td>\n",
       "      <td>1990-11</td>\n",
       "    </tr>\n",
       "    <tr>\n",
       "      <th>1991-01-05</th>\n",
       "      <td>88</td>\n",
       "      <td>1991</td>\n",
       "      <td>1</td>\n",
       "      <td>5</td>\n",
       "      <td>1991-01</td>\n",
       "    </tr>\n",
       "  </tbody>\n",
       "</table>\n",
       "</div>"
      ],
      "text/plain": [
       "            점수     년   월   일       년월\n",
       "생년월일                                 \n",
       "1990-03-02  90  1990   3   2  1990-03\n",
       "1991-08-08  95  1991   8   8  1991-08\n",
       "1990-11-22  90  1990  11  22  1990-11\n",
       "1991-01-05  88  1991   1   5  1991-01"
      ]
     },
     "execution_count": 25,
     "metadata": {},
     "output_type": "execute_result"
    }
   ],
   "source": [
    "d2 = d1.set_index('생년월일')\n",
    "d2"
   ]
  },
  {
   "cell_type": "code",
   "execution_count": 26,
   "metadata": {
    "id": "YzYFjlfbvtZy"
   },
   "outputs": [
    {
     "data": {
      "text/html": [
       "<div>\n",
       "<style scoped>\n",
       "    .dataframe tbody tr th:only-of-type {\n",
       "        vertical-align: middle;\n",
       "    }\n",
       "\n",
       "    .dataframe tbody tr th {\n",
       "        vertical-align: top;\n",
       "    }\n",
       "\n",
       "    .dataframe thead th {\n",
       "        text-align: right;\n",
       "    }\n",
       "</style>\n",
       "<table border=\"1\" class=\"dataframe\">\n",
       "  <thead>\n",
       "    <tr style=\"text-align: right;\">\n",
       "      <th></th>\n",
       "      <th>점수</th>\n",
       "      <th>년</th>\n",
       "      <th>월</th>\n",
       "      <th>일</th>\n",
       "      <th>년월</th>\n",
       "    </tr>\n",
       "    <tr>\n",
       "      <th>생년월일</th>\n",
       "      <th></th>\n",
       "      <th></th>\n",
       "      <th></th>\n",
       "      <th></th>\n",
       "      <th></th>\n",
       "    </tr>\n",
       "  </thead>\n",
       "  <tbody>\n",
       "    <tr>\n",
       "      <th>1990-03-02</th>\n",
       "      <td>90</td>\n",
       "      <td>1990</td>\n",
       "      <td>3</td>\n",
       "      <td>2</td>\n",
       "      <td>1990-03</td>\n",
       "    </tr>\n",
       "    <tr>\n",
       "      <th>1990-11-22</th>\n",
       "      <td>90</td>\n",
       "      <td>1990</td>\n",
       "      <td>11</td>\n",
       "      <td>22</td>\n",
       "      <td>1990-11</td>\n",
       "    </tr>\n",
       "  </tbody>\n",
       "</table>\n",
       "</div>"
      ],
      "text/plain": [
       "            점수     년   월   일       년월\n",
       "생년월일                                 \n",
       "1990-03-02  90  1990   3   2  1990-03\n",
       "1990-11-22  90  1990  11  22  1990-11"
      ]
     },
     "execution_count": 26,
     "metadata": {},
     "output_type": "execute_result"
    }
   ],
   "source": [
    "d2[d2.index.year == 1990]"
   ]
  },
  {
   "cell_type": "code",
   "execution_count": 27,
   "metadata": {
    "id": "3HJIQxuzv0FR"
   },
   "outputs": [
    {
     "data": {
      "text/html": [
       "<div>\n",
       "<style scoped>\n",
       "    .dataframe tbody tr th:only-of-type {\n",
       "        vertical-align: middle;\n",
       "    }\n",
       "\n",
       "    .dataframe tbody tr th {\n",
       "        vertical-align: top;\n",
       "    }\n",
       "\n",
       "    .dataframe thead th {\n",
       "        text-align: right;\n",
       "    }\n",
       "</style>\n",
       "<table border=\"1\" class=\"dataframe\">\n",
       "  <thead>\n",
       "    <tr style=\"text-align: right;\">\n",
       "      <th></th>\n",
       "      <th>점수</th>\n",
       "      <th>년</th>\n",
       "      <th>월</th>\n",
       "      <th>일</th>\n",
       "      <th>년월</th>\n",
       "    </tr>\n",
       "    <tr>\n",
       "      <th>생년월일</th>\n",
       "      <th></th>\n",
       "      <th></th>\n",
       "      <th></th>\n",
       "      <th></th>\n",
       "      <th></th>\n",
       "    </tr>\n",
       "  </thead>\n",
       "  <tbody>\n",
       "    <tr>\n",
       "      <th>1990-03-02</th>\n",
       "      <td>90</td>\n",
       "      <td>1990</td>\n",
       "      <td>3</td>\n",
       "      <td>2</td>\n",
       "      <td>1990-03</td>\n",
       "    </tr>\n",
       "    <tr>\n",
       "      <th>1990-11-22</th>\n",
       "      <td>90</td>\n",
       "      <td>1990</td>\n",
       "      <td>11</td>\n",
       "      <td>22</td>\n",
       "      <td>1990-11</td>\n",
       "    </tr>\n",
       "  </tbody>\n",
       "</table>\n",
       "</div>"
      ],
      "text/plain": [
       "            점수     년   월   일       년월\n",
       "생년월일                                 \n",
       "1990-03-02  90  1990   3   2  1990-03\n",
       "1990-11-22  90  1990  11  22  1990-11"
      ]
     },
     "execution_count": 27,
     "metadata": {},
     "output_type": "execute_result"
    }
   ],
   "source": [
    "d2.loc['1990']"
   ]
  },
  {
   "cell_type": "code",
   "execution_count": 28,
   "metadata": {
    "id": "iedtHExfwPs3"
   },
   "outputs": [
    {
     "data": {
      "text/plain": [
       "Timestamp('2025-05-20 00:00:00')"
      ]
     },
     "execution_count": 28,
     "metadata": {},
     "output_type": "execute_result"
    }
   ],
   "source": [
    "today = pd.to_datetime('2025-05-20')\n",
    "today"
   ]
  },
  {
   "cell_type": "code",
   "execution_count": 29,
   "metadata": {
    "id": "SP8vk0ddwZ9D"
   },
   "outputs": [
    {
     "data": {
      "text/html": [
       "<div>\n",
       "<style scoped>\n",
       "    .dataframe tbody tr th:only-of-type {\n",
       "        vertical-align: middle;\n",
       "    }\n",
       "\n",
       "    .dataframe tbody tr th {\n",
       "        vertical-align: top;\n",
       "    }\n",
       "\n",
       "    .dataframe thead th {\n",
       "        text-align: right;\n",
       "    }\n",
       "</style>\n",
       "<table border=\"1\" class=\"dataframe\">\n",
       "  <thead>\n",
       "    <tr style=\"text-align: right;\">\n",
       "      <th></th>\n",
       "      <th>점수</th>\n",
       "      <th>년</th>\n",
       "      <th>월</th>\n",
       "      <th>일</th>\n",
       "      <th>년월</th>\n",
       "      <th>날짜_차이</th>\n",
       "    </tr>\n",
       "    <tr>\n",
       "      <th>생년월일</th>\n",
       "      <th></th>\n",
       "      <th></th>\n",
       "      <th></th>\n",
       "      <th></th>\n",
       "      <th></th>\n",
       "      <th></th>\n",
       "    </tr>\n",
       "  </thead>\n",
       "  <tbody>\n",
       "    <tr>\n",
       "      <th>1990-03-02</th>\n",
       "      <td>90</td>\n",
       "      <td>1990</td>\n",
       "      <td>3</td>\n",
       "      <td>2</td>\n",
       "      <td>1990-03</td>\n",
       "      <td>12863 days</td>\n",
       "    </tr>\n",
       "    <tr>\n",
       "      <th>1991-08-08</th>\n",
       "      <td>95</td>\n",
       "      <td>1991</td>\n",
       "      <td>8</td>\n",
       "      <td>8</td>\n",
       "      <td>1991-08</td>\n",
       "      <td>12339 days</td>\n",
       "    </tr>\n",
       "    <tr>\n",
       "      <th>1990-11-22</th>\n",
       "      <td>90</td>\n",
       "      <td>1990</td>\n",
       "      <td>11</td>\n",
       "      <td>22</td>\n",
       "      <td>1990-11</td>\n",
       "      <td>12598 days</td>\n",
       "    </tr>\n",
       "    <tr>\n",
       "      <th>1991-01-05</th>\n",
       "      <td>88</td>\n",
       "      <td>1991</td>\n",
       "      <td>1</td>\n",
       "      <td>5</td>\n",
       "      <td>1991-01</td>\n",
       "      <td>12554 days</td>\n",
       "    </tr>\n",
       "  </tbody>\n",
       "</table>\n",
       "</div>"
      ],
      "text/plain": [
       "            점수     년   월   일       년월      날짜_차이\n",
       "생년월일                                            \n",
       "1990-03-02  90  1990   3   2  1990-03 12863 days\n",
       "1991-08-08  95  1991   8   8  1991-08 12339 days\n",
       "1990-11-22  90  1990  11  22  1990-11 12598 days\n",
       "1991-01-05  88  1991   1   5  1991-01 12554 days"
      ]
     },
     "execution_count": 29,
     "metadata": {},
     "output_type": "execute_result"
    }
   ],
   "source": [
    "d2['날짜_차이'] = today-d2.index\n",
    "d2"
   ]
  },
  {
   "cell_type": "markdown",
   "metadata": {
    "id": "g6l3Sxfi-Iwy"
   },
   "source": [
    "## 피벗 테이블을 이용한 데이터 정리\n",
    "- 피벗(pivot): 농구 등에서, 한 발을 붙인 채 남은 한 발을 이리 저리 돌려 방향을 바꾸는 것 의미가 확장되어 분야를 막론하고 '방향을 바꾼다'라는 의미. 사전적으로 '축을 중심으로 회전하다' 또는 '중심축'이라는 의미\n",
    "- 피벗 테이블: 데이터를 요약하고 분석하는 데 사용하는 테이블\n",
    "- 원시 데이터를 한눈에 볼 수 있도록 재구성하고, 필요에 따라 특정 변수에 따라 데이터를 그룹화하거나 집계할 수 있음\n",
    "- .pivot_table(df, index=인덱스리스트, values=값리스트)"
   ]
  },
  {
   "cell_type": "markdown",
   "metadata": {
    "id": "NWf8GKPc-Qfa"
   },
   "source": [
    "- salesfunnel.xlsx: 판매 거래 데이터\n",
    "  - Account: 거래를 진행한 고객의 계정 번호\n",
    "  - Name: 고객의 이름\n",
    "  - Rep: 거래를 진행한 판매 대표\n",
    "  - Manager: 판매 대표를 관리하는 매니저\n",
    "  - Product: 거래된 제품\n",
    "  - Quantity: 거래된 제품의 수량\n",
    "  - Price: 제품 단가\n",
    "  - Status: 거래의 상태 (presented, pending, declined 등)"
   ]
  },
  {
   "cell_type": "code",
   "execution_count": 30,
   "metadata": {
    "id": "Nq7KDqRFKm7w"
   },
   "outputs": [
    {
     "data": {
      "text/html": [
       "<div>\n",
       "<style scoped>\n",
       "    .dataframe tbody tr th:only-of-type {\n",
       "        vertical-align: middle;\n",
       "    }\n",
       "\n",
       "    .dataframe tbody tr th {\n",
       "        vertical-align: top;\n",
       "    }\n",
       "\n",
       "    .dataframe thead th {\n",
       "        text-align: right;\n",
       "    }\n",
       "</style>\n",
       "<table border=\"1\" class=\"dataframe\">\n",
       "  <thead>\n",
       "    <tr style=\"text-align: right;\">\n",
       "      <th></th>\n",
       "      <th>Account</th>\n",
       "      <th>Name</th>\n",
       "      <th>Rep</th>\n",
       "      <th>Manager</th>\n",
       "      <th>Product</th>\n",
       "      <th>Quantity</th>\n",
       "      <th>Price</th>\n",
       "      <th>Status</th>\n",
       "    </tr>\n",
       "  </thead>\n",
       "  <tbody>\n",
       "    <tr>\n",
       "      <th>0</th>\n",
       "      <td>714466</td>\n",
       "      <td>Trantow-Barrows</td>\n",
       "      <td>Craig Booker</td>\n",
       "      <td>Debra Henley</td>\n",
       "      <td>CPU</td>\n",
       "      <td>1</td>\n",
       "      <td>30000</td>\n",
       "      <td>presented</td>\n",
       "    </tr>\n",
       "    <tr>\n",
       "      <th>1</th>\n",
       "      <td>714466</td>\n",
       "      <td>Trantow-Barrows</td>\n",
       "      <td>Craig Booker</td>\n",
       "      <td>Debra Henley</td>\n",
       "      <td>Software</td>\n",
       "      <td>1</td>\n",
       "      <td>10000</td>\n",
       "      <td>presented</td>\n",
       "    </tr>\n",
       "    <tr>\n",
       "      <th>2</th>\n",
       "      <td>714466</td>\n",
       "      <td>Trantow-Barrows</td>\n",
       "      <td>Craig Booker</td>\n",
       "      <td>Debra Henley</td>\n",
       "      <td>Maintenance</td>\n",
       "      <td>2</td>\n",
       "      <td>5000</td>\n",
       "      <td>pending</td>\n",
       "    </tr>\n",
       "    <tr>\n",
       "      <th>3</th>\n",
       "      <td>737550</td>\n",
       "      <td>Fritsch, Russel and Anderson</td>\n",
       "      <td>Craig Booker</td>\n",
       "      <td>Debra Henley</td>\n",
       "      <td>CPU</td>\n",
       "      <td>1</td>\n",
       "      <td>35000</td>\n",
       "      <td>declined</td>\n",
       "    </tr>\n",
       "    <tr>\n",
       "      <th>4</th>\n",
       "      <td>146832</td>\n",
       "      <td>Kiehn-Spinka</td>\n",
       "      <td>Daniel Hilton</td>\n",
       "      <td>Debra Henley</td>\n",
       "      <td>CPU</td>\n",
       "      <td>2</td>\n",
       "      <td>65000</td>\n",
       "      <td>won</td>\n",
       "    </tr>\n",
       "  </tbody>\n",
       "</table>\n",
       "</div>"
      ],
      "text/plain": [
       "   Account                          Name            Rep       Manager  \\\n",
       "0   714466               Trantow-Barrows   Craig Booker  Debra Henley   \n",
       "1   714466               Trantow-Barrows   Craig Booker  Debra Henley   \n",
       "2   714466               Trantow-Barrows   Craig Booker  Debra Henley   \n",
       "3   737550  Fritsch, Russel and Anderson   Craig Booker  Debra Henley   \n",
       "4   146832                  Kiehn-Spinka  Daniel Hilton  Debra Henley   \n",
       "\n",
       "       Product  Quantity  Price     Status  \n",
       "0          CPU         1  30000  presented  \n",
       "1     Software         1  10000  presented  \n",
       "2  Maintenance         2   5000    pending  \n",
       "3          CPU         1  35000   declined  \n",
       "4          CPU         2  65000        won  "
      ]
     },
     "execution_count": 30,
     "metadata": {},
     "output_type": "execute_result"
    }
   ],
   "source": [
    "import pandas as pd\n",
    "df = pd.read_excel('https://raw.githubusercontent.com/HaesunByun/common/main/data/salesfunnel.xlsx')\n",
    "df.head()"
   ]
  },
  {
   "cell_type": "markdown",
   "metadata": {
    "id": "uZwNl_EqLT_N"
   },
   "source": [
    "- index는 그룹핑할 열의 이름이다.\n",
    "- 아래 예제에서는 Manager와 Rep를 index로 하여 그룹핑하며, 그룹핑할 values는 'price'이다.\n",
    "- value를 pivot_table로 합친 경우 디폴트로 평균치로 계산된다."
   ]
  },
  {
   "cell_type": "code",
   "execution_count": 31,
   "metadata": {
    "id": "j9viffk4HTl5"
   },
   "outputs": [
    {
     "data": {
      "text/html": [
       "<div>\n",
       "<style scoped>\n",
       "    .dataframe tbody tr th:only-of-type {\n",
       "        vertical-align: middle;\n",
       "    }\n",
       "\n",
       "    .dataframe tbody tr th {\n",
       "        vertical-align: top;\n",
       "    }\n",
       "\n",
       "    .dataframe thead th {\n",
       "        text-align: right;\n",
       "    }\n",
       "</style>\n",
       "<table border=\"1\" class=\"dataframe\">\n",
       "  <thead>\n",
       "    <tr style=\"text-align: right;\">\n",
       "      <th></th>\n",
       "      <th></th>\n",
       "      <th>Price</th>\n",
       "    </tr>\n",
       "    <tr>\n",
       "      <th>Manager</th>\n",
       "      <th>Rep</th>\n",
       "      <th></th>\n",
       "    </tr>\n",
       "  </thead>\n",
       "  <tbody>\n",
       "    <tr>\n",
       "      <th rowspan=\"3\" valign=\"top\">Debra Henley</th>\n",
       "      <th>Craig Booker</th>\n",
       "      <td>20000.000000</td>\n",
       "    </tr>\n",
       "    <tr>\n",
       "      <th>Daniel Hilton</th>\n",
       "      <td>38333.333333</td>\n",
       "    </tr>\n",
       "    <tr>\n",
       "      <th>John Smith</th>\n",
       "      <td>20000.000000</td>\n",
       "    </tr>\n",
       "    <tr>\n",
       "      <th rowspan=\"2\" valign=\"top\">Fred Anderson</th>\n",
       "      <th>Cedric Moss</th>\n",
       "      <td>27500.000000</td>\n",
       "    </tr>\n",
       "    <tr>\n",
       "      <th>Wendy Yule</th>\n",
       "      <td>44250.000000</td>\n",
       "    </tr>\n",
       "  </tbody>\n",
       "</table>\n",
       "</div>"
      ],
      "text/plain": [
       "                                    Price\n",
       "Manager       Rep                        \n",
       "Debra Henley  Craig Booker   20000.000000\n",
       "              Daniel Hilton  38333.333333\n",
       "              John Smith     20000.000000\n",
       "Fred Anderson Cedric Moss    27500.000000\n",
       "              Wendy Yule     44250.000000"
      ]
     },
     "execution_count": 31,
     "metadata": {},
     "output_type": "execute_result"
    }
   ],
   "source": [
    "pd.pivot_table(df, index=['Manager', 'Rep'], values=['Price'])"
   ]
  },
  {
   "cell_type": "markdown",
   "metadata": {
    "id": "VeCLBWhvLvqu"
   },
   "source": [
    "- value의 값을 합산으로 하고 싶을 때 aggfunc옵션에 sum함수의 이름을 쓴다."
   ]
  },
  {
   "cell_type": "code",
   "execution_count": 32,
   "metadata": {
    "id": "plNegJV0LiZM"
   },
   "outputs": [
    {
     "data": {
      "text/html": [
       "<div>\n",
       "<style scoped>\n",
       "    .dataframe tbody tr th:only-of-type {\n",
       "        vertical-align: middle;\n",
       "    }\n",
       "\n",
       "    .dataframe tbody tr th {\n",
       "        vertical-align: top;\n",
       "    }\n",
       "\n",
       "    .dataframe thead th {\n",
       "        text-align: right;\n",
       "    }\n",
       "</style>\n",
       "<table border=\"1\" class=\"dataframe\">\n",
       "  <thead>\n",
       "    <tr style=\"text-align: right;\">\n",
       "      <th></th>\n",
       "      <th></th>\n",
       "      <th>Price</th>\n",
       "    </tr>\n",
       "    <tr>\n",
       "      <th>Manager</th>\n",
       "      <th>Rep</th>\n",
       "      <th></th>\n",
       "    </tr>\n",
       "  </thead>\n",
       "  <tbody>\n",
       "    <tr>\n",
       "      <th rowspan=\"3\" valign=\"top\">Debra Henley</th>\n",
       "      <th>Craig Booker</th>\n",
       "      <td>80000</td>\n",
       "    </tr>\n",
       "    <tr>\n",
       "      <th>Daniel Hilton</th>\n",
       "      <td>115000</td>\n",
       "    </tr>\n",
       "    <tr>\n",
       "      <th>John Smith</th>\n",
       "      <td>40000</td>\n",
       "    </tr>\n",
       "    <tr>\n",
       "      <th rowspan=\"2\" valign=\"top\">Fred Anderson</th>\n",
       "      <th>Cedric Moss</th>\n",
       "      <td>110000</td>\n",
       "    </tr>\n",
       "    <tr>\n",
       "      <th>Wendy Yule</th>\n",
       "      <td>177000</td>\n",
       "    </tr>\n",
       "  </tbody>\n",
       "</table>\n",
       "</div>"
      ],
      "text/plain": [
       "                              Price\n",
       "Manager       Rep                  \n",
       "Debra Henley  Craig Booker    80000\n",
       "              Daniel Hilton  115000\n",
       "              John Smith      40000\n",
       "Fred Anderson Cedric Moss    110000\n",
       "              Wendy Yule     177000"
      ]
     },
     "execution_count": 32,
     "metadata": {},
     "output_type": "execute_result"
    }
   ],
   "source": [
    "pd.pivot_table(df, index=['Manager', 'Rep'], values=['Price'], aggfunc='sum')"
   ]
  },
  {
   "cell_type": "markdown",
   "metadata": {
    "id": "EJj8g7ocs_cM"
   },
   "source": [
    "## AI코딩 활용하기"
   ]
  },
  {
   "cell_type": "markdown",
   "metadata": {
    "id": "dsIq3xjPpzYO"
   },
   "source": [
    "- ChatGPT(Generative Pre-trained Transformer)는 미국의 AI 연구재단 OpenAI가 2022년 11월 공개한 초거대 언어모델 GPT-3.5 기반 대화형 인공지능 챗봇이다.\n",
    "- Generative(생성형), Pre-trained(미리 학습된) Transformer(변환기)\n",
    "\n",
    "- 현재 Chat GPT 홈페이지(https://chat.openai.com/chat) 에서 누구나 가입 후 사용 가능하다.\n",
    "\n",
    "- 사용자가 채팅 하듯 질문을 입력하면 ChatGPT는 학습한 데이터를 기반으로 '사람처럼' 문장을 만들어 답을 해준다.\n",
    "- 마치 진짜 사람과 대화하는 것처럼 자연스럽게 질문과 답변을 주고받을 수 있다.\n",
    "\n",
    "- 단순 정보 짜깁기뿐 아니라 에세이・소설・시 등 다양한 창작물, 심지어 프로그래밍 코드까지 생성한다는 점에서 화제가 되고 있다.\n"
   ]
  },
  {
   "cell_type": "markdown",
   "metadata": {
    "id": "2wTEgXX6q-jJ"
   },
   "source": [
    "출시일\n",
    "```\n",
    "2022.11 — ChatGPT 출시 (GPT-3.5 기반)\n",
    "2023.02 — ChatGPT Plus 유료 요금제 도입\n",
    "2023.03 — GPT-4 모델 공개 (Plus 사용자에 한해 제공)\n",
    "2024.05 — GPT-4o(Omni) 출시: 멀티모달 지원 (텍스트·음성·이미지)\n",
    "2025.02 — GPT-4.5 출시 (코드명: Orion)\n",
    "2025.04 — o3, o4-mini 모델 출시\n",
    "2025.05 — GPT-4.1 및 GPT-4.1 mini 출시\n",
    "```\n",
    "\n",
    "<div align=\"center\"><img src=\"https://haesunbyun.github.io/common/images/chatGPT_logo.png\" width=\"300\"></div>\n"
   ]
  },
  {
   "cell_type": "markdown",
   "metadata": {
    "id": "HztgBTqEsO4K"
   },
   "source": [
    "ChatGPT\n",
    "\n",
    "https://chatgpt.com/"
   ]
  },
  {
   "cell_type": "markdown",
   "metadata": {
    "id": "71cXmn-ftGop"
   },
   "source": [
    "### ChatGPT에게 질문하기"
   ]
  },
  {
   "cell_type": "markdown",
   "metadata": {
    "id": "LyahePS7r0tg"
   },
   "source": [
    "Q. ChatGPT에게 질문해보세요.\n",
    "- ChatGPT란 뭐야?\n",
    "- 인공지능에 대한 시를 작성해줘\n",
    "- ChatGPT 활용 분야를 알려줘\n",
    "- Chat GPT는 접속이 원활한 시간이 언제야?\n",
    "- Chat GPT 유료와 무료의 차이를 설명해줘\n",
    "- 세상에서 가장 아름다운 곳은?\n",
    "- 세익스피어 작품에 대해 가르쳐 줘"
   ]
  },
  {
   "cell_type": "markdown",
   "metadata": {
    "id": "FW8GRPIrSwgl"
   },
   "source": [
    "### 코랩의 AI코딩\n",
    "\n",
    "- 코랩에서도 AI로 코드를 생성할 수 있다.\n",
    "\n",
    "<div align=\"center\"><img src=\"https://haesunbyun.github.io/common/images/AIcoding.PNG\" width=400>\n",
    "</div>\n"
   ]
  },
  {
   "cell_type": "markdown",
   "metadata": {
    "id": "E9BfS4W5NrN1"
   },
   "source": [
    "### Practice-1: Chat-GPT로 서울인구데이터 활용해보기\n",
    "- 데이터 다운로드 사이트 : https://data.seoul.go.kr/\n",
    "- 검색어: 서울시 자치구별 인구수\n",
    "- 목표:\n",
    "  - 각 구별 한국인의 비율 구하기\n",
    "  - 각 구별 외국인의 비율 구하기\n",
    "  - 각 구별 고령자의 비율 구하기\n",
    "  - 인구수가 적은 순서대로 5개 구 출력하기\n",
    "  - 외국인 수 내림차순 정렬하기\n",
    "  - 고령자 비율 오름차순 정렬하기\n",
    "  - 인구수가 가장 많은 자치구와 인구수 최대값 구하기\n",
    "  - 인구수가 가장 적은 자치구와 인구수 최소값 구하기\n",
    "  - 인구수와 고령자수 간의 상관 관계 구하기"
   ]
  },
  {
   "cell_type": "markdown",
   "metadata": {
    "id": "sMff12i48Hj4"
   },
   "source": [
    "😄 필요한 칼럼만 불러와서 데이타프레임 생성하기\n",
    "- 다운로드한 파일을 열어서 아래의 옵션에 사용할 칼럼을 살펴본다.\n",
    "- header: 칼럼 이름 지정\n",
    "- index_col: index로 지정할 칼럼 지정\n",
    "- use_cols: 사용할 칼럼 지정\n",
    "\n",
    "\n"
   ]
  },
  {
   "cell_type": "code",
   "execution_count": null,
   "metadata": {
    "id": "n1yrB21iG4qo"
   },
   "outputs": [],
   "source": []
  },
  {
   "cell_type": "markdown",
   "metadata": {
    "id": "bpO_KdmC8qVR"
   },
   "source": [
    "😄 데이타프레임 칼럼명 변경하기\n"
   ]
  },
  {
   "cell_type": "code",
   "execution_count": null,
   "metadata": {
    "id": "8ZGylpFl8s05"
   },
   "outputs": [],
   "source": []
  },
  {
   "cell_type": "markdown",
   "metadata": {
    "id": "k-3Vrawd9aCB"
   },
   "source": [
    "😄 데이타프레임 인덱스 설정하기\n"
   ]
  },
  {
   "cell_type": "code",
   "execution_count": null,
   "metadata": {
    "id": "uDoen3_Q97ra"
   },
   "outputs": [],
   "source": []
  },
  {
   "cell_type": "markdown",
   "metadata": {
    "id": "QaaeBsO-98MJ"
   },
   "source": [
    "😄 불필요한 행 삭제하기\n"
   ]
  },
  {
   "cell_type": "code",
   "execution_count": null,
   "metadata": {
    "id": "XCHlf9FL-KIR"
   },
   "outputs": [],
   "source": []
  },
  {
   "cell_type": "markdown",
   "metadata": {
    "id": "0UNnQ9PuAIfq"
   },
   "source": [
    "😄 값 구하기\n",
    "```\n",
    "각 구별 한국인의 비율 구하기\n",
    "각 구별 외국인의 비율 구하기\n",
    "각 구별 고령자의 비율 구하기\n",
    "```"
   ]
  },
  {
   "cell_type": "code",
   "execution_count": null,
   "metadata": {
    "id": "v40URjw_kTBF"
   },
   "outputs": [],
   "source": []
  },
  {
   "cell_type": "markdown",
   "metadata": {
    "id": "nUjTHVI2BTFp"
   },
   "source": [
    "😄 값에 따라 정렬하기\n",
    "```\n",
    "- 인구수가 적은 순서대로 5개 구 출력하기\n",
    "- 외국인 수 내림차순 정렬하기\n",
    "- 고령자 비율 오름차순 정렬하기\n",
    "```"
   ]
  },
  {
   "cell_type": "code",
   "execution_count": null,
   "metadata": {
    "id": "jW3UP493BVz5"
   },
   "outputs": [],
   "source": []
  },
  {
   "cell_type": "code",
   "execution_count": null,
   "metadata": {
    "id": "9lJRc3MoloKD"
   },
   "outputs": [],
   "source": []
  },
  {
   "cell_type": "markdown",
   "metadata": {
    "id": "K1Vn31t53rU-"
   },
   "source": [
    "😄 데이타프레임 필요한 통계내기\n",
    "```\n",
    "- 인구수가 가장 많은 자치구와 인구수 최대값 구하기\n",
    "- 인구수가 가장 적은 자치구와 인구수 최소값 구하기\n",
    "- 인구수와 고령자수 간의 상관 관계 구하기\n",
    "```"
   ]
  },
  {
   "cell_type": "code",
   "execution_count": null,
   "metadata": {
    "id": "6FaCAhJnCI8Z"
   },
   "outputs": [],
   "source": []
  },
  {
   "cell_type": "code",
   "execution_count": null,
   "metadata": {
    "id": "irMXFGb9mEpP"
   },
   "outputs": [],
   "source": []
  },
  {
   "cell_type": "code",
   "execution_count": null,
   "metadata": {
    "id": "kMSwJhzdFGSB"
   },
   "outputs": [],
   "source": []
  },
  {
   "cell_type": "code",
   "execution_count": null,
   "metadata": {
    "id": "uNaU50odmed8"
   },
   "outputs": [],
   "source": []
  },
  {
   "cell_type": "code",
   "execution_count": null,
   "metadata": {
    "id": "g_epsi6vFOiW"
   },
   "outputs": [],
   "source": []
  },
  {
   "cell_type": "markdown",
   "metadata": {
    "id": "kDzabw71y57X"
   },
   "source": [
    "---\n",
    "<font color='Grey' size=\"4\">\n",
    "F37.101 컴퓨팅 기초: 처음 만나는 컴퓨팅(First Adventures in Computing)</font> 서울대학교 학부대학 변해선\n",
    "\n",
    "---\n"
   ]
  }
 ],
 "metadata": {
  "colab": {
   "provenance": [
    {
     "file_id": "1Wqoo6g-UF5F7OBCtrCUF1W_SeGG4VGM8",
     "timestamp": 1678443253117
    }
   ],
   "toc_visible": true
  },
  "kernelspec": {
   "display_name": "Python 3",
   "name": "python3"
  },
  "language_info": {
   "codemirror_mode": {
    "name": "ipython",
    "version": 3
   },
   "file_extension": ".py",
   "mimetype": "text/x-python",
   "name": "python",
   "nbconvert_exporter": "python",
   "pygments_lexer": "ipython3",
   "version": "3.7.4"
  }
 },
 "nbformat": 4,
 "nbformat_minor": 0
}