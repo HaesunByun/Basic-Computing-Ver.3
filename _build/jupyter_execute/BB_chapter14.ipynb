{
 "cells": [
  {
   "cell_type": "markdown",
   "metadata": {
    "id": "3SFM4wugjM5-"
   },
   "source": [
    "---\n",
    "<font color='Blue' size=\"4\">\n",
    "F37.101 컴퓨팅 기초: 처음 만나는 컴퓨팅(First Adventures in Computing)</font>\n",
    "\n",
    "---\n",
    "\n"
   ]
  },
  {
   "cell_type": "markdown",
   "metadata": {
    "id": "XTZE9XyNUb5Z"
   },
   "source": [
    "# Chapter 14. 종합 예제\n"
   ]
  },
  {
   "cell_type": "markdown",
   "metadata": {
    "id": "9QEvPDZugPzX"
   },
   "source": [
    ":::{admonition} 학습목표와 기대효과\n",
    ":class: info  \n",
    "- 학습목표\n",
    "  - CCTV와 인구수 데이터를 다뤄보고 분석하고 시각화해보자.\n",
    "\n",
    "- 기대효과\n",
    "  - 분석/처리한 데이터를 시각적으로 나타내어 효과적으로 설명할 수 있다.\n",
    "\n",
    ":::"
   ]
  },
  {
   "cell_type": "markdown",
   "metadata": {
    "id": "cW280ww2Op03"
   },
   "source": [
    "## 준비작업"
   ]
  },
  {
   "cell_type": "code",
   "execution_count": 1,
   "metadata": {
    "id": "3hLLVhgJXDbV"
   },
   "outputs": [
    {
     "name": "stderr",
     "output_type": "stream",
     "text": [
      "'sudo' is not recognized as an internal or external command,\n",
      "operable program or batch file.\n"
     ]
    },
    {
     "name": "stderr",
     "output_type": "stream",
     "text": [
      "'sudo' is not recognized as an internal or external command,\n",
      "operable program or batch file.\n"
     ]
    }
   ],
   "source": [
    "#1. 현재 셀 실행\n",
    "#2. 런타임 -> 런타임 다시 시작\n",
    "!sudo apt-get install -y fonts-nanum\n",
    "!sudo fc-cache -fv\n",
    "!rm ~/.cache/matplotlib -rf"
   ]
  },
  {
   "cell_type": "code",
   "execution_count": 2,
   "metadata": {
    "id": "GShDs3gBk9x-"
   },
   "outputs": [
    {
     "name": "stderr",
     "output_type": "stream",
     "text": [
      "D:\\users\\anaconda3\\lib\\site-packages\\statsmodels\\tools\\_testing.py:19: FutureWarning: pandas.util.testing is deprecated. Use the functions in the public API at pandas.testing instead.\n",
      "  import pandas.util.testing as tm\n"
     ]
    }
   ],
   "source": [
    "import matplotlib.pyplot as plt\n",
    "import seaborn as sns\n",
    "import pandas as pd\n",
    "import numpy as np"
   ]
  },
  {
   "cell_type": "code",
   "execution_count": 3,
   "metadata": {
    "id": "uRe2oIx18fSB"
   },
   "outputs": [],
   "source": [
    "plt.rc('font', family='NanumBarunGothic')"
   ]
  },
  {
   "cell_type": "code",
   "execution_count": 4,
   "metadata": {
    "id": "IfwqWiDgaRVN"
   },
   "outputs": [
    {
     "data": {
      "image/png": "[encoded data removed]",
      "text/plain": [
       "<Figure size 432x288 with 1 Axes>"
      ]
     },
     "metadata": {
      "needs_background": "light"
     },
     "output_type": "display_data"
    }
   ],
   "source": [
    "plt.text(0.3, 0.3, '한글', size=100)\n",
    "plt.show()"
   ]
  },
  {
   "cell_type": "markdown",
   "metadata": {
    "id": "KRlgMIpKfkgH"
   },
   "source": [
    "## 인구데이터 읽기"
   ]
  },
  {
   "cell_type": "markdown",
   "metadata": {
    "id": "zmGuakFzh5kn"
   },
   "source": [
    "- 인구데이터를 read_csv()로 읽어온다.\n",
    "- 옵션 sep는 데이터가 탭으로 분리되어 있으니 탭기준으로 칼럼을 읽어라는 의미이다.\n",
    "- 옵션 header는 칼럼명(칼럼 인덱스)를 지정하는 옵션으로 아래 코드에서는 2행을 칼럼명로 사용하겠다는 의미이다.\n",
    "- 옵션 usecols는 사용할 칼럼 번호를 지정하는 옵션으로 리스트안에 적힌 칼럼번호에 해당하는 칼럼만 사용하겠다는 의미이다.\n",
    "- 옵션 thousands는 숫자 데이터에 세자리마다 들어가 있는 컴마를 제거하고 읽으라는 의미이다. 컴마를 제거하지 않고 읽으면 문자열로 처리된다."
   ]
  },
  {
   "cell_type": "code",
   "execution_count": 5,
   "metadata": {
    "id": "YCP2V-8BrBlN"
   },
   "outputs": [
    {
     "data": {
      "text/html": [
       "<div>\n",
       "<style scoped>\n",
       "    .dataframe tbody tr th:only-of-type {\n",
       "        vertical-align: middle;\n",
       "    }\n",
       "\n",
       "    .dataframe tbody tr th {\n",
       "        vertical-align: top;\n",
       "    }\n",
       "\n",
       "    .dataframe thead th {\n",
       "        text-align: right;\n",
       "    }\n",
       "</style>\n",
       "<table border=\"1\" class=\"dataframe\">\n",
       "  <thead>\n",
       "    <tr style=\"text-align: right;\">\n",
       "      <th></th>\n",
       "      <th>자치구</th>\n",
       "      <th>계</th>\n",
       "      <th>계.1</th>\n",
       "      <th>계.2</th>\n",
       "      <th>65세이상고령자</th>\n",
       "    </tr>\n",
       "  </thead>\n",
       "  <tbody>\n",
       "    <tr>\n",
       "      <th>0</th>\n",
       "      <td>합계</td>\n",
       "      <td>10013781</td>\n",
       "      <td>9733655</td>\n",
       "      <td>280126</td>\n",
       "      <td>1518239</td>\n",
       "    </tr>\n",
       "    <tr>\n",
       "      <th>1</th>\n",
       "      <td>종로구</td>\n",
       "      <td>161984</td>\n",
       "      <td>151217</td>\n",
       "      <td>10767</td>\n",
       "      <td>28073</td>\n",
       "    </tr>\n",
       "    <tr>\n",
       "      <th>2</th>\n",
       "      <td>중구</td>\n",
       "      <td>136469</td>\n",
       "      <td>126175</td>\n",
       "      <td>10294</td>\n",
       "      <td>23794</td>\n",
       "    </tr>\n",
       "    <tr>\n",
       "      <th>3</th>\n",
       "      <td>용산구</td>\n",
       "      <td>246165</td>\n",
       "      <td>229579</td>\n",
       "      <td>16586</td>\n",
       "      <td>39439</td>\n",
       "    </tr>\n",
       "    <tr>\n",
       "      <th>4</th>\n",
       "      <td>성동구</td>\n",
       "      <td>307193</td>\n",
       "      <td>299042</td>\n",
       "      <td>8151</td>\n",
       "      <td>44728</td>\n",
       "    </tr>\n",
       "    <tr>\n",
       "      <th>5</th>\n",
       "      <td>광진구</td>\n",
       "      <td>365990</td>\n",
       "      <td>350417</td>\n",
       "      <td>15573</td>\n",
       "      <td>48989</td>\n",
       "    </tr>\n",
       "    <tr>\n",
       "      <th>6</th>\n",
       "      <td>동대문구</td>\n",
       "      <td>362793</td>\n",
       "      <td>346156</td>\n",
       "      <td>16637</td>\n",
       "      <td>60367</td>\n",
       "    </tr>\n",
       "    <tr>\n",
       "      <th>7</th>\n",
       "      <td>중랑구</td>\n",
       "      <td>400678</td>\n",
       "      <td>395619</td>\n",
       "      <td>5059</td>\n",
       "      <td>66764</td>\n",
       "    </tr>\n",
       "    <tr>\n",
       "      <th>8</th>\n",
       "      <td>성북구</td>\n",
       "      <td>454532</td>\n",
       "      <td>442494</td>\n",
       "      <td>12038</td>\n",
       "      <td>72172</td>\n",
       "    </tr>\n",
       "    <tr>\n",
       "      <th>9</th>\n",
       "      <td>강북구</td>\n",
       "      <td>316750</td>\n",
       "      <td>312985</td>\n",
       "      <td>3765</td>\n",
       "      <td>61660</td>\n",
       "    </tr>\n",
       "    <tr>\n",
       "      <th>10</th>\n",
       "      <td>도봉구</td>\n",
       "      <td>333495</td>\n",
       "      <td>331238</td>\n",
       "      <td>2257</td>\n",
       "      <td>60023</td>\n",
       "    </tr>\n",
       "    <tr>\n",
       "      <th>11</th>\n",
       "      <td>노원구</td>\n",
       "      <td>535495</td>\n",
       "      <td>531037</td>\n",
       "      <td>4458</td>\n",
       "      <td>82682</td>\n",
       "    </tr>\n",
       "    <tr>\n",
       "      <th>12</th>\n",
       "      <td>은평구</td>\n",
       "      <td>482509</td>\n",
       "      <td>478019</td>\n",
       "      <td>4490</td>\n",
       "      <td>82245</td>\n",
       "    </tr>\n",
       "    <tr>\n",
       "      <th>13</th>\n",
       "      <td>서대문구</td>\n",
       "      <td>325875</td>\n",
       "      <td>312642</td>\n",
       "      <td>13233</td>\n",
       "      <td>53038</td>\n",
       "    </tr>\n",
       "    <tr>\n",
       "      <th>14</th>\n",
       "      <td>마포구</td>\n",
       "      <td>386086</td>\n",
       "      <td>374570</td>\n",
       "      <td>11516</td>\n",
       "      <td>53283</td>\n",
       "    </tr>\n",
       "    <tr>\n",
       "      <th>15</th>\n",
       "      <td>양천구</td>\n",
       "      <td>460532</td>\n",
       "      <td>456339</td>\n",
       "      <td>4193</td>\n",
       "      <td>62761</td>\n",
       "    </tr>\n",
       "    <tr>\n",
       "      <th>16</th>\n",
       "      <td>강서구</td>\n",
       "      <td>595703</td>\n",
       "      <td>589302</td>\n",
       "      <td>6401</td>\n",
       "      <td>85992</td>\n",
       "    </tr>\n",
       "    <tr>\n",
       "      <th>17</th>\n",
       "      <td>구로구</td>\n",
       "      <td>438308</td>\n",
       "      <td>405837</td>\n",
       "      <td>32471</td>\n",
       "      <td>67432</td>\n",
       "    </tr>\n",
       "    <tr>\n",
       "      <th>18</th>\n",
       "      <td>금천구</td>\n",
       "      <td>251370</td>\n",
       "      <td>232583</td>\n",
       "      <td>18787</td>\n",
       "      <td>38508</td>\n",
       "    </tr>\n",
       "    <tr>\n",
       "      <th>19</th>\n",
       "      <td>영등포구</td>\n",
       "      <td>404766</td>\n",
       "      <td>371903</td>\n",
       "      <td>32863</td>\n",
       "      <td>59373</td>\n",
       "    </tr>\n",
       "    <tr>\n",
       "      <th>20</th>\n",
       "      <td>동작구</td>\n",
       "      <td>407802</td>\n",
       "      <td>395014</td>\n",
       "      <td>12788</td>\n",
       "      <td>63378</td>\n",
       "    </tr>\n",
       "    <tr>\n",
       "      <th>21</th>\n",
       "      <td>관악구</td>\n",
       "      <td>516662</td>\n",
       "      <td>499374</td>\n",
       "      <td>17288</td>\n",
       "      <td>76664</td>\n",
       "    </tr>\n",
       "    <tr>\n",
       "      <th>22</th>\n",
       "      <td>서초구</td>\n",
       "      <td>434801</td>\n",
       "      <td>430568</td>\n",
       "      <td>4233</td>\n",
       "      <td>58332</td>\n",
       "    </tr>\n",
       "    <tr>\n",
       "      <th>23</th>\n",
       "      <td>강남구</td>\n",
       "      <td>549898</td>\n",
       "      <td>544804</td>\n",
       "      <td>5094</td>\n",
       "      <td>72602</td>\n",
       "    </tr>\n",
       "    <tr>\n",
       "      <th>24</th>\n",
       "      <td>송파구</td>\n",
       "      <td>680883</td>\n",
       "      <td>674095</td>\n",
       "      <td>6788</td>\n",
       "      <td>89539</td>\n",
       "    </tr>\n",
       "    <tr>\n",
       "      <th>25</th>\n",
       "      <td>강동구</td>\n",
       "      <td>457042</td>\n",
       "      <td>452646</td>\n",
       "      <td>4396</td>\n",
       "      <td>66401</td>\n",
       "    </tr>\n",
       "  </tbody>\n",
       "</table>\n",
       "</div>"
      ],
      "text/plain": [
       "     자치구         계      계.1     계.2  65세이상고령자\n",
       "0     합계  10013781  9733655  280126   1518239\n",
       "1    종로구    161984   151217   10767     28073\n",
       "2     중구    136469   126175   10294     23794\n",
       "3    용산구    246165   229579   16586     39439\n",
       "4    성동구    307193   299042    8151     44728\n",
       "5    광진구    365990   350417   15573     48989\n",
       "6   동대문구    362793   346156   16637     60367\n",
       "7    중랑구    400678   395619    5059     66764\n",
       "8    성북구    454532   442494   12038     72172\n",
       "9    강북구    316750   312985    3765     61660\n",
       "10   도봉구    333495   331238    2257     60023\n",
       "11   노원구    535495   531037    4458     82682\n",
       "12   은평구    482509   478019    4490     82245\n",
       "13  서대문구    325875   312642   13233     53038\n",
       "14   마포구    386086   374570   11516     53283\n",
       "15   양천구    460532   456339    4193     62761\n",
       "16   강서구    595703   589302    6401     85992\n",
       "17   구로구    438308   405837   32471     67432\n",
       "18   금천구    251370   232583   18787     38508\n",
       "19  영등포구    404766   371903   32863     59373\n",
       "20   동작구    407802   395014   12788     63378\n",
       "21   관악구    516662   499374   17288     76664\n",
       "22   서초구    434801   430568    4233     58332\n",
       "23   강남구    549898   544804    5094     72602\n",
       "24   송파구    680883   674095    6788     89539\n",
       "25   강동구    457042   452646    4396     66401"
      ]
     },
     "execution_count": 5,
     "metadata": {},
     "output_type": "execute_result"
    }
   ],
   "source": [
    "import pandas as pd\n",
    "\n",
    "url = 'https://raw.githubusercontent.com/HaesunByun/common/main/data/population_in_Seoul.txt'\n",
    "pop_Seoul = pd.read_csv(url, sep = '\\t',header = 2, usecols = [1, 3, 6, 9, 13],thousands =',')\n",
    "\n",
    "pop_Seoul"
   ]
  },
  {
   "cell_type": "markdown",
   "metadata": {
    "id": "PtSLaY3WjUKv"
   },
   "source": [
    "- 데이터프레임을 확인해보고 어떤 작업이 필요한지 생각해보자.\n"
   ]
  },
  {
   "cell_type": "markdown",
   "metadata": {
    "id": "xdWRQaL0jcPW"
   },
   "source": [
    "- 칼럼명을 변경해줘야 할 필요가 있다. 아래와 같이 칼럼명을 변경해주자.\n",
    "```\n",
    "'지역구', '인구수', '한국인', '외국인', '고령자'\n",
    "```"
   ]
  },
  {
   "cell_type": "code",
   "execution_count": null,
   "metadata": {
    "id": "PJkw8q08E-cT"
   },
   "outputs": [],
   "source": []
  },
  {
   "cell_type": "markdown",
   "metadata": {
    "id": "r7sQsHxfjniv"
   },
   "source": [
    "- .set_index()함수로 '지역구' 열을 인덱스로 지정해보자. 또한 inplace 옵션을 True로 줘서 원본 데이터프레임에 바로 업데이트해보자."
   ]
  },
  {
   "cell_type": "code",
   "execution_count": null,
   "metadata": {
    "id": "ERJrz6ZbjoIP"
   },
   "outputs": [],
   "source": []
  },
  {
   "cell_type": "markdown",
   "metadata": {
    "id": "RfFbYbOBnBif"
   },
   "source": [
    "- 자치구 인구수 대비 CCTV수를 분석하기 위한 작업이므로 index 0에 있는 '합계' 행은 필요하지 않은 데이터인것 같다. 삭제하자. 또한 inplace 옵션을 True로 줘서 원본 데이터프레임에 바로 업데이트해보자."
   ]
  },
  {
   "cell_type": "code",
   "execution_count": null,
   "metadata": {
    "id": "8QGGeCPWgsX4"
   },
   "outputs": [],
   "source": []
  },
  {
   "cell_type": "markdown",
   "metadata": {
    "id": "xceKi5U-g2Ju"
   },
   "source": [
    "## CCTV 데이터 읽기"
   ]
  },
  {
   "cell_type": "code",
   "execution_count": 6,
   "metadata": {
    "id": "WzNxHGB8sGIR"
   },
   "outputs": [
    {
     "data": {
      "text/html": [
       "<div>\n",
       "<style scoped>\n",
       "    .dataframe tbody tr th:only-of-type {\n",
       "        vertical-align: middle;\n",
       "    }\n",
       "\n",
       "    .dataframe tbody tr th {\n",
       "        vertical-align: top;\n",
       "    }\n",
       "\n",
       "    .dataframe thead th {\n",
       "        text-align: right;\n",
       "    }\n",
       "</style>\n",
       "<table border=\"1\" class=\"dataframe\">\n",
       "  <thead>\n",
       "    <tr style=\"text-align: right;\">\n",
       "      <th></th>\n",
       "      <th>Unnamed: 0</th>\n",
       "      <th>기관명</th>\n",
       "      <th>소계</th>\n",
       "      <th>2017년도이전</th>\n",
       "      <th>2018년</th>\n",
       "      <th>2019년</th>\n",
       "      <th>2020년</th>\n",
       "    </tr>\n",
       "  </thead>\n",
       "  <tbody>\n",
       "    <tr>\n",
       "      <th>0</th>\n",
       "      <td>0</td>\n",
       "      <td>강남구</td>\n",
       "      <td>2780</td>\n",
       "      <td>1292</td>\n",
       "      <td>430</td>\n",
       "      <td>584</td>\n",
       "      <td>932</td>\n",
       "    </tr>\n",
       "    <tr>\n",
       "      <th>1</th>\n",
       "      <td>1</td>\n",
       "      <td>강동구</td>\n",
       "      <td>773</td>\n",
       "      <td>379</td>\n",
       "      <td>99</td>\n",
       "      <td>155</td>\n",
       "      <td>377</td>\n",
       "    </tr>\n",
       "    <tr>\n",
       "      <th>2</th>\n",
       "      <td>2</td>\n",
       "      <td>강북구</td>\n",
       "      <td>748</td>\n",
       "      <td>369</td>\n",
       "      <td>120</td>\n",
       "      <td>138</td>\n",
       "      <td>204</td>\n",
       "    </tr>\n",
       "    <tr>\n",
       "      <th>3</th>\n",
       "      <td>3</td>\n",
       "      <td>강서구</td>\n",
       "      <td>884</td>\n",
       "      <td>388</td>\n",
       "      <td>258</td>\n",
       "      <td>184</td>\n",
       "      <td>81</td>\n",
       "    </tr>\n",
       "    <tr>\n",
       "      <th>4</th>\n",
       "      <td>4</td>\n",
       "      <td>관악구</td>\n",
       "      <td>1496</td>\n",
       "      <td>846</td>\n",
       "      <td>260</td>\n",
       "      <td>390</td>\n",
       "      <td>613</td>\n",
       "    </tr>\n",
       "    <tr>\n",
       "      <th>5</th>\n",
       "      <td>5</td>\n",
       "      <td>광진구</td>\n",
       "      <td>707</td>\n",
       "      <td>573</td>\n",
       "      <td>78</td>\n",
       "      <td>53</td>\n",
       "      <td>174</td>\n",
       "    </tr>\n",
       "    <tr>\n",
       "      <th>6</th>\n",
       "      <td>6</td>\n",
       "      <td>구로구</td>\n",
       "      <td>1561</td>\n",
       "      <td>1142</td>\n",
       "      <td>173</td>\n",
       "      <td>246</td>\n",
       "      <td>323</td>\n",
       "    </tr>\n",
       "    <tr>\n",
       "      <th>7</th>\n",
       "      <td>7</td>\n",
       "      <td>금천구</td>\n",
       "      <td>1015</td>\n",
       "      <td>674</td>\n",
       "      <td>51</td>\n",
       "      <td>269</td>\n",
       "      <td>354</td>\n",
       "    </tr>\n",
       "    <tr>\n",
       "      <th>8</th>\n",
       "      <td>8</td>\n",
       "      <td>노원구</td>\n",
       "      <td>1265</td>\n",
       "      <td>542</td>\n",
       "      <td>57</td>\n",
       "      <td>451</td>\n",
       "      <td>516</td>\n",
       "    </tr>\n",
       "    <tr>\n",
       "      <th>9</th>\n",
       "      <td>9</td>\n",
       "      <td>도봉구</td>\n",
       "      <td>485</td>\n",
       "      <td>238</td>\n",
       "      <td>159</td>\n",
       "      <td>42</td>\n",
       "      <td>386</td>\n",
       "    </tr>\n",
       "    <tr>\n",
       "      <th>10</th>\n",
       "      <td>10</td>\n",
       "      <td>동대문구</td>\n",
       "      <td>1294</td>\n",
       "      <td>1070</td>\n",
       "      <td>23</td>\n",
       "      <td>198</td>\n",
       "      <td>579</td>\n",
       "    </tr>\n",
       "    <tr>\n",
       "      <th>11</th>\n",
       "      <td>11</td>\n",
       "      <td>동작구</td>\n",
       "      <td>1091</td>\n",
       "      <td>544</td>\n",
       "      <td>341</td>\n",
       "      <td>103</td>\n",
       "      <td>314</td>\n",
       "    </tr>\n",
       "    <tr>\n",
       "      <th>12</th>\n",
       "      <td>12</td>\n",
       "      <td>마포구</td>\n",
       "      <td>574</td>\n",
       "      <td>314</td>\n",
       "      <td>118</td>\n",
       "      <td>169</td>\n",
       "      <td>379</td>\n",
       "    </tr>\n",
       "    <tr>\n",
       "      <th>13</th>\n",
       "      <td>13</td>\n",
       "      <td>서대문구</td>\n",
       "      <td>962</td>\n",
       "      <td>844</td>\n",
       "      <td>50</td>\n",
       "      <td>68</td>\n",
       "      <td>292</td>\n",
       "    </tr>\n",
       "    <tr>\n",
       "      <th>14</th>\n",
       "      <td>14</td>\n",
       "      <td>서초구</td>\n",
       "      <td>1930</td>\n",
       "      <td>1406</td>\n",
       "      <td>157</td>\n",
       "      <td>336</td>\n",
       "      <td>398</td>\n",
       "    </tr>\n",
       "    <tr>\n",
       "      <th>15</th>\n",
       "      <td>15</td>\n",
       "      <td>성동구</td>\n",
       "      <td>1062</td>\n",
       "      <td>730</td>\n",
       "      <td>91</td>\n",
       "      <td>241</td>\n",
       "      <td>265</td>\n",
       "    </tr>\n",
       "    <tr>\n",
       "      <th>16</th>\n",
       "      <td>16</td>\n",
       "      <td>성북구</td>\n",
       "      <td>1464</td>\n",
       "      <td>1009</td>\n",
       "      <td>78</td>\n",
       "      <td>360</td>\n",
       "      <td>204</td>\n",
       "    </tr>\n",
       "    <tr>\n",
       "      <th>17</th>\n",
       "      <td>17</td>\n",
       "      <td>송파구</td>\n",
       "      <td>618</td>\n",
       "      <td>529</td>\n",
       "      <td>21</td>\n",
       "      <td>68</td>\n",
       "      <td>463</td>\n",
       "    </tr>\n",
       "    <tr>\n",
       "      <th>18</th>\n",
       "      <td>18</td>\n",
       "      <td>양천구</td>\n",
       "      <td>2034</td>\n",
       "      <td>1843</td>\n",
       "      <td>142</td>\n",
       "      <td>30</td>\n",
       "      <td>467</td>\n",
       "    </tr>\n",
       "    <tr>\n",
       "      <th>19</th>\n",
       "      <td>19</td>\n",
       "      <td>영등포구</td>\n",
       "      <td>904</td>\n",
       "      <td>495</td>\n",
       "      <td>214</td>\n",
       "      <td>195</td>\n",
       "      <td>373</td>\n",
       "    </tr>\n",
       "    <tr>\n",
       "      <th>20</th>\n",
       "      <td>20</td>\n",
       "      <td>용산구</td>\n",
       "      <td>1624</td>\n",
       "      <td>1368</td>\n",
       "      <td>218</td>\n",
       "      <td>112</td>\n",
       "      <td>398</td>\n",
       "    </tr>\n",
       "    <tr>\n",
       "      <th>21</th>\n",
       "      <td>21</td>\n",
       "      <td>은평구</td>\n",
       "      <td>1873</td>\n",
       "      <td>1138</td>\n",
       "      <td>224</td>\n",
       "      <td>278</td>\n",
       "      <td>468</td>\n",
       "    </tr>\n",
       "    <tr>\n",
       "      <th>22</th>\n",
       "      <td>22</td>\n",
       "      <td>종로구</td>\n",
       "      <td>1002</td>\n",
       "      <td>464</td>\n",
       "      <td>314</td>\n",
       "      <td>211</td>\n",
       "      <td>630</td>\n",
       "    </tr>\n",
       "    <tr>\n",
       "      <th>23</th>\n",
       "      <td>23</td>\n",
       "      <td>중구</td>\n",
       "      <td>671</td>\n",
       "      <td>413</td>\n",
       "      <td>190</td>\n",
       "      <td>72</td>\n",
       "      <td>348</td>\n",
       "    </tr>\n",
       "    <tr>\n",
       "      <th>24</th>\n",
       "      <td>24</td>\n",
       "      <td>중랑구</td>\n",
       "      <td>660</td>\n",
       "      <td>509</td>\n",
       "      <td>121</td>\n",
       "      <td>177</td>\n",
       "      <td>109</td>\n",
       "    </tr>\n",
       "  </tbody>\n",
       "</table>\n",
       "</div>"
      ],
      "text/plain": [
       "    Unnamed: 0   기관명    소계  2017년도이전  2018년  2019년  2020년\n",
       "0            0   강남구  2780      1292    430    584    932\n",
       "1            1   강동구   773       379     99    155    377\n",
       "2            2   강북구   748       369    120    138    204\n",
       "3            3   강서구   884       388    258    184     81\n",
       "4            4   관악구  1496       846    260    390    613\n",
       "5            5   광진구   707       573     78     53    174\n",
       "6            6   구로구  1561      1142    173    246    323\n",
       "7            7   금천구  1015       674     51    269    354\n",
       "8            8   노원구  1265       542     57    451    516\n",
       "9            9   도봉구   485       238    159     42    386\n",
       "10          10  동대문구  1294      1070     23    198    579\n",
       "11          11   동작구  1091       544    341    103    314\n",
       "12          12   마포구   574       314    118    169    379\n",
       "13          13  서대문구   962       844     50     68    292\n",
       "14          14   서초구  1930      1406    157    336    398\n",
       "15          15   성동구  1062       730     91    241    265\n",
       "16          16   성북구  1464      1009     78    360    204\n",
       "17          17   송파구   618       529     21     68    463\n",
       "18          18   양천구  2034      1843    142     30    467\n",
       "19          19  영등포구   904       495    214    195    373\n",
       "20          20   용산구  1624      1368    218    112    398\n",
       "21          21   은평구  1873      1138    224    278    468\n",
       "22          22   종로구  1002       464    314    211    630\n",
       "23          23    중구   671       413    190     72    348\n",
       "24          24   중랑구   660       509    121    177    109"
      ]
     },
     "execution_count": 6,
     "metadata": {},
     "output_type": "execute_result"
    }
   ],
   "source": [
    "url = 'https://raw.githubusercontent.com/HaesunByun/common/main/data/CCTV_in_Seoul.csv'\n",
    "CCTV_Seoul = pd.read_csv(url)\n",
    "CCTV_Seoul"
   ]
  },
  {
   "cell_type": "markdown",
   "metadata": {
    "id": "c-bmC3H1dLbf"
   },
   "source": [
    "- 데이터프레임을 확인해보고 어떤 작업이 필요한지 생각해보자.\n"
   ]
  },
  {
   "cell_type": "markdown",
   "metadata": {
    "id": "n0oF28-t1Foc"
   },
   "source": [
    "- '기관명'을 인덱스로 지정해보자. 또한 inplace 옵션을 True로 줘서 원본 데이터프레임에 바로 업데이트해보자."
   ]
  },
  {
   "cell_type": "code",
   "execution_count": null,
   "metadata": {
    "id": "S4NXgtlE3j75"
   },
   "outputs": [],
   "source": []
  },
  {
   "cell_type": "markdown",
   "metadata": {
    "id": "R26jRo_whHmZ"
   },
   "source": [
    "## 데이터 합치기"
   ]
  },
  {
   "cell_type": "markdown",
   "metadata": {
    "id": "EfmoGJw91bZE"
   },
   "source": [
    "- CCTV_Seoul의 '소계'열 데이터를 pop_Seoul의 'CCTV수' 열에 저장하여 데이터를 합쳐보자."
   ]
  },
  {
   "cell_type": "code",
   "execution_count": null,
   "metadata": {
    "id": "17xp5HPtvKh3"
   },
   "outputs": [],
   "source": []
  },
  {
   "cell_type": "markdown",
   "metadata": {
    "id": "tus8nlZv8BC8"
   },
   "source": [
    "## 합친 데이터 저장하고 불러오기"
   ]
  },
  {
   "cell_type": "markdown",
   "metadata": {
    "id": "cby1hjwGJqyA"
   },
   "source": [
    "- to_csv('파일명')로 합친 데이터를 저장하자. 파일명은 'CCTVnPop_in_Seoul.csv'로 한다.\n",
    "- 이렇게 전처리 작업을 거친 데이터프레임을 다음 사용을 위해 저장해 놓은 후 다운로드 받아 놓으면 추후에 동일 작업을 하지 않아도 된다."
   ]
  },
  {
   "cell_type": "code",
   "execution_count": null,
   "metadata": {
    "id": "AnCS2lS-I79L"
   },
   "outputs": [],
   "source": []
  },
  {
   "cell_type": "markdown",
   "metadata": {
    "id": "OhXpux2zKTfi"
   },
   "source": [
    "- 저장한 파일을 read_csv()로 불러와보자. 불러온 후, set_index()로 인덱스를 지정할 수 있지만, 파일을 불러올 때 index_col 옵션으로 인덱스를 지정할 수도 있다.\n",
    "```\n",
    "df = pd.read_csv('CCTVnPop_in_Seoul.csv', index_col = 0)\n",
    "df\n",
    "```"
   ]
  },
  {
   "cell_type": "code",
   "execution_count": null,
   "metadata": {
    "id": "zVvKKq-AJBu_"
   },
   "outputs": [],
   "source": []
  },
  {
   "cell_type": "markdown",
   "metadata": {
    "id": "OIzqwrHbhaUn"
   },
   "source": [
    "## 데이터 분석"
   ]
  },
  {
   "cell_type": "markdown",
   "metadata": {
    "id": "h57AUuokL6IU"
   },
   "source": [
    "- numpy의 corrcoef()함수를 통해 '인구수'와 'CCTV수'와의 상관계수를 확인해보자.\n",
    "- corrcoef() 괄호안에 상관계수를 확인하고자 하는 칼럼의 이름을 명시한다.\n",
    "```\n",
    "import numpy as np\n",
    "print (np.corrcoef(df['인구수'], df['CCTV수']))\n",
    "```"
   ]
  },
  {
   "cell_type": "code",
   "execution_count": null,
   "metadata": {
    "id": "ckTDOsdex9QW"
   },
   "outputs": [],
   "source": []
  },
  {
   "cell_type": "markdown",
   "metadata": {
    "id": "zlZD9RZFNMfV"
   },
   "source": [
    "- corr()함수는 모든 칼럼 간의 상관 계수를 매트릭스 형태로 반환하는 함수이다.\n",
    "```\n",
    "df.corr()\n",
    "```"
   ]
  },
  {
   "cell_type": "code",
   "execution_count": null,
   "metadata": {
    "id": "3H9Wu-UNyYdt"
   },
   "outputs": [],
   "source": []
  },
  {
   "cell_type": "markdown",
   "metadata": {
    "id": "sD9gNhz-lbKV"
   },
   "source": [
    "## 데이터 시각화"
   ]
  },
  {
   "cell_type": "markdown",
   "metadata": {
    "id": "Z2KWybwjEr_g"
   },
   "source": [
    "### CCTV수의 시각화\n",
    "- 자치구별 'CCTV수'를 수평막대 그래프로 그려보자."
   ]
  },
  {
   "cell_type": "markdown",
   "metadata": {
    "id": "gceQDPIOaiPL"
   },
   "source": [
    "- color_palette()함수로 사용할 팔레트와 색 갯수를 지정한다.\n",
    "- 팔레트 이름은 다음 링크를 통해 확인 할 수 있다. https://seaborn.pydata.org/tutorial/color_palettes.html\n",
    "```\n",
    "import matplotlib.pyplot as plt\n",
    "import seaborn as sns\n",
    "colors=sns.color_palette(palette='hls', n_colors=len(df.index))\n",
    "df['CCTV수'].plot(kind='barh', grid = True, color=colors)\n",
    "plt.show()\n",
    "```"
   ]
  },
  {
   "cell_type": "code",
   "execution_count": null,
   "metadata": {
    "id": "3Hwau10_1kBc"
   },
   "outputs": [],
   "source": []
  },
  {
   "cell_type": "markdown",
   "metadata": {
    "id": "7dUHl-fjR3XN"
   },
   "source": [
    "- 정렬한 가로막대 그래프로 그려보자. 정렬은 sort_values()로 할 수 있다.\n",
    "```\n",
    "df['CCTV수'].sort_values().plot(kind='barh', grid = True, color=colors)\n",
    "plt.show()\n",
    "```"
   ]
  },
  {
   "cell_type": "code",
   "execution_count": null,
   "metadata": {
    "id": "oGv5mjCTp_ey"
   },
   "outputs": [],
   "source": []
  },
  {
   "cell_type": "markdown",
   "metadata": {
    "id": "ttSyp0DQEwnU"
   },
   "source": [
    "### 인구수와 CCTV수의 시각화\n",
    "- '인구수'와 'CCTV수'로 산포도 그래프를 그려보자.\n",
    "```\n",
    "plt.figure(figsize=(10,8))\n",
    "plt.scatter(df['인구수'], df['CCTV수'], s = 50)\n",
    "plt.xlabel('인구수')\n",
    "plt.ylabel('CCTV수')\n",
    "plt.grid()\n",
    "plt.show()\n",
    "```"
   ]
  },
  {
   "cell_type": "code",
   "execution_count": null,
   "metadata": {
    "id": "ViKYhuHX_agC"
   },
   "outputs": [],
   "source": []
  },
  {
   "cell_type": "markdown",
   "metadata": {
    "id": "PqowGSgddexW"
   },
   "source": [
    "### 인구수 대비 CCTV 기준선 긋기\n",
    "- 인구수 대비 적정 CCTV 수 의 기준선을 그어보자.\n",
    "- numpy의 polyfit(a, b, n)함수는 두 데이터 a, b를 대표하는 n차 방정식의 계수를 구하는 함수이다.\n",
    "- '인구수'와 'CCTV수'를 대표하는 1차 방정식의 계수를 구해보자.\n",
    "```\n",
    "fp = np.polyfit(df['인구수'], df['CCTV수'], 1)\n",
    "print(fp)\n",
    "```"
   ]
  },
  {
   "cell_type": "code",
   "execution_count": null,
   "metadata": {
    "id": "y9yMsikgnUR_"
   },
   "outputs": [],
   "source": []
  },
  {
   "cell_type": "markdown",
   "metadata": {
    "id": "cRfYEgnde73C"
   },
   "source": [
    "- 앞에서 구한 계수를 numpy의 poly1d()함수의 전달인자로 넣어주면 1차 다항식 함수를 구할 수 있다.\n",
    "- poly1d()는 1차 다항식을 만들어 주는 함수이다.\n",
    "```\n",
    "f = np.poly1d(fp)\n",
    "print(f)\n",
    "```"
   ]
  },
  {
   "cell_type": "code",
   "execution_count": null,
   "metadata": {
    "id": "vipLGJ1WzbeG"
   },
   "outputs": [],
   "source": []
  },
  {
   "cell_type": "markdown",
   "metadata": {
    "id": "repSEya1ig95"
   },
   "source": [
    "- df['인구수']와 df['CCTV수']를 대표하는 다항식 함수 f를 구했으므로 그 f에 인구수를 넣어보자.\n",
    "- f에 넣을 인구수를 일정한 간격으로 만들기 위해 numpy의 linspace()함수로 일정한 간격으로 등분한 배열을 만든다.\n",
    "- linspace()함수로 100000부터 700000까지 100개로 등분한 배열을 만들어 x축 데이터로 사용하자.\n",
    "- 여기서 100000~700000를 범위로 준 이유는 인구수가 가장 낮은 지역구가 136469, 가장 높은 지역구가 680883이기 때문이다.\n",
    "```\n",
    "fx = np.linspace(100000, 700000, 100)\n",
    "print(fx)\n",
    "```"
   ]
  },
  {
   "cell_type": "code",
   "execution_count": null,
   "metadata": {
    "id": "fhMMOzFUzfa-"
   },
   "outputs": [],
   "source": []
  },
  {
   "cell_type": "markdown",
   "metadata": {
    "id": "EQoghn7JkTVx"
   },
   "source": [
    "- 등분배열 fx를 x의 값으로 주고, 위에서 만든 함수 f에 fx를 넣어 y의 값을 계산한다. x와 y가 만나는 좌표에 점을 찍은 후, 선으로 이어 선그래프를 그려보자.\n",
    "- 옵션 ls는 line style, lw는 line width이다.\n",
    "```\n",
    "plt.plot(fx, f(fx), ls='dashed', lw=3, color='g')\n",
    "plt.xlabel('인구수')\n",
    "plt.ylabel('CCTV수')\n",
    "plt.show()\n",
    "```"
   ]
  },
  {
   "cell_type": "code",
   "execution_count": null,
   "metadata": {
    "id": "jahYMBVBziIB"
   },
   "outputs": [],
   "source": []
  },
  {
   "cell_type": "markdown",
   "metadata": {
    "id": "epcqkOWTlYO0"
   },
   "source": [
    "- 인구수 대비 CCTV수의 기준선(대표직선) 그래프와 산포도 그래프를 같이 나타내보자.\n",
    "```\n",
    "plt.figure(figsize=(10,8))\n",
    "plt.scatter(df['인구수'], df['CCTV수'], s = 50)\n",
    "plt.plot(fx, f(fx), ls='dashed', lw=3, color='g')\n",
    "plt.xlabel('인구수')\n",
    "plt.ylabel('CCTV수')\n",
    "plt.grid()\n",
    "plt.show()\n",
    "```"
   ]
  },
  {
   "cell_type": "code",
   "execution_count": null,
   "metadata": {
    "id": "p5zGY1U-zSUB"
   },
   "outputs": [],
   "source": []
  },
  {
   "cell_type": "markdown",
   "metadata": {
    "id": "3qkRabsVlity"
   },
   "source": [
    "- 실제 CCTV수와 실 인구수 대비 기준이 되는 CCTV수의 오차를 계산해보자.\n",
    "- 실 인구수 대비 CCTV수는 다음과 같이 구할 수 있다. 앞에서 구한 1차 다항식 f함수에 실 '인구수'를 넣으면 실 인구수 대비 적정 CCTV수가 나온다.\n",
    "```\n",
    "f(df['인구수'])\n",
    "```\n",
    "- 실 'CCTV수'에서 실 인구수 대비 적정 CCTV수를 빼면 그 오차를 구할 수 있다.\n",
    "- 실 'CCTV수'가 적정 CCTV수보다 많을 수도, 혹은 적을 수도 있으므로 오차를 계산하기 위해 절대값을 취한다.\n",
    "```\n",
    "df['오차'] = np.abs(df['CCTV수'] - f(df['인구수']))\n",
    "df.head(5)\n",
    "```"
   ]
  },
  {
   "cell_type": "code",
   "execution_count": null,
   "metadata": {
    "id": "pnfxDcNHtm0J"
   },
   "outputs": [],
   "source": []
  },
  {
   "cell_type": "markdown",
   "metadata": {
    "id": "2LnB6EQeUt9C"
   },
   "source": [
    "- 오차가 큰 상위 10개구를 확인해보기 위해 내림차순으로 정렬해보자.\n",
    "```\n",
    "df.sort_values(by='오차', ascending=False, inplace = True)\n",
    "df.head(5)\n",
    "```"
   ]
  },
  {
   "cell_type": "code",
   "execution_count": null,
   "metadata": {
    "id": "LmS5S4npUr_C"
   },
   "outputs": [],
   "source": []
  },
  {
   "cell_type": "markdown",
   "metadata": {
    "id": "dIN1jdb9FBSE"
   },
   "source": [
    "### 상위 10개구 구이름 표시하기\n",
    "- 오차가 큰 상위 10개구에 해당하는 산포도 점 위치에 구이름을 표시해보자.\n",
    "```\n",
    "plt.figure(figsize=(10,8))\n",
    "plt.scatter(df['인구수'], df['CCTV수'], s = 50)\n",
    "plt.plot(fx, f(fx), ls='dashed', lw=3, color='g')\n",
    "for n in range(10):\n",
    "  plt.text(df['인구수'][n], df['CCTV수'][n]-100, df.index[n], fontsize = 10)\n",
    "plt.xlabel('인구수')\n",
    "plt.ylabel('CCTV수')\n",
    "plt.grid()\n",
    "plt.show()\n",
    "```"
   ]
  },
  {
   "cell_type": "code",
   "execution_count": null,
   "metadata": {
    "id": "UYSb3f5j5Ccz"
   },
   "outputs": [],
   "source": []
  },
  {
   "cell_type": "markdown",
   "metadata": {
    "id": "lKJAVvgWFHl2"
   },
   "source": [
    "### colorbar 추가\n",
    "- 오차데이터를 색과 연결하여 colorbar()를 생성해보자.\n",
    "- scatter 그래프에서 c = df['오차']와 같이 컬러(c) 옵션을 오차 데이터와 연동시켜준다.\n",
    "```\n",
    "plt.scatter(df['인구수'], df['CCTV수'], s = 50, c = df['오차'])\n",
    "```\n",
    "그런 후에 colorbar()를 보이게 한다.\n",
    "```\n",
    "plt.colorbar()\n",
    "```\n",
    "plt.colorbar()까지 추가한 코드는 다음과 같다.\n",
    "```\n",
    "plt.figure(figsize=(10,8))\n",
    "plt.scatter(df['인구수'], df['CCTV수'], s = 50, c = df['오차'])\n",
    "plt.plot(fx, f(fx), ls='dashed', lw=3, color='g')\n",
    "for n in range(10):\n",
    "  plt.text(df['인구수'][n], df['CCTV수'][n]-100, df.index[n], fontsize = 10)\n",
    "plt.colorbar()\n",
    "plt.xlabel('인구수')\n",
    "plt.ylabel('CCTV수')\n",
    "plt.grid()\n",
    "plt.show()\n",
    "```"
   ]
  },
  {
   "cell_type": "code",
   "execution_count": null,
   "metadata": {
    "id": "rCnFZM6usuSr"
   },
   "outputs": [],
   "source": []
  },
  {
   "cell_type": "markdown",
   "metadata": {
    "id": "KoawhKYbJ8Wf"
   },
   "source": [
    "## 마무리\n",
    "- 인구수 데이터와 CCTV 데이터를 각각 불러왔다.\n",
    "- 이들 데이터에서 불필요한 데이터는 제거하고 필요한 데이터로만 합치는 작업을 해서 하나의 데이터프레임으로 만들었다.\n",
    "- 인구수 대비 CCTV수의 상관관계를 파악해보았다.\n",
    "- 자치구별 CCTV수를 막대그래프로 나타내보았다.\n",
    "- 인구수 대비 CCTV수의 대표직선을 그려보았다.\n",
    "- 실인구수 대비 CCTV 수와 기준 인구수 대비 CCTV 수의 오차를 구해 보았다.\n",
    "- 산포도그래프와 colorbar()를 이용하여 오차를 표현해보았다.\n",
    "- 결론적으로 지역구별 인구수 대비 적정 CCTV수와 실 CCTV 수의 오차를 파악해보고 오차가 순 10개구를 표시해보는 예제를 다뤄보았다."
   ]
  },
  {
   "cell_type": "markdown",
   "metadata": {
    "id": "kDzabw71y57X"
   },
   "source": [
    "---\n",
    "<font color='Grey' size=\"4\">\n",
    "F37.101 컴퓨팅 기초: 처음 만나는 컴퓨팅(First Adventures in Computing)</font> 서울대학교 학부대학 변해선\n",
    "\n",
    "---\n"
   ]
  }
 ],
 "metadata": {
  "colab": {
   "provenance": [
    {
     "file_id": "1Wqoo6g-UF5F7OBCtrCUF1W_SeGG4VGM8",
     "timestamp": 1678443253117
    }
   ]
  },
  "kernelspec": {
   "display_name": "Python 3",
   "name": "python3"
  },
  "language_info": {
   "codemirror_mode": {
    "name": "ipython",
    "version": 3
   },
   "file_extension": ".py",
   "mimetype": "text/x-python",
   "name": "python",
   "nbconvert_exporter": "python",
   "pygments_lexer": "ipython3",
   "version": "3.7.4"
  }
 },
 "nbformat": 4,
 "nbformat_minor": 0
}