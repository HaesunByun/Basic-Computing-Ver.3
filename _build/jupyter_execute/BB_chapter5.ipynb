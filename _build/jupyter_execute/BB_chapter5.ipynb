{
 "cells": [
  {
   "cell_type": "markdown",
   "metadata": {
    "id": "3SFM4wugjM5-"
   },
   "source": [
    "---\n",
    "<font color='Blue' size=\"4\">\n",
    "F37.101 컴퓨팅 기초: 처음 만나는 컴퓨팅(First Adventures in Computing)</font>\n",
    "\n",
    "---\n",
    "\n"
   ]
  },
  {
   "cell_type": "markdown",
   "metadata": {
    "id": "M3C3KwZwDjUp"
   },
   "source": [
    "# Chapter 5. 리스트\n"
   ]
  },
  {
   "cell_type": "markdown",
   "metadata": {
    "id": "GT3_F344uLCB"
   },
   "source": [
    ":::{admonition} 학습목표와 기대효과\n",
    ":class: info  \n",
    "- 학습목표\n",
    "    - 파이썬에서는 다수의 데이터를 하나로 묶어서 처리할 수 있는 다양한 자료형을 제공한다.\n",
    "    - 그 중에 하나인 리스트의 개념을 이해하고 리스트를 생성해보자.\n",
    "    - 리스트의 인덱싱, 슬라이싱, 리스트의 주요 메서드를 익혀보자.\n",
    "    - 리스트 연산자와 리스트 축약법에 대해 익혀보자.\n",
    "    \n",
    "- 기대효과\n",
    "  - 리스트를 활용하여 다수의 다양한 타입의 데이터를 다룰 수 있게 된다.\n",
    "  \n",
    ":::"
   ]
  },
  {
   "cell_type": "markdown",
   "metadata": {
    "id": "7EK75G3B1muF"
   },
   "source": [
    "<div align=\"center\"><img src=\"https://haesunbyun.github.io/common/images/list1.png\" style=\"width:500px;\"></div>"
   ]
  },
  {
   "cell_type": "markdown",
   "metadata": {
    "id": "2vp2heJRtisX"
   },
   "source": [
    "## 리스트 생성\n",
    "- 리스트는 숫자, 문자, 리스트, 딕셔너리 등 어떠한 데이터 타입이든 다 담을 수 있는 만물박스이다.\n",
    "- 리스트는 대괄호[   ]로 묶어준다.\n",
    "- 리스트에 들어있는 데이터를 아이템, 원소, 요소라고 부른다.\n",
    "- 리스트 내 아이템은 콤마(,)로 구분한다.\n",
    "- 형식은 다음과 같다.\n",
    "\n",
    "\n",
    "```\n",
    "[아이템1, 아이템2, 아이템3, ..., 아이템n]\n",
    "```\n",
    "\n"
   ]
  },
  {
   "cell_type": "markdown",
   "metadata": {
    "id": "fLItFIO_l8Yl"
   },
   "source": [
    "### 직접 생성\n",
    "- 대괄호 안에 아이템을 콤마로 나열하여 리스트를 직접 생성할 수 있다.\n",
    "- 아이템없이 대괄호만 있으면 비어있는 리스트를 생성한다."
   ]
  },
  {
   "cell_type": "code",
   "execution_count": 1,
   "metadata": {
    "id": "pRNpJKwoRMZO"
   },
   "outputs": [],
   "source": [
    "a = [1, 2, 3, 4, 5]\n",
    "b = [3, 8, 1, 3, 2]\n",
    "c = [1, 'apple', ['banana',1, 2], 'coconut']\n",
    "e = [ ]"
   ]
  },
  {
   "cell_type": "markdown",
   "metadata": {
    "id": "bsgjuPiMhgji"
   },
   "source": [
    "😄 'apple', 'banana', 'coconut', 'durian'을 아이템으로 갖고 있는 리스트 변수 d를 정의해보세요."
   ]
  },
  {
   "cell_type": "code",
   "execution_count": null,
   "metadata": {
    "colab": {
     "base_uri": "https://localhost:8080/"
    },
    "executionInfo": {
     "elapsed": 6,
     "status": "ok",
     "timestamp": 1696567500870,
     "user": {
      "displayName": "­변해선 / 강의교수 / 기초교육원",
      "userId": "11375408609059084889"
     },
     "user_tz": -540
    },
    "id": "R0NEWWW6rSJC",
    "outputId": "502764e0-627e-4517-8788-0400fef96368"
   },
   "outputs": [
    {
     "name": "stdout",
     "output_type": "stream",
     "text": [
      "['apple', 'banana', 'coconut', 'durian']\n"
     ]
    }
   ],
   "source": []
  },
  {
   "cell_type": "markdown",
   "metadata": {
    "id": "1-3SCwJVrGdA"
   },
   "source": [
    "### list() 함수로 생성\n",
    "- list() 함수는 빈 리스트, 숫자리스트, 문자열을 낱개문자로 분리하여 리스트로 만드는 함수이다."
   ]
  },
  {
   "cell_type": "code",
   "execution_count": 2,
   "metadata": {
    "id": "tlyalbkNCS0l"
   },
   "outputs": [],
   "source": [
    "item = list()"
   ]
  },
  {
   "cell_type": "markdown",
   "metadata": {
    "id": "sLkoUnbMYrNy"
   },
   "source": [
    "- range()함수와 같이 사용하면 수열로 이루어진 리스트를 생성한다."
   ]
  },
  {
   "cell_type": "code",
   "execution_count": 3,
   "metadata": {
    "id": "l3cf0Rm6Z1bD"
   },
   "outputs": [
    {
     "name": "stdout",
     "output_type": "stream",
     "text": [
      "[1, 2, 3, 4, 5, 6, 7, 8, 9]\n"
     ]
    }
   ],
   "source": [
    "a=list(range(1,10))\n",
    "print(a)"
   ]
  },
  {
   "cell_type": "markdown",
   "metadata": {
    "id": "1E1bO9VasCeX"
   },
   "source": [
    "😄 10부터 100까지 10씩 증가(10, 20, 30, ....)하는 값을 담고 있는 리스트 f를 만들어보세요.\n"
   ]
  },
  {
   "cell_type": "code",
   "execution_count": null,
   "metadata": {
    "colab": {
     "base_uri": "https://localhost:8080/"
    },
    "executionInfo": {
     "elapsed": 12,
     "status": "ok",
     "timestamp": 1696566848227,
     "user": {
      "displayName": "­변해선 / 강의교수 / 기초교육원",
      "userId": "11375408609059084889"
     },
     "user_tz": -540
    },
    "id": "0bwCs5ugL-Xq",
    "outputId": "ad5d8472-7a67-484a-fb16-161248094710"
   },
   "outputs": [
    {
     "data": {
      "text/plain": [
       "[10, 20, 30, 40, 50, 60, 70, 80, 90, 100]"
      ]
     },
     "execution_count": 1,
     "metadata": {},
     "output_type": "execute_result"
    }
   ],
   "source": []
  },
  {
   "cell_type": "markdown",
   "metadata": {
    "id": "YactELopf_Dj"
   },
   "source": [
    ":::{admonition} range() 함수  \n",
    ":class: tip  \n",
    "\n",
    "|사용 방법|의미|예시|\n",
    "|:----------:|:----------|:----------|\n",
    "|`range(끝)`|[0, 1, 2, 3, ..., 끝-1]| range(4) → [0, 1, 2, 3] |\n",
    "|`range(시작, 끝)`|[시작, 시작+1, 시작+2, ..., 끝-1]| range(3, 5) → [3, 4]|\n",
    "|`range(시작, 끝, 증감)`|[시작, 시작+증감, 시작+증감×2, …, 시작+증감×k]| range(2, 11, 2) → [2, 4, 6, 8, 10]|\n",
    "|`range(시작, 끝, -증감)`|[시작, 시작-증감, 시작-증감×2, …, 시작-증감×k]|range(9, 1, -2) → [9, 7, 5, 3]|\n",
    "\n",
    "- range() 함수는 일정한 규칙에 따라 나열된 수열을 생성한다.\n",
    "- 끝은 범위에 미포함이다.\n",
    "- range 함수의 결과는 리스트 형태로 나오지 않는다. 리스트로 보고싶으면 list() 함수와 같이 사용한다.\n",
    "\n",
    ":::"
   ]
  },
  {
   "cell_type": "markdown",
   "metadata": {
    "id": "eZb6MENyYzNf"
   },
   "source": [
    "- 문자열을 낱개 문자로 분리하여 리스트를 생성한다.\n",
    "\n",
    "|사용 방법|의미|예시|\n",
    "|:----------:|:----------|:----------|\n",
    "|`list(문자열)`|문자열을 한 글자씩 분리하여 리스트 생성| list('12345') → ['1', '2', '3', '4', '5']|\n"
   ]
  },
  {
   "cell_type": "code",
   "execution_count": 4,
   "metadata": {
    "colab": {
     "base_uri": "https://localhost:8080/"
    },
    "executionInfo": {
     "elapsed": 429,
     "status": "ok",
     "timestamp": 1679626811966,
     "user": {
      "displayName": "­변해선 / 강의교수 / 기초교육원",
      "userId": "11375408609059084889"
     },
     "user_tz": -540
    },
    "id": "oUsqazuDZKqj",
    "outputId": "28396f12-733b-46c5-8815-d3d4c22f4e7d"
   },
   "outputs": [
    {
     "name": "stdout",
     "output_type": "stream",
     "text": [
      "['h', 'e', 'l', 'l', 'o']\n"
     ]
    }
   ],
   "source": [
    "a=list('hello')\n",
    "print(a)"
   ]
  },
  {
   "cell_type": "markdown",
   "metadata": {
    "id": "yP-22tPeMg3n"
   },
   "source": [
    "😄 'DISCO'를 한 글자 씩 아이템으로 가지고 있는 리스트를 출력해보세요.\n"
   ]
  },
  {
   "cell_type": "code",
   "execution_count": null,
   "metadata": {
    "colab": {
     "base_uri": "https://localhost:8080/"
    },
    "executionInfo": {
     "elapsed": 418,
     "status": "ok",
     "timestamp": 1696567030432,
     "user": {
      "displayName": "­변해선 / 강의교수 / 기초교육원",
      "userId": "11375408609059084889"
     },
     "user_tz": -540
    },
    "id": "E5_g6CB6Mdrq",
    "outputId": "dcca579e-bb30-4d83-b8d1-ebabe50d9724"
   },
   "outputs": [
    {
     "name": "stdout",
     "output_type": "stream",
     "text": [
      "['D', 'I', 'S', 'C', 'O']\n"
     ]
    }
   ],
   "source": []
  },
  {
   "cell_type": "markdown",
   "metadata": {
    "id": "z_j2jT6m2TYV"
   },
   "source": [
    "### split() 메서드로 생성\n",
    "- split() 함수는 문자열을 특정 기준에 따라 분리하여 리스트로 만드는 함수이다.\n",
    "- 문자열을 괄호안의 '분리기준'으로 분리하며, 괄호안에 분리기준이 없으면 공백을 기준으로 분리한다.\n",
    "- 분리되면서 분리기준은 제거된다.\n",
    "\n",
    "|사용 방법|의미|예시|\n",
    "|:----------:|:----------|:----------|\n",
    "|`split()`|공백(' ')을 기준으로 문자열을 나눠 리스트를 생성| '1 2 3 4 5'.split() → ['1', '2', '3', '4', '5']|\n",
    "|`split(분리기준)`|분리기준를 기준으로 문자열을 나눠 리스트를 생성| '1:2:3:4:5'.split(':') → ['1', '2', '3', '4', '5']|\n",
    "\n"
   ]
  },
  {
   "cell_type": "markdown",
   "metadata": {
    "id": "_Gal07WNZXbc"
   },
   "source": [
    "- split() 괄호안에 분리기준이 없으므로 공백을 기준으로 분리한다."
   ]
  },
  {
   "cell_type": "code",
   "execution_count": 5,
   "metadata": {
    "id": "xu7d6MIhJRJd"
   },
   "outputs": [
    {
     "name": "stdout",
     "output_type": "stream",
     "text": [
      "['바나나', '딸기', '복숭아']\n"
     ]
    }
   ],
   "source": [
    "item = '바나나 딸기 복숭아'\n",
    "fruit = item.split()\n",
    "print(fruit)"
   ]
  },
  {
   "cell_type": "markdown",
   "metadata": {
    "id": "G2eCcKOVZvf-"
   },
   "source": [
    "- split()괄호안에 적힌 문자열을 기준으로 분리한다.\n",
    "- 아래 예에서는 콤마 다음에 공백까지 포함하여 기준을 명시해주었다. 이때 콤마와 공백까지 제거되면서 분리된다."
   ]
  },
  {
   "cell_type": "code",
   "execution_count": 6,
   "metadata": {
    "id": "FrWepSUNK78b"
   },
   "outputs": [
    {
     "name": "stdout",
     "output_type": "stream",
     "text": [
      "['바나나', '딸기', '복숭아']\n"
     ]
    }
   ],
   "source": [
    "item = '바나나, 딸기, 복숭아'\n",
    "fruit = item.split(', ')\n",
    "print(fruit)"
   ]
  },
  {
   "cell_type": "markdown",
   "metadata": {
    "id": "7GtdwCUGNLuh"
   },
   "source": [
    "😄 '동해물과\\백두산이\\마르고\\닳도록' 문자열을 띄어쓰기 기준으로 리스트로 출력해보세요.\n"
   ]
  },
  {
   "cell_type": "code",
   "execution_count": null,
   "metadata": {
    "colab": {
     "base_uri": "https://localhost:8080/"
    },
    "executionInfo": {
     "elapsed": 474,
     "status": "ok",
     "timestamp": 1696567400281,
     "user": {
      "displayName": "­변해선 / 강의교수 / 기초교육원",
      "userId": "11375408609059084889"
     },
     "user_tz": -540
    },
    "id": "nUxv5bS-NLuk",
    "outputId": "08165bee-def6-4a39-891c-a1c3b15ad4c3"
   },
   "outputs": [
    {
     "data": {
      "text/plain": [
       "['동해물과', '백두산이', '마르고', '닳도록']"
      ]
     },
     "execution_count": 3,
     "metadata": {},
     "output_type": "execute_result"
    }
   ],
   "source": []
  },
  {
   "cell_type": "markdown",
   "metadata": {
    "id": "I_2I0-b318Rm"
   },
   "source": [
    "## 인덱싱(Indexing)\n",
    "\n",
    "- **인덱스**는 리스트 내 아이템의 주소이다. 즉, 아이템에 접근하기 위해 인덱스를 사용한다."
   ]
  },
  {
   "cell_type": "markdown",
   "metadata": {
    "id": "4RgJQaETvznY"
   },
   "source": [
    "### 양의 인덱스(positive index)\n",
    "positive index는 가장 왼쪽 아이템에서 0부터 시작하여 오른쪽으로 1씩 증가한다."
   ]
  },
  {
   "cell_type": "code",
   "execution_count": 7,
   "metadata": {
    "id": "vdU6uzh2any8"
   },
   "outputs": [
    {
     "name": "stdout",
     "output_type": "stream",
     "text": [
      "turtle\n"
     ]
    }
   ],
   "source": [
    "shape= ['turtle', 'arrow', 'circle', 'square']\n",
    "print(shape[0])"
   ]
  },
  {
   "cell_type": "markdown",
   "metadata": {
    "id": "azZKIbacODQE"
   },
   "source": [
    "😄 리스트변수 shape에서 'circle' 아이템을 출력해보세요.\n"
   ]
  },
  {
   "cell_type": "code",
   "execution_count": null,
   "metadata": {
    "id": "LNjmNAlhODQF"
   },
   "outputs": [],
   "source": []
  },
  {
   "cell_type": "markdown",
   "metadata": {
    "id": "DuH-tC5Eu0gK"
   },
   "source": [
    "- 리스트안에 리스트가 있는 경우 대괄호를 연속하여 쓴다.\n",
    "- 예를 들어, 'banana'는 c[2][0]과 같이 접근할 수 있다."
   ]
  },
  {
   "cell_type": "code",
   "execution_count": 8,
   "metadata": {
    "id": "_I57p5AXju04"
   },
   "outputs": [
    {
     "name": "stdout",
     "output_type": "stream",
     "text": [
      "['banana', 1, 2]\n",
      "banana\n"
     ]
    }
   ],
   "source": [
    "c=[1, 'apple', ['banana',1, 2], 'coconut']\n",
    "print(c[2])\n",
    "print(c[2][0])"
   ]
  },
  {
   "cell_type": "markdown",
   "metadata": {
    "id": "qiXoBQLEVD8s"
   },
   "source": [
    "😄 리스트변수 shape에서 'right'와 'down'아이템을 출력해보세요.\n"
   ]
  },
  {
   "cell_type": "code",
   "execution_count": 9,
   "metadata": {
    "colab": {
     "base_uri": "https://localhost:8080/"
    },
    "executionInfo": {
     "elapsed": 7,
     "status": "ok",
     "timestamp": 1696577258290,
     "user": {
      "displayName": "­변해선 / 강의교수 / 기초교육원",
      "userId": "11375408609059084889"
     },
     "user_tz": -540
    },
    "id": "Tag5TfjxVD9G",
    "outputId": "94b2518a-9cdc-4615-9b28-1503bf95da95"
   },
   "outputs": [],
   "source": [
    "shape = ['turtle','arrow',[['left', 'right'],['up'],['down']]]\n"
   ]
  },
  {
   "cell_type": "markdown",
   "metadata": {
    "id": "lgq29pCHvtzl"
   },
   "source": [
    "### 음의 인덱스(negative index)\n",
    "- negative index는 가장 오른쪽 끝 아이템에서 -1부터 시작하여 왼쪽으로 1씩 감소한다."
   ]
  },
  {
   "cell_type": "code",
   "execution_count": 10,
   "metadata": {
    "id": "oD0_Z3qkSJtF"
   },
   "outputs": [
    {
     "name": "stdout",
     "output_type": "stream",
     "text": [
      "durian coconut banana apple\n"
     ]
    }
   ],
   "source": [
    "d=['apple', 'banana', 'coconut', 'durian']\n",
    "print(d[-1], d[-2], d[-3], d[-4])"
   ]
  },
  {
   "cell_type": "markdown",
   "metadata": {
    "id": "x1dJsz22jHNr"
   },
   "source": [
    "- 없는 인덱스에 접근하면 에러가 난다.\n",
    "\n",
    "\n",
    "```python\n",
    "print(d[4])\n",
    "print(d[-5])\n",
    "```\n"
   ]
  },
  {
   "cell_type": "markdown",
   "metadata": {
    "id": "Gac0TzOQ3e_w"
   },
   "source": [
    "😄 리스트변수 shape에서 가장 첫 번째 아이템과 가장 마지막 아이템을 출력해보세요.\n"
   ]
  },
  {
   "cell_type": "code",
   "execution_count": 11,
   "metadata": {
    "colab": {
     "base_uri": "https://localhost:8080/"
    },
    "executionInfo": {
     "elapsed": 324,
     "status": "ok",
     "timestamp": 1696577140956,
     "user": {
      "displayName": "­변해선 / 강의교수 / 기초교육원",
      "userId": "11375408609059084889"
     },
     "user_tz": -540
    },
    "id": "h18yIgmcTzS1",
    "outputId": "f4bda17b-a772-41b0-8e8d-898e73cd0217"
   },
   "outputs": [],
   "source": [
    "shape = ['turtle', 'arrow', 'circle', 'square', 'diamond']\n"
   ]
  },
  {
   "cell_type": "markdown",
   "metadata": {
    "id": "tPe7UQE0zvoQ"
   },
   "source": [
    "### 인덱스를 활용한 아이템 수정\n",
    "- 리스트안의 아이템은 인덱스를 이용하여 수정한다.\n",
    "\n",
    "```\n",
    "리스트변수명[인덱스]=값\n",
    "```\n",
    "\n"
   ]
  },
  {
   "cell_type": "markdown",
   "metadata": {
    "id": "8lMAgEYva2ql"
   },
   "source": [
    "- 리스트변수 shape의 인덱스2의 값을 100으로 수정한다."
   ]
  },
  {
   "cell_type": "code",
   "execution_count": 12,
   "metadata": {
    "id": "1Pr9FTBvYHoE"
   },
   "outputs": [
    {
     "name": "stdout",
     "output_type": "stream",
     "text": [
      "['turtle', 'arrow', 100, 'square', 'diamond']\n"
     ]
    }
   ],
   "source": [
    "shape= ['turtle', 'arrow', 'circle', 'square', 'diamond']\n",
    "shape[2]=100\n",
    "print(shape)"
   ]
  },
  {
   "cell_type": "markdown",
   "metadata": {
    "id": "UzujJ6okv7M0"
   },
   "source": [
    "## 슬라이싱(Slicing)\n",
    "슬라이싱이란 리스트의 아이템 일부를 자르는 것이다. 형식은 다음과 같다.\n",
    "\n",
    "```\n",
    "리스트변수[start:end:step]\n",
    "```\n",
    "- start: 슬라이싱 시작 인덱스\n",
    "- end: 슬라이싱 끝 인덱스(끝 인덱스는 미포함)\n",
    "- step: 이동간격, 양수이면 오른쪽으로 step만큼 이동한다. 음수이면 왼쪽으로 step만큼 이동한다.\n",
    "\n",
    "- start, end, step 모두 생략 가능하다."
   ]
  },
  {
   "cell_type": "markdown",
   "metadata": {
    "id": "8zTzNbyhx-rg"
   },
   "source": [
    "- 아래의 코드를 통해 실습해보자. 처음부터 인덱스 3 이전까지 오른쪽으로 1씩 이동하여 슬라이싱한다."
   ]
  },
  {
   "cell_type": "code",
   "execution_count": 13,
   "metadata": {
    "id": "_GFmwGlSS1OY"
   },
   "outputs": [
    {
     "name": "stdout",
     "output_type": "stream",
     "text": [
      "['turtle', 'arrow', 'circle']\n"
     ]
    }
   ],
   "source": [
    "shape= ['turtle', 'arrow', 'circle', 'square', 'diamond']\n",
    "print(shape[ :3])"
   ]
  },
  {
   "cell_type": "markdown",
   "metadata": {
    "id": "a6s8dr-1yKO9"
   },
   "source": [
    "- 인덱스 -3부터 끝까지 오른쪽으로 1씩 이동하여 슬라이싱한다."
   ]
  },
  {
   "cell_type": "code",
   "execution_count": 14,
   "metadata": {
    "id": "9oxfh8GUxsz3"
   },
   "outputs": [
    {
     "name": "stdout",
     "output_type": "stream",
     "text": [
      "['circle', 'square', 'diamond']\n"
     ]
    }
   ],
   "source": [
    "print(shape[-3: ])"
   ]
  },
  {
   "cell_type": "markdown",
   "metadata": {
    "id": "7n3hbyJpyS_z"
   },
   "source": [
    "- 처음부터 인덱스 -3 이전까지 오른쪽으로 1씩 이동하여 슬라이싱한다."
   ]
  },
  {
   "cell_type": "code",
   "execution_count": 15,
   "metadata": {
    "id": "-u8PGdf6xvon"
   },
   "outputs": [
    {
     "name": "stdout",
     "output_type": "stream",
     "text": [
      "['turtle', 'arrow']"
     ]
    },
    {
     "name": "stdout",
     "output_type": "stream",
     "text": [
      "\n"
     ]
    }
   ],
   "source": [
    "print(shape[:-3])"
   ]
  },
  {
   "cell_type": "markdown",
   "metadata": {
    "id": "k0cTV4AwzjuE"
   },
   "source": [
    "- 처음부터 인덱스 -3 이전까지 왼쪽으로 1씩 이동하여 슬라이싱한다."
   ]
  },
  {
   "cell_type": "code",
   "execution_count": 16,
   "metadata": {
    "id": "UxhHHLGexym3"
   },
   "outputs": [
    {
     "name": "stdout",
     "output_type": "stream",
     "text": [
      "['diamond', 'square']\n"
     ]
    }
   ],
   "source": [
    "print(shape[:-3:-1])"
   ]
  },
  {
   "cell_type": "markdown",
   "metadata": {
    "id": "qT6qKnVek-Hz"
   },
   "source": [
    "- 처음부터 인덱스 -3 이전까지 왼쪽으로 2씩 건너뛰면서 슬라이싱한다."
   ]
  },
  {
   "cell_type": "code",
   "execution_count": 17,
   "metadata": {
    "id": "f8fvgWx0k6mh"
   },
   "outputs": [
    {
     "name": "stdout",
     "output_type": "stream",
     "text": [
      "['diamond']\n"
     ]
    }
   ],
   "source": [
    "print(shape[:-3:-2])"
   ]
  },
  {
   "cell_type": "markdown",
   "metadata": {
    "id": "-HBmmEnDEHfb"
   },
   "source": [
    ":::{admonition} 주의  \n",
    ":class: caution  \n",
    "- 문자열 또한 인덱싱과 슬라이싱이 가능하며, 방법은 동일하다.\n",
    "\n",
    "- 그러나 문자열은 인덱스를 이용하여 낱글자 수정이 불가하다.\n",
    "\n",
    "```\n",
    "a = \"Life is too short, You need Python\"\n",
    "a[8]='T'\n",
    "```\n",
    ":::"
   ]
  },
  {
   "cell_type": "code",
   "execution_count": 18,
   "metadata": {
    "id": "fgV17vtJD8Vg"
   },
   "outputs": [
    {
     "name": "stdout",
     "output_type": "stream",
     "text": [
      "L i f e\n",
      "n o h t\n",
      "34\n"
     ]
    }
   ],
   "source": [
    "a = \"Life is too short, You need Python\"\n",
    "print( a[0], a[1], a[2], a[3] )\n",
    "print( a[-1], a[-2], a[-3], a[-4] )\n",
    "print( len(a) )"
   ]
  },
  {
   "cell_type": "code",
   "execution_count": 19,
   "metadata": {
    "id": "aN06wDfaD8Vi"
   },
   "outputs": [
    {
     "name": "stdout",
     "output_type": "stream",
     "text": [
      "Life\n",
      "thon\n"
     ]
    }
   ],
   "source": [
    "print( a[:4] )\n",
    "print( a[30:])"
   ]
  },
  {
   "cell_type": "markdown",
   "metadata": {
    "id": "rZrj7n91CS4I"
   },
   "source": [
    ":::{admonition} 아이템 개수 확인 len() 함수  \n",
    ":class: tip\n",
    "\n",
    "- len() 함수는 리스트의 아이템 개수를 반환한다.\n",
    "- 리스트뿐만 아니라 문자열, 딕셔너리, 튜플, 집합 등 문자열의 개수 또는 아이템의 개수를 확인할 때 사용한다.\n",
    "\n",
    "```python\n",
    "shape= ['turtle', 'arrow', 'circle', 'square']\n",
    "len(shape)\n",
    "```\n",
    "\n",
    ":::"
   ]
  },
  {
   "cell_type": "markdown",
   "metadata": {
    "id": "xKnayq964ur7"
   },
   "source": [
    "😄 리스트변수 wordlist에 있는 아이템들 가운데 첫 글자가 's'로 시작하는 아이템들을 출력하시오.\n"
   ]
  },
  {
   "cell_type": "code",
   "execution_count": 20,
   "metadata": {
    "colab": {
     "base_uri": "https://localhost:8080/"
    },
    "executionInfo": {
     "elapsed": 287,
     "status": "ok",
     "timestamp": 1696577828345,
     "user": {
      "displayName": "­변해선 / 강의교수 / 기초교육원",
      "userId": "11375408609059084889"
     },
     "user_tz": -540
    },
    "id": "7vQtJOCb4ur9",
    "outputId": "71255418-3e5b-4e13-c20d-93fbb5e284b6"
   },
   "outputs": [],
   "source": [
    "wordlist = ['turtle', 'arrow', 'circle', 'square', 'diamond', 'hello'\\\n",
    "        'good', 'morning', 'student', 'sky', 'seoul', 'link',\\\n",
    "        'heart', 'newjeans']\n"
   ]
  },
  {
   "cell_type": "markdown",
   "metadata": {
    "id": "gTdi1nuw7SaI"
   },
   "source": [
    "😄 리스트변수 wordlist에 있는 아이템들 가운데 첫 글자가 's'로 시작하는 아이템들의 인덱스를 출력하시오."
   ]
  },
  {
   "cell_type": "code",
   "execution_count": 21,
   "metadata": {
    "colab": {
     "base_uri": "https://localhost:8080/"
    },
    "executionInfo": {
     "elapsed": 7,
     "status": "ok",
     "timestamp": 1696578066171,
     "user": {
      "displayName": "­변해선 / 강의교수 / 기초교육원",
      "userId": "11375408609059084889"
     },
     "user_tz": -540
    },
    "id": "B4SgXioy7OoT",
    "outputId": "e0cf66f3-aa5e-4ce6-abf4-b666edb40f61"
   },
   "outputs": [],
   "source": [
    "wordlist = ['turtle', 'arrow', 'circle', 'square', 'diamond', 'hello',\\\n",
    "        'good', 'morning', 'student', 'sky', 'seoul', 'link',\\\n",
    "        'heart', 'newjeans']\n",
    "\n"
   ]
  },
  {
   "cell_type": "markdown",
   "metadata": {
    "id": "LwPq8dv-g_07"
   },
   "source": [
    "## 리스트 주요 메서드\n",
    "\n",
    "|사용 방법|의미|예시(a=['a','b','c']일 때)|\n",
    "|:----------:|:----------|:----------|\n",
    "|`list.append(item)`|list의 마지막에 item을 추가| a.append('d') ➡ ['a','b','c','d'] |\n",
    "|`list.extend(list2)`|list의 마지막에 list2의 아이템을 추가하여 확장| a.extend(['d','e']) ➡ ['a','b','c','d','e']|\n",
    "|`list.insert(index, item)`|list의 index 위치에 item을 삽입| a.insert(1,'d') ➡ ['a','d','b','c']|\n",
    "|`list.remove(item)`|list에서 첫 번째로 나오는 item을 삭제|a.remove('c') ➡ ['a','b']|\n",
    "|`list.index(item)`|list에서 item의 index를 반환|a.index('c') ➡ 2|\n",
    "|`list.count(item)`|list에서 item의 개수를 반환|a.count('c') ➡ 1|\n",
    "|`list.clear()`|list의 모든 item의 제거한다.|a.clear() ➡ []|\n",
    "|`list.pop(index)`|list에서 인덱스의 아이템을 제거하고 반환.<br> 인덱스를 지정하지 않으면 마지막 아이템을 제거하고 반환|a.pop(1) ➡ ['a','c']|\n",
    "|`list.reverse()`|list에서 아이템의 순서를 뒤집는다.|a.reverse() ➡ ['c','b','a']|\n",
    "|`list.copy()`|list를 shallow copy한다.|b=a.copy() ➡ b= ['a','b','c']|\n",
    "|`list.sort()`|list 내 item를 오름차순으로 정렬| a = ['c','a','b']일 때, a.sort() ➡ ['a', 'b', 'c']|\n",
    "|`list2 = sorted(list)`|list를 오름차순으로 정렬하여 반환|b = sorted(a) ➡  b = ['a', 'b', 'c']|"
   ]
  },
  {
   "cell_type": "markdown",
   "metadata": {
    "id": "fZyNjB_Rz09C"
   },
   "source": [
    "### 아이템 추가"
   ]
  },
  {
   "cell_type": "markdown",
   "metadata": {
    "id": "NT1FkXPqmnkD"
   },
   "source": [
    "- append() 메서드는 아이템을 마지막에 추가한다.\n",
    "- append() 메서드는 반환값이 없다. 따라서 print(shape.append(200))와 같이 쓰면 'None'이 출력된다.\n",
    "\n",
    "\n",
    "```\n",
    "리스트변수명.append(item)\n",
    "```\n",
    "\n"
   ]
  },
  {
   "cell_type": "code",
   "execution_count": 22,
   "metadata": {
    "id": "YNcLF4IPh7HD"
   },
   "outputs": [
    {
     "name": "stdout",
     "output_type": "stream",
     "text": [
      "['turtle', 'arrow', 'circle', 'square', 'diamond']\n",
      "['turtle', 'arrow', 'circle', 'square', 'diamond', 5]\n",
      "['turtle', 'arrow', 'circle', 'square', 'diamond', 5, 'hello']\n",
      "None\n"
     ]
    }
   ],
   "source": [
    "shape= ['turtle', 'arrow', 'circle', 'square', 'diamond']\n",
    "print(shape)\n",
    "shape.append(5)\n",
    "print(shape)\n",
    "\n",
    "shape.append('hello')\n",
    "print(shape)\n",
    "print(shape.append(200))"
   ]
  },
  {
   "cell_type": "markdown",
   "metadata": {
    "id": "1l7leIaJ0Pkw"
   },
   "source": [
    "### 아이템 삽입\n",
    "\n",
    "리스트의 인덱스 위치에 값을 삽입한다.\n",
    "\n",
    "```\n",
    "리스트변수명.insert(인덱스,값)\n",
    "```\n",
    "\n"
   ]
  },
  {
   "cell_type": "code",
   "execution_count": 23,
   "metadata": {
    "id": "b-YnL7zG4tUG"
   },
   "outputs": [
    {
     "name": "stdout",
     "output_type": "stream",
     "text": [
      "[13, 'turtle', 'arrow', 'circle', 'banana', 'square', 'diamond']\n"
     ]
    }
   ],
   "source": [
    "shape= ['turtle', 'arrow', 'circle', 'square', 'diamond']\n",
    "shape.insert(0,13)\n",
    "shape.insert(4,'banana')\n",
    "print(shape)"
   ]
  },
  {
   "cell_type": "markdown",
   "metadata": {
    "id": "vrQgAbWr0S54"
   },
   "source": [
    "### 아이템 인덱스 번호 찾기\n",
    "- 아이템의 인덱스 번호를 반환한다.\n",
    "- 아이템이 없으면 에러가 난다.\n",
    "예,shape.index('computer')"
   ]
  },
  {
   "cell_type": "code",
   "execution_count": 24,
   "metadata": {
    "id": "9_1AMmAJ69w_"
   },
   "outputs": [
    {
     "name": "stdout",
     "output_type": "stream",
     "text": [
      "2\n"
     ]
    }
   ],
   "source": [
    "shape= ['turtle', 'arrow', 'circle', 'square', 'diamond']\n",
    "print(shape.index('circle'))"
   ]
  },
  {
   "cell_type": "markdown",
   "metadata": {
    "id": "itB0T5bh0Wz4"
   },
   "source": [
    "### 아이템 제거\n",
    "- 아이템을 제거한다.\n",
    "- 아이템이 없으면 에러가 난다.\n",
    "예,shape.remove('computer')"
   ]
  },
  {
   "cell_type": "code",
   "execution_count": 25,
   "metadata": {
    "id": "6bGDTcDpmqDz"
   },
   "outputs": [
    {
     "name": "stdout",
     "output_type": "stream",
     "text": [
      "['turtle', 'circle', 'square', 'diamond']"
     ]
    },
    {
     "name": "stdout",
     "output_type": "stream",
     "text": [
      "\n"
     ]
    }
   ],
   "source": [
    "shape.remove('arrow')\n",
    "print(shape)"
   ]
  },
  {
   "cell_type": "markdown",
   "metadata": {
    "id": "EXU3EnAi1An0"
   },
   "source": [
    "- 그 밖의 리스트 사용방법을 알고 싶다면 help(list) 또는 help(list변수명)를 외쳐라.\n"
   ]
  },
  {
   "cell_type": "markdown",
   "metadata": {
    "id": "Zefq1nbneNZn"
   },
   "source": [
    ":::{grid} 1\n",
    ":::{grid-item-card}\n",
    ":class-header: bg-light\n",
    "\n",
    "😄 반복문을 사용하여 3개의 입력받은 아이템들을 리스트변수 itemlist에 추가하는 코드를 작성해 보세요.\n",
    "^^^\n",
    "```\n",
    "itemlist = []\n",
    "for i in range(3):\n",
    "  # TODO\n",
    "\n",
    "print(itemlist)\n",
    "```\n",
    "\n",
    "<font color='blue'>`test case-1`</font>\n",
    "Input Sample\n",
    "```\n",
    "프린터\n",
    "컴퓨터\n",
    "노트북\n",
    "```\n",
    "Output Sample\n",
    "```\n",
    "Input:\n",
    "Input:\n",
    "Input:\n",
    "Output: ['프린터', '컴퓨터', '노트북']\n",
    "```\n",
    "<font color='blue'>`test case-2`</font>\n",
    "\n",
    "Input Sample\n",
    "```\n",
    "바나나\n",
    "딸기\n",
    "사과\n",
    "```\n",
    "Output Sample\n",
    "```\n",
    "Input:\n",
    "Input:\n",
    "Input:\n",
    "Output: ['바나나', '딸기', '사과']\n",
    "```\n",
    ":::"
   ]
  },
  {
   "cell_type": "markdown",
   "metadata": {
    "id": "JWDdt9Jy3zb9"
   },
   "source": [
    ":::{grid} 1\n",
    ":::{grid-item-card}\n",
    ":class-header: bg-light\n",
    "\n",
    "😄 연속 숫자 5개를 한줄에 입력받아 정수 리스트로 만들어 출력하시오.\n",
    "^^^\n",
    "\n",
    "<font color='blue'>`test case-1`</font>\n",
    "\n",
    "Input Sample\n",
    "```\n",
    "50 60 70 80 90\n",
    "```\n",
    "Output Sample\n",
    "```\n",
    "Input:\n",
    "Output: [50, 60, 70, 80, 90]\n",
    "```\n",
    "\n",
    "<font color='blue'>`test case-2`</font>\n",
    "\n",
    "Input Sample\n",
    "```\n",
    "10 20 30 40 50\n",
    "```\n",
    "Output Sample\n",
    "```\n",
    "Input:\n",
    "Output: [10, 20, 30, 40, 50]\n",
    "```"
   ]
  },
  {
   "cell_type": "markdown",
   "metadata": {
    "id": "BFn6cQSqh4ID"
   },
   "source": [
    "## 리스트 연산자\n",
    "|연산 기호|의미|예시|실행 결과|\n",
    "|:----------:|:----------:|:----------:|:--------:|\n",
    "|`+`|아이템합치기|`[1,2,3]+['a','b']`|`[1,2,3,'a','b']`|\n",
    "|`*`|아이템을 횟수만큼 합치기|`[1,2,3]*2`|`[1,2,3,1,2,3]`|"
   ]
  },
  {
   "cell_type": "code",
   "execution_count": 26,
   "metadata": {
    "id": "bGs5KoT9npiH"
   },
   "outputs": [
    {
     "name": "stdout",
     "output_type": "stream",
     "text": [
      "[1, 2, 3, 5, 6, 7]"
     ]
    },
    {
     "name": "stdout",
     "output_type": "stream",
     "text": [
      "\n"
     ]
    }
   ],
   "source": [
    "a = [1,2,3]\n",
    "b = [5,6,7]\n",
    "print(a+b)"
   ]
  },
  {
   "cell_type": "code",
   "execution_count": 27,
   "metadata": {
    "id": "qR4XE_jod9RF"
   },
   "outputs": [
    {
     "name": "stdout",
     "output_type": "stream",
     "text": [
      "[1, 2, 3, 1, 2, 3, 1, 2, 3]"
     ]
    },
    {
     "name": "stdout",
     "output_type": "stream",
     "text": [
      "\n"
     ]
    }
   ],
   "source": [
    "a=[1,2,3]\n",
    "print(a*3)"
   ]
  },
  {
   "cell_type": "markdown",
   "metadata": {
    "id": "288BPbx2y3MQ"
   },
   "source": [
    "## 마무리\n",
    "\n",
    "- list는 다수의 데이터를 묶어 하나의 변수로 처리할 때 유용하다.\n",
    "- 리스트의 인덱스는 0부터 시작한다.\n",
    "- list( ) 함수를 활용하여 문자열이나 숫자 리스트를 생성한다.\n",
    "- split( ) 함수는 문자열을 분리하여 리스트를 생성한다.\n",
    "- range( )함수는 규칙적인 숫자열로 구성된 리스트를 생성한다.\n",
    "- 리스트에 아이템 추가는 객체명.append( )를 활용한다.\n",
    "- 리스트에 리스트 추가는 객체명.extend( )를 활용한다.\n",
    "- 리스트에 아이템을 삽입은 객체명.insert( )를 활용한다.\n",
    "- 리스트에서 첫번째로 나오는 아이템 제거는 객체명.remove( )를 활용한다.\n",
    "- 아이템의 인덱스 번호를 검색할 때에는 객체명.index( )를 활용한다.\n",
    "- 리스트의 아이템 정렬은 sort()와 sorted()를 활용한다."
   ]
  },
  {
   "cell_type": "markdown",
   "metadata": {
    "id": "kDzabw71y57X"
   },
   "source": [
    "---\n",
    "<font color='Grey' size=\"4\">\n",
    "F37.101 컴퓨팅 기초: 처음 만나는 컴퓨팅(First Adventures in Computing)</font> 서울대학교 학부대학 변해선\n",
    "\n",
    "---\n"
   ]
  }
 ],
 "metadata": {
  "colab": {
   "provenance": []
  },
  "kernelspec": {
   "display_name": "Python 3",
   "name": "python3"
  },
  "language_info": {
   "codemirror_mode": {
    "name": "ipython",
    "version": 3
   },
   "file_extension": ".py",
   "mimetype": "text/x-python",
   "name": "python",
   "nbconvert_exporter": "python",
   "pygments_lexer": "ipython3",
   "version": "3.7.4"
  }
 },
 "nbformat": 4,
 "nbformat_minor": 0
}