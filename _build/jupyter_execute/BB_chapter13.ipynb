{
 "cells": [
  {
   "cell_type": "markdown",
   "metadata": {
    "id": "3SFM4wugjM5-"
   },
   "source": [
    "---\n",
    "<font color='Blue' size=\"4\">\n",
    "F37.101 컴퓨팅 기초: 처음 만나는 컴퓨팅(First Adventures in Computing)</font>\n",
    "\n",
    "---\n",
    "\n"
   ]
  },
  {
   "cell_type": "markdown",
   "metadata": {
    "id": "1b9J1p3E9-2h"
   },
   "source": [
    "# Chapter 13. Visualization\n"
   ]
  },
  {
   "cell_type": "markdown",
   "metadata": {
    "id": "GT3_F344uLCB"
   },
   "source": [
    ":::{admonition} 학습목표와 기대효과\n",
    ":class: info  \n",
    "- 학습목표\n",
    "  - 배열, 데이타프레임 데이터를 활용하여 다양한 그래프를 그려보자.\n",
    "\n",
    "\n",
    "- 기대효과\n",
    "  - 그래프를 통해 데이터를 시각적으로 나타내어 분석, 처리하거나 효과적으로 설명하는데 사용할 수 있다.\n",
    "\n",
    ":::"
   ]
  },
  {
   "cell_type": "markdown",
   "metadata": {
    "id": "04FEcDJXep2z"
   },
   "source": [
    "##I. Matplotlib"
   ]
  },
  {
   "cell_type": "markdown",
   "metadata": {
    "id": "JN-9gYxO-OV-"
   },
   "source": [
    "데이터 분석 또는 분석 결과를 설명하기 위한 방법중 하나가 데이터 시각화이다. 파이썬 언어를 이용한 데이터 시각화는 matplotlib과 seaborn 라이브러리를 활용하여 가능하다. matplotlib과 seaborn은 다양한 그래프 함수를 제공한다. 이러한 함수를 이용하여 데이터를 시각화하는 것은 어렵지 않지만, 데이터에 적합한 시각화를 이끌어 내는 것이 매우 중요하고 어렵다.  \n"
   ]
  },
  {
   "cell_type": "markdown",
   "metadata": {
    "id": "lYRwiguhQ29b"
   },
   "source": [
    "**Matplotlib**는 데이터를 시각화하는데 사용되는 라이브러리이다.\n",
    "선, 산포도, 막대 그래프, 면적그래프, 히스토그램, 파이차트, 박스플롯 등 다양한 그래프를 그릴 수 있도록 한다.\n",
    "\n",
    "- 아래의 링크를 통해 다양한 그래프를 그리는 방법과 옵션을 학습할 수 있다.\n",
    "  - matplotlib 공식 사이트 : https://matplotlib.org/stable/index.html\n",
    "  - seaborn 공식 사이트 : https://seaborn.pydata.org/\n",
    "  - 문제해결 방법 : https://stackoverflow.com/\n",
    "  "
   ]
  },
  {
   "cell_type": "markdown",
   "metadata": {
    "id": "meJCaM4ug-rB"
   },
   "source": [
    "### 한글 폰트 설치 및 설정\n",
    "\n",
    "- 그래프에 그래프제목, X축이름, Y축이름 등 한글이 들어가는 경우가 많으므로 한글이 깨지지않도록 폰트 설치 및 설정을 먼저 해주자."
   ]
  },
  {
   "cell_type": "markdown",
   "metadata": {
    "id": "DNL23q_VSp-1"
   },
   "source": [
    "1. 아래 셀을 실행시켜 폰트를 설치해준다.\n",
    "2. 메뉴에서 런타임 -> 세션 다시 시작을 해준다."
   ]
  },
  {
   "cell_type": "code",
   "execution_count": 1,
   "metadata": {
    "id": "sUFl1US7g-rW"
   },
   "outputs": [
    {
     "name": "stderr",
     "output_type": "stream",
     "text": [
      "'sudo' is not recognized as an internal or external command,\n",
      "operable program or batch file.\n"
     ]
    },
    {
     "name": "stderr",
     "output_type": "stream",
     "text": [
      "'sudo' is not recognized as an internal or external command,\n",
      "operable program or batch file.\n"
     ]
    }
   ],
   "source": [
    "!sudo apt-get install -y fonts-nanum\n",
    "!sudo fc-cache -fv\n",
    "!rm ~/.cache/matplotlib -rf"
   ]
  },
  {
   "cell_type": "markdown",
   "metadata": {
    "id": "Ystntx4rSxaw"
   },
   "source": [
    "3. 폰트를 설정한다."
   ]
  },
  {
   "cell_type": "code",
   "execution_count": 2,
   "metadata": {
    "id": "zJtPAn2Kg-rW"
   },
   "outputs": [],
   "source": [
    "import matplotlib.pyplot as plt\n",
    "import numpy as np\n",
    "\n",
    "plt.rc('font', family='NanumBarunGothic')"
   ]
  },
  {
   "cell_type": "markdown",
   "metadata": {
    "id": "GajItSlXS4Y7"
   },
   "source": [
    "4. 폰트설정이 잘 되었는지 확인해본다. '한글'이라는 글자가 출력이 되었다면 잘된것이다."
   ]
  },
  {
   "cell_type": "code",
   "execution_count": 3,
   "metadata": {
    "id": "lMLUQ7Z5g-rX"
   },
   "outputs": [
    {
     "data": {
      "image/png": "[encoded data removed]",
      "text/plain": [
       "<Figure size 432x288 with 1 Axes>"
      ]
     },
     "metadata": {
      "needs_background": "light"
     },
     "output_type": "display_data"
    }
   ],
   "source": [
    "plt.text(0.3, 0.3, '한글', size=100)\n",
    "plt.show()"
   ]
  },
  {
   "cell_type": "markdown",
   "metadata": {
    "id": "yJdT3M0gke2d"
   },
   "source": [
    "## Matplotlib: numpy 데이터 활용\n",
    "- numpy 데이터를 활용하여 그래프를 그려보자. 필요한 모듈을 먼저 불러온다.\n",
    "- matplotlib.pyplot 모듈은 보통 plt라는 별칭을 사용한다."
   ]
  },
  {
   "cell_type": "code",
   "execution_count": 4,
   "metadata": {
    "id": "EZ7mJqC0fk6h"
   },
   "outputs": [],
   "source": [
    "import matplotlib.pyplot as plt\n",
    "import numpy as np"
   ]
  },
  {
   "cell_type": "markdown",
   "metadata": {
    "id": "-bU0CWx0h_P1"
   },
   "source": [
    "### 선그래프: plt.plot()\n",
    "- **선 그래프**는 수량을 점으로 표시하고 점과 점 사이의 거리를 직선으로 연결한 그래프이다.\n",
    "- 연속하는 데이터 값들을 직선 또는 곡선으로 연결하여 데이터 값 사이의 관계를 나타낸다.\n",
    "- 시간에 따른 데이터의 변화 추세를 파악하는데 유용하다.\n",
    "```\n",
    "plt.plot(x, y, ...)\n",
    "```\n"
   ]
  },
  {
   "cell_type": "markdown",
   "metadata": {
    "id": "4uN9DRIbuRvm"
   },
   "source": [
    "- 선그래프에 사용될 수 있는 다양한 꾸미기 옵션이 있다.\n",
    "\n",
    "|글자|색  |    |    글자| 선/마커 모양  |      |  옵션명| 옵션값  |\n",
    "|:-:|:----:|:----:|:--:|:-----:|:-----:|:-----:|:-----:|\n",
    "|'b'|Blue|    |'-'| Solid line|   |label| '라벨명'|\n",
    "|'g'|Green|   |'--'| Dashed line |   |color/c| '선색'|\n",
    "|'r'|Red|   |'-.'| Dash-dot line |   |linewidth/lw| 선굵기|\n",
    "|'c'|Cyan| |':'|Dotted lin|   |linestyle/ls| '선모양'|\n",
    "|'m'|Magenta| |'.'|Point marker|   |marker| '마커모양'|\n",
    "|'y'|Yellow||','|Pixel marker|   |markerfacecolor/mfc| '마커색'|\n",
    "|'k'|Black||'o'|Circle marker|   |markersize/ms| 마커크기|\n",
    "|'w'|White|| | |   || |"
   ]
  },
  {
   "cell_type": "markdown",
   "metadata": {
    "id": "lUOWwMjIExeM"
   },
   "source": [
    "😄 배열 x, y에 대한 선그래프를 그려보자."
   ]
  },
  {
   "cell_type": "code",
   "execution_count": 5,
   "metadata": {
    "id": "lz7FvuvTbw6G"
   },
   "outputs": [],
   "source": [
    "x = np.arange(0, 10)\n",
    "y = 2 * x**2 - 3 * x + 1\n",
    "#TODO\n",
    "\n",
    "#plt.plot(x, y, color = 'green', linestyle = 'dashed', marker = 'o', mfc = 'blue', ms = 12)\n",
    "plt.show()\n",
    "#plt.savefig('line.png') #.show()를 주석처리하고 파일로 저장해야 한다."
   ]
  },
  {
   "cell_type": "markdown",
   "metadata": {
    "id": "CUeRumidiELW"
   },
   "source": [
    "#### 다중 선그래프\n",
    "- 여러 개의 그래프를 하나의 도화지에 그리고 싶을 때에는 그래프를 먼저 그리고 가장 마지막에 plt.show()하면 된다."
   ]
  },
  {
   "cell_type": "code",
   "execution_count": 6,
   "metadata": {
    "id": "A5YhqvRY6ulQ"
   },
   "outputs": [
    {
     "name": "stderr",
     "output_type": "stream",
     "text": [
      "No handles with labels found to put in legend.\n"
     ]
    },
    {
     "data": {
      "image/png": "[encoded data removed]",
      "text/plain": [
       "<Figure size 432x288 with 1 Axes>"
      ]
     },
     "metadata": {
      "needs_background": "light"
     },
     "output_type": "display_data"
    }
   ],
   "source": [
    "x = np.arange(0, 10, 0.1)\n",
    "y1 = np.sin(x)\n",
    "y2 = np.cos(x)\n",
    "#Todo\n",
    "\n",
    "plt.title('Example of sinewave') # 제목\n",
    "plt.legend() # 범례\n",
    "plt.xlabel('Time')        # x축 라벨\n",
    "plt.ylabel('Amplitude')   # y축 라벨\n",
    "plt.show()"
   ]
  },
  {
   "cell_type": "markdown",
   "metadata": {
    "id": "D_keDSh-iHEE"
   },
   "source": [
    "### 산포도(산점도) 그래프: plt.scatter()\n",
    "- **산포도그래프**는 도표 위에 두 변수 x와 y 값이 만나는 지점을 표시한다.\n",
    "- 이 그래프를 통해 두 변수 사이의 관계를 알 수 있다.\n",
    "\n",
    "```\n",
    "plt.scatter(x, y, ...)\n",
    "```\n",
    "\n",
    "- 산포도 그래프에 사용되는 옵션은 다음과 같다.\n",
    "\n",
    "|옵션명|옵션값|\n",
    "|:-----:|:-----:|\n",
    "|color/c/facecolor/facecolors|'마커색'(하나의 색 대신 데이터 지정 가능)|\n",
    "|cmap|colormap|\n",
    "|marker| 'o', '+', '*', '.', '>'|\n",
    "|alpha|투명도|\n",
    "|s|마커크기|\n",
    "\n",
    "https://matplotlib.org/tutorials/colors/colormaps.html"
   ]
  },
  {
   "cell_type": "markdown",
   "metadata": {
    "id": "6FqF1OuA-ryw"
   },
   "source": [
    "😄 리스트 x,y에 대해 산포도 그래프를 그려보자."
   ]
  },
  {
   "cell_type": "code",
   "execution_count": 7,
   "metadata": {
    "id": "jc4kGyp5w3Tu"
   },
   "outputs": [
    {
     "data": {
      "image/png": "[encoded data removed]",
      "text/plain": [
       "<Figure size 432x288 with 1 Axes>"
      ]
     },
     "metadata": {
      "needs_background": "light"
     },
     "output_type": "display_data"
    }
   ],
   "source": [
    "heights = [150, 152, 155, 157, 160, 162, 164, 165, 167, 168,\n",
    "           170, 172, 174, 175, 177, 178, 180, 182, 185, 188]\n",
    "\n",
    "weights = [45, 46, 48, 50, 52, 53, 55, 56, 58, 59,\n",
    "           61, 63, 66, 68, 70, 71, 74, 76, 80, 83]\n",
    "#TODO\n",
    "plt.scatter(heights, weights)\n",
    "plt.title(\"키 vs 몸무게\")\n",
    "plt.xlabel(\"키 (cm)\")\n",
    "plt.ylabel(\"몸무게 (kg)\")\n",
    "plt.show()"
   ]
  },
  {
   "cell_type": "markdown",
   "metadata": {
    "id": "oo2LefxJiK_o"
   },
   "source": [
    "### 칼라바가 있는 산포도 그래프: plt.colorbar()\n",
    "- color를 데이터와 연동시킬 수 있다.\n",
    "- 연동시킨 데이타가 colorbar의 색깔로 나타난다.\n",
    "```\n",
    "plt.scatter(x,y,c=data)\n",
    "plt.colorbar()\n",
    "```\n"
   ]
  },
  {
   "cell_type": "markdown",
   "metadata": {
    "id": "OKOmWUM7-ytO"
   },
   "source": [
    "😄 배열 x,y에 대해 칼라바가 있는 산포도 그래프를 그려보자."
   ]
  },
  {
   "cell_type": "code",
   "execution_count": 8,
   "metadata": {
    "id": "GbiaYkh3wa-S"
   },
   "outputs": [],
   "source": [
    "x = np.random.randint(0, 100, 200)\n",
    "y = np.random.randint(0, 100, 200)\n",
    "#TODO\n",
    "plt.show()"
   ]
  },
  {
   "cell_type": "markdown",
   "metadata": {
    "id": "E3Ro7uogiVAl"
   },
   "source": [
    "### 세로 막대그래프: plt.bar()\n",
    "- 막대 그래프는 각 항목의 크기를 비교할 수 있도록 보여주는 그래프이다.\n",
    "\n",
    "```\n",
    "plt.bar(x, y)\n",
    "```\n"
   ]
  },
  {
   "cell_type": "markdown",
   "metadata": {
    "id": "6hzlCgi7xHYA"
   },
   "source": [
    "😄 리스트 x, y에 대해 세로 막대 그래프를 그려보자."
   ]
  },
  {
   "cell_type": "code",
   "execution_count": 9,
   "metadata": {
    "id": "XcyYIrowYlp8"
   },
   "outputs": [
    {
     "data": {
      "image/png": "[encoded data removed]",
      "text/plain": [
       "<Figure size 432x288 with 1 Axes>"
      ]
     },
     "metadata": {
      "needs_background": "light"
     },
     "output_type": "display_data"
    }
   ],
   "source": [
    "# 요일과 매출\n",
    "days = ['월', '화', '수', '목', '금', '토', '일']\n",
    "sales = [120, 135, 150, 145, 160, 200, 180]\n",
    "\n",
    "# 막대그래프 그리기\n",
    "\n",
    "plt.title(\"요일별 매출\")\n",
    "plt.xlabel(\"요일\")\n",
    "plt.ylabel(\"매출 (만원)\")\n",
    "plt.show()"
   ]
  },
  {
   "cell_type": "markdown",
   "metadata": {
    "id": "nU2nvnPeimOF"
   },
   "source": [
    "### 가로 막대그래프: plt.barh()\n",
    "```\n",
    "plt.barh(x, y)\n",
    "```\n"
   ]
  },
  {
   "cell_type": "markdown",
   "metadata": {
    "id": "z4pLb2soxU7j"
   },
   "source": [
    "😄 배열 x, 리스트 y에 대해 가로 막대 그래프를 그려보자."
   ]
  },
  {
   "cell_type": "code",
   "execution_count": 10,
   "metadata": {
    "id": "1jGVzSvj0HVv"
   },
   "outputs": [],
   "source": [
    "x = np.arange(1, 6)\n",
    "y = [10, 5, 25, 3, 22]\n",
    "#Todo"
   ]
  },
  {
   "cell_type": "markdown",
   "metadata": {
    "id": "ulHL7hUMkXMq"
   },
   "source": [
    "## Matplotlib: 판다스 데이터 활용"
   ]
  },
  {
   "cell_type": "code",
   "execution_count": 11,
   "metadata": {
    "colab": {
     "base_uri": "https://localhost:8080/",
     "height": 237
    },
    "executionInfo": {
     "elapsed": 914,
     "status": "ok",
     "timestamp": 1748226289463,
     "user": {
      "displayName": "",
      "userId": ""
     },
     "user_tz": -540
    },
    "id": "jGqK2mGeABYS",
    "outputId": "51d93e46-d7de-471a-f708-b4baa3e339b6"
   },
   "outputs": [
    {
     "data": {
      "text/html": [
       "<div>\n",
       "<style scoped>\n",
       "    .dataframe tbody tr th:only-of-type {\n",
       "        vertical-align: middle;\n",
       "    }\n",
       "\n",
       "    .dataframe tbody tr th {\n",
       "        vertical-align: top;\n",
       "    }\n",
       "\n",
       "    .dataframe thead th {\n",
       "        text-align: right;\n",
       "    }\n",
       "</style>\n",
       "<table border=\"1\" class=\"dataframe\">\n",
       "  <thead>\n",
       "    <tr style=\"text-align: right;\">\n",
       "      <th></th>\n",
       "      <th>국어</th>\n",
       "      <th>영어</th>\n",
       "      <th>수학</th>\n",
       "    </tr>\n",
       "  </thead>\n",
       "  <tbody>\n",
       "    <tr>\n",
       "      <th>철수</th>\n",
       "      <td>84</td>\n",
       "      <td>87</td>\n",
       "      <td>78</td>\n",
       "    </tr>\n",
       "    <tr>\n",
       "      <th>영이</th>\n",
       "      <td>21</td>\n",
       "      <td>15</td>\n",
       "      <td>84</td>\n",
       "    </tr>\n",
       "    <tr>\n",
       "      <th>길동</th>\n",
       "      <td>87</td>\n",
       "      <td>84</td>\n",
       "      <td>76</td>\n",
       "    </tr>\n",
       "    <tr>\n",
       "      <th>미영</th>\n",
       "      <td>100</td>\n",
       "      <td>87</td>\n",
       "      <td>99</td>\n",
       "    </tr>\n",
       "    <tr>\n",
       "      <th>순이</th>\n",
       "      <td>59</td>\n",
       "      <td>99</td>\n",
       "      <td>59</td>\n",
       "    </tr>\n",
       "    <tr>\n",
       "      <th>철이</th>\n",
       "      <td>46</td>\n",
       "      <td>77</td>\n",
       "      <td>56</td>\n",
       "    </tr>\n",
       "  </tbody>\n",
       "</table>\n",
       "</div>"
      ],
      "text/plain": [
       "     국어  영어  수학\n",
       "철수   84  87  78\n",
       "영이   21  15  84\n",
       "길동   87  84  76\n",
       "미영  100  87  99\n",
       "순이   59  99  59\n",
       "철이   46  77  56"
      ]
     },
     "execution_count": 11,
     "metadata": {},
     "output_type": "execute_result"
    }
   ],
   "source": [
    "import pandas as pd\n",
    "scores = [[84, 87, 78], [21, 15, 84], [87, 84, 76], [100, 87, 99], [59, 99, 59], [46, 77, 56]]\n",
    "names = ['철수', '영이', '길동', '미영', '순이', '철이']\n",
    "lectures = ['국어', '영어', '수학']\n",
    "df=pd.DataFrame(scores, index=names, columns=lectures)\n",
    "df"
   ]
  },
  {
   "cell_type": "markdown",
   "metadata": {
    "id": "9e02JCaDwhSN"
   },
   "source": [
    "- 데이터프레임으로 그래프를 그리는 방법은 다음과 같이 두 가지를 사용할 수 있다.\n",
    "  - 첫 번째는 plt.그래프함수명(x, y)와 같이 앞서 설명했던 방법으로 그리는 것이다.\n",
    "    - 예) plt.plot(df.index, df['국어'])\n",
    "  - 두 번째는 데이터프레임명.plot(kind='그래프종류')와 같이 데이터프레임명을 .앞에 사용하는 것이다.\n",
    "    - 예) df['국어'].plot(kind='line')\n",
    "  - kind 옵션은 다음과 같다.\n",
    "    - 'line': 선그래프\n",
    "    - 'bar': 수직막대그래프\n",
    "    - 'barh': 수평막대그래프\n",
    "    - 'pie': 원그래프\n",
    "    - 'box': 박스그래프\n",
    "    - 'kde': 커널밀도그래프"
   ]
  },
  {
   "cell_type": "markdown",
   "metadata": {
    "id": "aU5BZ24VtPt7"
   },
   "source": [
    "### 선그래프: df변수명.plot(kind='line')"
   ]
  },
  {
   "cell_type": "code",
   "execution_count": 12,
   "metadata": {
    "id": "HAYAtHiZvprz"
   },
   "outputs": [
    {
     "data": {
      "image/png": "[encoded data removed]",
      "text/plain": [
       "<Figure size 432x288 with 1 Axes>"
      ]
     },
     "metadata": {
      "needs_background": "light"
     },
     "output_type": "display_data"
    }
   ],
   "source": [
    "df['국어'].plot(kind='line', marker='*', markersize='10', markerfacecolor='red')\n",
    "#plt.plot(df.index, df['국어'], marker='*', markersize='10', markerfacecolor='red')\n",
    "plt.title('국어성적')\n",
    "plt.xlabel('이름')\n",
    "plt.ylabel('점수')\n",
    "plt.show()"
   ]
  },
  {
   "cell_type": "markdown",
   "metadata": {
    "id": "ys1RH9v5tKa8"
   },
   "source": [
    "### 여러개 그래프: plt.subplot()\n",
    "- 여러 개의 그래프를 하나의 도화지에 나타내보자.\n",
    "- plt.figure(figsize = (12,3)) : 도화지의 사이즈를 가로 12, 세로 3 인치로 설정한다.\n",
    "- plt.subplot(row, column, index): 하나의 도화지를 row와 column으로 나누고 그래프가 들어갈 위치 즉, index를 적어준다."
   ]
  },
  {
   "cell_type": "code",
   "execution_count": 13,
   "metadata": {
    "id": "gFzsCn910SHV"
   },
   "outputs": [
    {
     "data": {
      "image/png": "[encoded data removed]",
      "text/plain": [
       "<Figure size 864x216 with 3 Axes>"
      ]
     },
     "metadata": {
      "needs_background": "light"
     },
     "output_type": "display_data"
    }
   ],
   "source": [
    "plt.figure(figsize=(12,3))\n",
    "for i in range(3):\n",
    "  plt.subplot(1,3,i+1)\n",
    "  df[lectures[i]].plot(kind='line')\n",
    "  #plt.plot(names,df[lectures[i]])\n",
    "  plt.title(lectures[i]+'성적')\n",
    "plt.show()"
   ]
  },
  {
   "cell_type": "markdown",
   "metadata": {
    "id": "MpIVnZoMtTrL"
   },
   "source": [
    "### 세로 막대그래프: df변수명.plot(kind='bar')"
   ]
  },
  {
   "cell_type": "code",
   "execution_count": 14,
   "metadata": {
    "id": "5avA02BZsce9"
   },
   "outputs": [
    {
     "data": {
      "image/png": "[encoded data removed]",
      "text/plain": [
       "<Figure size 432x288 with 1 Axes>"
      ]
     },
     "metadata": {
      "needs_background": "light"
     },
     "output_type": "display_data"
    }
   ],
   "source": [
    "df['국어'].plot(kind='bar')\n",
    "#plt.bar(df.index, df['국어'])\n",
    "plt.title('학생들의 성적')\n",
    "plt.ylabel('점수')\n",
    "plt.xlabel('이름')\n",
    "plt.show()"
   ]
  },
  {
   "cell_type": "code",
   "execution_count": 15,
   "metadata": {
    "id": "WVAQmGUoqrAU"
   },
   "outputs": [
    {
     "data": {
      "image/png": "[encoded data removed]",
      "text/plain": [
       "<Figure size 432x288 with 1 Axes>"
      ]
     },
     "metadata": {
      "needs_background": "light"
     },
     "output_type": "display_data"
    }
   ],
   "source": [
    "df.plot(kind='bar')\n",
    "plt.title('학생들의 성적')\n",
    "plt.ylabel('점수')\n",
    "plt.xlabel('이름')\n",
    "plt.show()"
   ]
  },
  {
   "cell_type": "markdown",
   "metadata": {
    "id": "D8Or3W7lxh4r"
   },
   "source": [
    "- 세로 막대 그래프를 정렬해보자."
   ]
  },
  {
   "cell_type": "code",
   "execution_count": 16,
   "metadata": {
    "id": "6M43CV-H_bPs"
   },
   "outputs": [
    {
     "data": {
      "text/html": [
       "<div>\n",
       "<style scoped>\n",
       "    .dataframe tbody tr th:only-of-type {\n",
       "        vertical-align: middle;\n",
       "    }\n",
       "\n",
       "    .dataframe tbody tr th {\n",
       "        vertical-align: top;\n",
       "    }\n",
       "\n",
       "    .dataframe thead th {\n",
       "        text-align: right;\n",
       "    }\n",
       "</style>\n",
       "<table border=\"1\" class=\"dataframe\">\n",
       "  <thead>\n",
       "    <tr style=\"text-align: right;\">\n",
       "      <th></th>\n",
       "      <th>국어</th>\n",
       "      <th>영어</th>\n",
       "      <th>수학</th>\n",
       "    </tr>\n",
       "  </thead>\n",
       "  <tbody>\n",
       "    <tr>\n",
       "      <th>철이</th>\n",
       "      <td>46</td>\n",
       "      <td>77</td>\n",
       "      <td>56</td>\n",
       "    </tr>\n",
       "    <tr>\n",
       "      <th>순이</th>\n",
       "      <td>59</td>\n",
       "      <td>99</td>\n",
       "      <td>59</td>\n",
       "    </tr>\n",
       "    <tr>\n",
       "      <th>길동</th>\n",
       "      <td>87</td>\n",
       "      <td>84</td>\n",
       "      <td>76</td>\n",
       "    </tr>\n",
       "    <tr>\n",
       "      <th>철수</th>\n",
       "      <td>84</td>\n",
       "      <td>87</td>\n",
       "      <td>78</td>\n",
       "    </tr>\n",
       "    <tr>\n",
       "      <th>영이</th>\n",
       "      <td>21</td>\n",
       "      <td>15</td>\n",
       "      <td>84</td>\n",
       "    </tr>\n",
       "    <tr>\n",
       "      <th>미영</th>\n",
       "      <td>100</td>\n",
       "      <td>87</td>\n",
       "      <td>99</td>\n",
       "    </tr>\n",
       "  </tbody>\n",
       "</table>\n",
       "</div>"
      ],
      "text/plain": [
       "     국어  영어  수학\n",
       "철이   46  77  56\n",
       "순이   59  99  59\n",
       "길동   87  84  76\n",
       "철수   84  87  78\n",
       "영이   21  15  84\n",
       "미영  100  87  99"
      ]
     },
     "execution_count": 16,
     "metadata": {},
     "output_type": "execute_result"
    }
   ],
   "source": [
    "sorted_math=df.sort_values(by='수학')\n",
    "sorted_math"
   ]
  },
  {
   "cell_type": "code",
   "execution_count": 17,
   "metadata": {
    "id": "00q6IyvArHU0"
   },
   "outputs": [
    {
     "data": {
      "image/png": "[encoded data removed]",
      "text/plain": [
       "<Figure size 432x288 with 1 Axes>"
      ]
     },
     "metadata": {
      "needs_background": "light"
     },
     "output_type": "display_data"
    }
   ],
   "source": [
    "sorted_math['수학'].plot(kind='bar')\n",
    "plt.title('수학성적')\n",
    "plt.ylabel('이름')\n",
    "plt.xlabel('점수')\n",
    "plt.show()"
   ]
  },
  {
   "cell_type": "markdown",
   "metadata": {
    "id": "b64PMm3ztYX1"
   },
   "source": [
    "### 가로 막대그래프: df변수명.plot(kind='barh')"
   ]
  },
  {
   "cell_type": "code",
   "execution_count": 18,
   "metadata": {
    "id": "XrZJ6LirtuMb"
   },
   "outputs": [
    {
     "data": {
      "image/png": "[encoded data removed]",
      "text/plain": [
       "<Figure size 432x288 with 1 Axes>"
      ]
     },
     "metadata": {
      "needs_background": "light"
     },
     "output_type": "display_data"
    }
   ],
   "source": [
    "df.plot(kind='barh', stacked = True)\n",
    "plt.title('학생들의 성적')\n",
    "plt.ylabel('이름')\n",
    "plt.xlabel('점수')\n",
    "plt.show()"
   ]
  },
  {
   "cell_type": "markdown",
   "metadata": {
    "id": "deKnKqJk3XT0"
   },
   "source": [
    "### 파이 그래프: df변수명.plot(kind='pie')\n",
    "- autopct : 파이조각을 백분율로 나타낸다.\n",
    "- explode: 특정 조각을 돌출시킨다."
   ]
  },
  {
   "cell_type": "markdown",
   "metadata": {
    "id": "XyI94dsy3-2J"
   },
   "source": [
    "```\n",
    "explode = [0.0, 0.1, 0.0, 0.0]\n",
    "데이터프레임명.plot(kind='pie',\n",
    "                 figsize=(7,5),\n",
    "                 autopct='%.1f%%',\n",
    "                 explode = explode,\n",
    "                 colors=['chocolate','bisque','cadetblue','yellow'])\n",
    "plt.show()\n",
    "```"
   ]
  },
  {
   "cell_type": "code",
   "execution_count": 19,
   "metadata": {
    "id": "Ne9iL9iEvzi7"
   },
   "outputs": [
    {
     "data": {
      "image/png": "[encoded data removed]",
      "text/plain": [
       "<Figure size 504x360 with 1 Axes>"
      ]
     },
     "metadata": {},
     "output_type": "display_data"
    }
   ],
   "source": [
    "import pandas as pd\n",
    "import matplotlib.pyplot as plt\n",
    "\n",
    "# 데이터 정의\n",
    "departments = ['경제학부', '국어교육과', '생명과학부', '소비자아동학부', '수리과학부',\n",
    "               '언론정보학과', '언어학과', '에너지자원공학과', '영어교육과', '윤리교육과',\n",
    "               '자유전공학부', '정치외교학부', '첨단융합학부', '체육교육과', '통계학과']\n",
    "students = [4, 3, 3, 2, 6,\n",
    "             2, 4, 7, 3, 1,\n",
    "             5, 3, 2, 6, 3]\n",
    "\n",
    "# 데이터프레임 생성\n",
    "data = {'Department': departments, 'Students': students}\n",
    "sugang = pd.DataFrame(data)\n",
    "\n",
    "# 파이차트 그리기\n",
    "explode = [0.0, 0.1, 0.0, 0.0, 0.0,\n",
    "           0.0, 0.1, 0.0, 0.0, 0.0,\n",
    "           0.0, 0.1, 0.0, 0.0, 0.0,]\n",
    "plt.figure(figsize=(10, 10))\n",
    "sugang['Students'].plot(kind='pie', figsize=(7,5), labels=sugang['Department'], autopct='%1.1f%%', explode = explode)\n",
    "plt.title('학과별 수강생 비율')\n",
    "plt.show()\n"
   ]
  },
  {
   "cell_type": "markdown",
   "metadata": {
    "id": "YEQVpqBCevDp"
   },
   "source": [
    "## II. Seaborn"
   ]
  },
  {
   "cell_type": "markdown",
   "metadata": {
    "id": "L2rmym4zEucX"
   },
   "source": [
    "Matplotlib을 기반으로 다양한 색상 테마와 통계용 차트 등의 기능을 확장한 파이썬 시각화 도구의 고급 버전 라이브러리이다.\n",
    "더 아름답고 복잡한 시각화를 간단한 코드로 구현할 수 있게 해준다."
   ]
  },
  {
   "cell_type": "markdown",
   "metadata": {
    "id": "_h7lTolQoD7W"
   },
   "source": [
    "<div align=\"center\"><img src=\"https://haesunbyun.github.io/common/images/graph.png\" height=300 style=\"width:600px;\"></div>"
   ]
  },
  {
   "cell_type": "code",
   "execution_count": 20,
   "metadata": {
    "id": "EHaWfed-BFTF"
   },
   "outputs": [
    {
     "name": "stderr",
     "output_type": "stream",
     "text": [
      "D:\\users\\anaconda3\\lib\\site-packages\\statsmodels\\tools\\_testing.py:19: FutureWarning: pandas.util.testing is deprecated. Use the functions in the public API at pandas.testing instead.\n",
      "  import pandas.util.testing as tm\n"
     ]
    }
   ],
   "source": [
    "import matplotlib.pyplot as plt\n",
    "import seaborn as sns"
   ]
  },
  {
   "cell_type": "markdown",
   "metadata": {
    "id": "4nUrUhM6AlqS"
   },
   "source": [
    "### 선그래프: sns.lineplot()"
   ]
  },
  {
   "cell_type": "code",
   "execution_count": 21,
   "metadata": {
    "id": "pq3FuXO7Alqd"
   },
   "outputs": [
    {
     "data": {
      "image/png": "[encoded data removed]",
      "text/plain": [
       "<Figure size 432x288 with 1 Axes>"
      ]
     },
     "metadata": {
      "needs_background": "light"
     },
     "output_type": "display_data"
    }
   ],
   "source": [
    "sns.lineplot(x=df.index, y='국어', data=df)\n",
    "#sns.lineplot(data=df['국어'])\n",
    "plt.show()"
   ]
  },
  {
   "cell_type": "markdown",
   "metadata": {
    "id": "hQAMw5Oy7CiW"
   },
   "source": [
    "### 막대그래프: sns.barplot()\n",
    "- 수직막대 그래프를 그린다.\n",
    "- 옵션 orient='h'를 하면 수평막대 그래프를 그린다."
   ]
  },
  {
   "cell_type": "code",
   "execution_count": 22,
   "metadata": {
    "id": "QSzsIm-Jzjf9"
   },
   "outputs": [
    {
     "data": {
      "image/png": "[encoded data removed]",
      "text/plain": [
       "<Figure size 432x288 with 1 Axes>"
      ]
     },
     "metadata": {
      "needs_background": "light"
     },
     "output_type": "display_data"
    }
   ],
   "source": [
    "sns.barplot(data=df['국어'])\n",
    "#sns.barplot(x=df.index, y='국어', data=df)\n",
    "plt.show()"
   ]
  },
  {
   "cell_type": "code",
   "execution_count": 23,
   "metadata": {
    "id": "7mbSG9B50DjP"
   },
   "outputs": [
    {
     "data": {
      "image/png": "[encoded data removed]",
      "text/plain": [
       "<Figure size 432x288 with 1 Axes>"
      ]
     },
     "metadata": {
      "needs_background": "light"
     },
     "output_type": "display_data"
    }
   ],
   "source": [
    "sns.barplot(data=df['국어'], orient='h')\n",
    "plt.show()"
   ]
  },
  {
   "cell_type": "markdown",
   "metadata": {
    "id": "YO-VGzqC7Fct"
   },
   "source": [
    "### 산포도 그래프: sns.scatterplot()\n",
    "- 산포도 그래프를 그린다."
   ]
  },
  {
   "cell_type": "code",
   "execution_count": 24,
   "metadata": {
    "id": "xaa9X7heaybE"
   },
   "outputs": [],
   "source": [
    "# 데이터\n",
    "heights = [150, 152, 155, 157, 160, 162, 164, 165, 167, 168,\n",
    "           170, 172, 174, 175, 177, 178, 180, 182, 185, 188]\n",
    "\n",
    "weights = [45, 46, 48, 50, 52, 53, 55, 56, 58, 59,\n",
    "           61, 63, 66, 68, 70, 71, 74, 76, 80, 83]\n",
    "\n",
    "# 데이터프레임 생성\n",
    "hw_df = pd.DataFrame({\n",
    "    'Height': heights,\n",
    "    'Weight': weights\n",
    "})\n",
    "\n",
    "#todo\n",
    "\n",
    "plt.show()"
   ]
  },
  {
   "cell_type": "markdown",
   "metadata": {
    "id": "A9W1K8hJ21f7"
   },
   "source": [
    "### 회귀선이 있는 산포도 그래프: sns.regplot()\n",
    "- regression plot\n",
    "- 산포도와 선형회귀분석에 의한 회귀선, 95%의 신뢰구간을  함께 나타내는 그래프이다.\n",
    "  - 회귀선: 산포도에 산재해 있는 점들의 관계에 근거하여 그어지는 선\n",
    "  - 회귀선 위아래 음영처리 된 부분이 신뢰구간이다.\n"
   ]
  },
  {
   "cell_type": "markdown",
   "metadata": {
    "id": "wXuNAMvbwoY_"
   },
   "source": [
    "😄 키와 몸무게의 관계를 보기위해 회귀선이 있는 산포도 그래프를 그려보자."
   ]
  },
  {
   "cell_type": "code",
   "execution_count": 25,
   "metadata": {
    "id": "6I4vywnBwtN3"
   },
   "outputs": [
    {
     "data": {
      "text/plain": [
       "<Figure size 360x216 with 0 Axes>"
      ]
     },
     "metadata": {},
     "output_type": "display_data"
    }
   ],
   "source": [
    "import matplotlib.pyplot as plt\n",
    "import seaborn as sns\n",
    "plt.figure(figsize=(5,3))\n",
    "#todo\n",
    "\n",
    "plt.show()"
   ]
  },
  {
   "cell_type": "markdown",
   "metadata": {
    "id": "9EtSISIwyUFy"
   },
   "source": [
    "### 카테고리별 회귀선이 있는 산포도 그리기: sns.lmplot()\n",
    "- regplot()과 비슷하나, hue 파라미터를 지정하여 카테고리별로 각각 데이터의 분포와 선형 관계를 표시할 수 있다.\n"
   ]
  },
  {
   "cell_type": "markdown",
   "metadata": {
    "id": "Hy7muhh6zVSX"
   },
   "source": [
    "😄 성별로 구분하여 국어와 영어의 관계를 보기위해 회귀선이 있는 산포도 그래프를 그려보자."
   ]
  },
  {
   "cell_type": "code",
   "execution_count": 26,
   "metadata": {
    "id": "r-sCNTTw5FeH"
   },
   "outputs": [
    {
     "data": {
      "text/plain": [
       "<Figure size 360x216 with 0 Axes>"
      ]
     },
     "metadata": {},
     "output_type": "display_data"
    },
    {
     "data": {
      "image/png": "[encoded data removed]",
      "text/plain": [
       "<Figure size 404.875x360 with 1 Axes>"
      ]
     },
     "metadata": {
      "needs_background": "light"
     },
     "output_type": "display_data"
    }
   ],
   "source": [
    "gender = ['남','여','남','여','여','남']\n",
    "df['성별']= gender\n",
    "\n",
    "plt.figure(figsize=(5,3))\n",
    "sns.lmplot(x='국어',y='영어',hue='성별',data=df)\n",
    "plt.show()"
   ]
  },
  {
   "cell_type": "markdown",
   "metadata": {
    "id": "_eY9V_YoAlqh"
   },
   "source": [
    "### 박스플롯 그래프:sns.boxplot()\n",
    "**박스플롯**은 수염상자, 봉, 캔들 등 다양한 이름을 가진 그래프이다.\n",
    "데이터의 분포와 이상치를 동시에 보여줘서 서로 다른 데이터군을 쉽게 비교할 수 있도록 최솟값, 최댓값, 제1사분위수(Q1), 제2사분위수(Q2, 중앙값), 제3사분위수(Q3) 등 다섯가지 통계로 데이터를 나타낸다.\n",
    "\n",
    "😄 성별별로 국어점수에 대해 박스플롯을 그려보자."
   ]
  },
  {
   "cell_type": "code",
   "execution_count": 27,
   "metadata": {
    "id": "FCQBtmpTAlqh"
   },
   "outputs": [
    {
     "data": {
      "image/png": "[encoded data removed]",
      "text/plain": [
       "<Figure size 432x288 with 1 Axes>"
      ]
     },
     "metadata": {
      "needs_background": "light"
     },
     "output_type": "display_data"
    }
   ],
   "source": [
    "sns.boxplot(x=df['성별'], y=df['국어'])\n",
    "#sns.boxplot(x='성별', y='국어', data=df)\n",
    "plt.show()"
   ]
  },
  {
   "cell_type": "markdown",
   "metadata": {
    "id": "mg1Tsxlw3cwv"
   },
   "source": [
    "### 히트맵 그래프: sns.heatmap()\n",
    "색상으로 표현할 수 있는 다양한 데이터를 매트릭스 형태로 보여주는 그래프이다.\n",
    "```\n",
    "sns.heatmap(data)\n",
    "```\n",
    "  - annot : 각 셀에 값을 나타낸다.\n",
    "  - fmt : 정수로 값을 나타낸다.\n",
    "  - cmap: 컬러맵을 적어준다. https://matplotlib.org/tutorials/colors/colormaps.html\n",
    "\n",
    "😄 학생과 과목별 히트맵그래프를 그려보자."
   ]
  },
  {
   "cell_type": "code",
   "execution_count": 28,
   "metadata": {
    "id": "81Y2Pf9LFsIa"
   },
   "outputs": [
    {
     "data": {
      "image/png": "[encoded data removed]",
      "text/plain": [
       "<Figure size 432x288 with 2 Axes>"
      ]
     },
     "metadata": {
      "needs_background": "light"
     },
     "output_type": "display_data"
    }
   ],
   "source": [
    "sns.heatmap(df.loc[:, '국어':'수학'],annot=True, fmt='d', cmap='YlGnBu', linewidth=0.5)\n",
    "plt.show()"
   ]
  },
  {
   "cell_type": "markdown",
   "metadata": {
    "id": "wE3Vamn2CZGK"
   },
   "source": [
    "### 히스토그램 그래프: sns.histplot()\n",
    "\n",
    "- 히스토그램 그래프로 보여준다.\n",
    "  - 히스토그램은 연속형 데이터를 통계적으로 근사화하여 도수 분포를 나타낸 것이다.  \n",
    "  - hue 옵션으로 카테고리를 넣어줄 수도 있다.\n"
   ]
  },
  {
   "cell_type": "code",
   "execution_count": 29,
   "metadata": {
    "id": "iNKvSVMfCbRc"
   },
   "outputs": [
    {
     "ename": "AttributeError",
     "evalue": "module 'seaborn' has no attribute 'histplot'",
     "output_type": "error",
     "traceback": [
      "\u001b[1;31m---------------------------------------------------------------------------\u001b[0m",
      "\u001b[1;31mAttributeError\u001b[0m                            Traceback (most recent call last)",
      "\u001b[1;32m<ipython-input-29-ea0fe7e4517d>\u001b[0m in \u001b[0;36m<module>\u001b[1;34m\u001b[0m\n\u001b[0;32m      1\u001b[0m \u001b[0mplt\u001b[0m\u001b[1;33m.\u001b[0m\u001b[0mfigure\u001b[0m\u001b[1;33m(\u001b[0m\u001b[0mfigsize\u001b[0m\u001b[1;33m=\u001b[0m\u001b[1;33m(\u001b[0m\u001b[1;36m5\u001b[0m\u001b[1;33m,\u001b[0m\u001b[1;36m3\u001b[0m\u001b[1;33m)\u001b[0m\u001b[1;33m)\u001b[0m\u001b[1;33m\u001b[0m\u001b[1;33m\u001b[0m\u001b[0m\n\u001b[1;32m----> 2\u001b[1;33m \u001b[0msns\u001b[0m\u001b[1;33m.\u001b[0m\u001b[0mhistplot\u001b[0m\u001b[1;33m(\u001b[0m\u001b[0mdf\u001b[0m\u001b[1;33m[\u001b[0m\u001b[1;34m'수학'\u001b[0m\u001b[1;33m]\u001b[0m\u001b[1;33m)\u001b[0m\u001b[1;33m\u001b[0m\u001b[1;33m\u001b[0m\u001b[0m\n\u001b[0m\u001b[0;32m      3\u001b[0m \u001b[0mplt\u001b[0m\u001b[1;33m.\u001b[0m\u001b[0mshow\u001b[0m\u001b[1;33m(\u001b[0m\u001b[1;33m)\u001b[0m\u001b[1;33m\u001b[0m\u001b[1;33m\u001b[0m\u001b[0m\n",
      "\u001b[1;31mAttributeError\u001b[0m: module 'seaborn' has no attribute 'histplot'"
     ]
    },
    {
     "data": {
      "text/plain": [
       "<Figure size 360x216 with 0 Axes>"
      ]
     },
     "metadata": {},
     "output_type": "display_data"
    }
   ],
   "source": [
    "plt.figure(figsize=(5,3))\n",
    "sns.histplot(df['수학'])\n",
    "plt.show()"
   ]
  },
  {
   "cell_type": "markdown",
   "metadata": {
    "id": "j6kMk8B4Cq4m"
   },
   "source": [
    "### count 그래프: sns.countplot()\n",
    "- 고유한 값이나 범주 수가 제한된 변수(예: 성별 또는 종교)인 범주형 변수의 빈도수를 시각화하여 보여주는 그래프이다.\n"
   ]
  },
  {
   "cell_type": "code",
   "execution_count": null,
   "metadata": {
    "id": "uiYyFPslCtdP"
   },
   "outputs": [],
   "source": [
    "visitor_days = [\n",
    "    '월', '월', '월', '화', '화', '수', '수', '수', '수', '목',\n",
    "    '목', '목', '목', '목', '금', '금', '금', '토', '토', '토', '토', '토', '일', '일'\n",
    "]\n",
    "\n",
    "df_v_days = pd.DataFrame({'요일': visitor_days})\n",
    "\n",
    "plt.figure(figsize=(5,3))\n",
    "sns.countplot(x='요일', data=df_v_days)\n",
    "plt.show()"
   ]
  },
  {
   "cell_type": "markdown",
   "metadata": {
    "id": "7dKbqhk8UoeZ"
   },
   "source": [
    "### 바이올린 그래프: sns.violinplot()\n",
    "- **바이올린그래프**는 커널 밀도 곡선(Kernel Density Curve)와 박스 플롯을 합친 형태의 그래프이다.\n",
    "- 하나의 변수의 연속형 데이터의 분포를 설명하기 위해 사용되는 그래프이며, 카테고리값에 전체 형상을 보여준다.\n",
    "\n",
    "😄 성별별로 국어점수에 대한 바이올린 그래프를 그려보자."
   ]
  },
  {
   "cell_type": "code",
   "execution_count": null,
   "metadata": {
    "id": "IbyDmEwUdqEn"
   },
   "outputs": [],
   "source": [
    "sns.violinplot(x='성별', y='국어', data=df)\n",
    "plt.show()"
   ]
  },
  {
   "cell_type": "markdown",
   "metadata": {
    "id": "hTpprjuYGDC8"
   },
   "source": [
    "### 화면분할 그래프: .FacetGrid()\n",
    "- **FacetGrid그래프**는 행, 열 방향으로 서로 다른 조건을 적용하여 여러 개의 서브 플롯을 만든다.\n",
    "- map() 함수를 이용하여 각 서브 플롯에 적용할 그래프 종류를 전달한다.\n"
   ]
  },
  {
   "cell_type": "code",
   "execution_count": null,
   "metadata": {
    "id": "131DM24zmspY"
   },
   "outputs": [],
   "source": [
    "df['평균'] = df.loc[: , '국어':'수학'].mean(axis=1)\n",
    "df['Pass/Fail'] = ['Pass' if i >= 75 else 'Fail' for i in df['평균']]\n",
    "df"
   ]
  },
  {
   "cell_type": "code",
   "execution_count": null,
   "metadata": {
    "id": "LLBNR1GqGFaB"
   },
   "outputs": [],
   "source": [
    "g=sns.FacetGrid (data=df, col='Pass/Fail', row='성별')\n",
    "g=g.map(plt.scatter, '평균', '국어')"
   ]
  },
  {
   "cell_type": "markdown",
   "metadata": {
    "id": "M0C2wMSIGVlc"
   },
   "source": [
    "### 이변수데이터 분포 그래프: sns.pairplot()\n",
    "- **pairplot그래프**는 데이터프레임의 열(변수)을 두 개씩 짝을 지을 수 있는 모든 조합에 대해 나타낸다.\n",
    "- 만들어진 짝의 개수만큼 화면을 그리드로 나눈다.\n",
    "- 같은 변수끼리 짝을 이루는 경우에는 **히스토그램**을 나타내고, 서로 다른 변수 간에는 **산점도**를 나타낸다.\n",
    "- 옵션 `hue`는 카테고리별로 보여준다.\n"
   ]
  },
  {
   "cell_type": "code",
   "execution_count": null,
   "metadata": {
    "id": "GaDItud6Gd4l"
   },
   "outputs": [],
   "source": [
    "sns.pairplot(df)\n",
    "plt.show()"
   ]
  },
  {
   "cell_type": "markdown",
   "metadata": {
    "id": "mXADka895crI"
   },
   "source": [
    "## 마무리\n",
    "- 선그래프:\n",
    "  - plt.plot()\n",
    "  - dt.plot(kind='line')\n",
    "- 산포도그래프:\n",
    "  - plt.scatter()\n",
    "  - dt.plot(kind='scatter')\n",
    "- 칼라바: plt.colorbar()\n",
    "- 세로막대 그래프:\n",
    "  - plt.bar()\n",
    "  - dt.plot(kind='bar')\n",
    "- 가로막대 그래프:\n",
    "  - plt.barh()\n",
    "  - dt.plot(kind='barh')\n",
    "- 히스토그램: dt.plot(kind='hist')\n",
    "- 파이차트: dt.plot(kind='pie')\n",
    "- 히트맵: sns.heatmap()\n",
    "- 이변수그래프: sns.pairplot()\n",
    "- 회귀선이 있는 산포도: sns.regplot()\n",
    "- 카테고리별 회귀선이 있는 산포도: sns.lmplot()\n",
    "- 히스토그램: sns.histplot()\n",
    "- 막대그래프: sns.barplot()\n",
    "- 빈도그래프: sns.countplot()\n",
    "- 박스플롯그래프: sns.boxplot()\n",
    "- 바이올린그래프: sns.violinplot()\n",
    "- 화면 그리드로 분할하기:\n",
    "sns.FacetGrid()\n"
   ]
  },
  {
   "cell_type": "markdown",
   "metadata": {
    "id": "kDzabw71y57X"
   },
   "source": [
    "---\n",
    "<font color='Grey' size=\"4\">\n",
    "F37.101 컴퓨팅 기초: 처음 만나는 컴퓨팅(First Adventures in Computing)</font> 서울대학교 학부대학 변해선\n",
    "\n",
    "---\n"
   ]
  }
 ],
 "metadata": {
  "colab": {
   "provenance": [
    {
     "file_id": "https://github.com/HaesunByun/Basic-Computing-Ver.2/blob/gh-pages/_sources/BB_chapter13.ipynb",
     "timestamp": 1748228417464
    },
    {
     "file_id": "10SQERGNAbI3_H2qSqYKLyNoxNNkm16PX",
     "timestamp": 1716375751930
    },
    {
     "file_id": "1Wqoo6g-UF5F7OBCtrCUF1W_SeGG4VGM8",
     "timestamp": 1678443253117
    }
   ],
   "toc_visible": true
  },
  "kernelspec": {
   "display_name": "Python 3",
   "name": "python3"
  },
  "language_info": {
   "codemirror_mode": {
    "name": "ipython",
    "version": 3
   },
   "file_extension": ".py",
   "mimetype": "text/x-python",
   "name": "python",
   "nbconvert_exporter": "python",
   "pygments_lexer": "ipython3",
   "version": "3.7.4"
  }
 },
 "nbformat": 4,
 "nbformat_minor": 0
}