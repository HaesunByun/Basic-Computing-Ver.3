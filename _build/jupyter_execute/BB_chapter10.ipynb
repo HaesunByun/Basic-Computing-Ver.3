{
 "cells": [
  {
   "cell_type": "markdown",
   "metadata": {
    "id": "3SFM4wugjM5-"
   },
   "source": [
    "---\n",
    "<font color='Blue' size=\"4\">\n",
    "F37.101 컴퓨팅 기초: 처음 만나는 컴퓨팅(First Adventures in Computing)</font>\n",
    "\n",
    "---\n",
    "\n"
   ]
  },
  {
   "cell_type": "markdown",
   "metadata": {
    "id": "tnggpWyuaaAw"
   },
   "source": [
    "# Chapter 10. Numpy\n",
    "\n"
   ]
  },
  {
   "cell_type": "markdown",
   "metadata": {
    "id": "GT3_F344uLCB"
   },
   "source": [
    ":::{admonition} 학습목표와 기대효과\n",
    ":class: info  \n",
    "- 학습목표\n",
    "  - 배열을 생성해보고 다뤄보자.\n",
    "  - 배열과 리스트의 차이를 알아보자.\n",
    "  - Shallow copy와 Deep Copy를 이해하자.\n",
    "\n",
    "- 기대효과\n",
    "  - 다수의 데이터를 저장하기 위해 적절한 자료형을 선택할 수 있고 다룰 수 있다.\n",
    ":::"
   ]
  },
  {
   "cell_type": "markdown",
   "metadata": {
    "id": "LGvyrOcScIwc"
   },
   "source": [
    "## 배열(Array)"
   ]
  },
  {
   "cell_type": "markdown",
   "metadata": {
    "id": "kLNKa5DWMSyL"
   },
   "source": [
    "- numpy는 Number와 python의 합성어이다.\n",
    "- 행렬이나 대규모 다차원 배열을 쉽고 빠르게 처리할 수 있도록 하는 파이썬 라이브러리이며, 간단한 기능부터 계산과학 분야의 복잡한 연산을 지원하기 위한 기능들까지 포함되어 있다.\n",
    "- 행렬은 행과 열이 있는 것, 배열은 행렬을 여러개 쌓아올린 것이다.\n",
    "- numpy의 배열에는 모두 동일한 자료형만 저장이 가능하다."
   ]
  },
  {
   "cell_type": "markdown",
   "metadata": {
    "id": "YR1nUbiYucFP"
   },
   "source": [
    "- numpy를 사용하기 위해서는 import로 모듈을 불러와야한다.\n",
    "- 공공연한 약속처럼 numpy모듈은 보통 np라는 별칭으로 불리운다.\n",
    "- 별칭은 as라는 키워드를 사용하여 만든다.\n",
    "\n"
   ]
  },
  {
   "cell_type": "code",
   "execution_count": 1,
   "metadata": {
    "id": "QWCL5zhLFzha"
   },
   "outputs": [],
   "source": [
    "import numpy as np"
   ]
  },
  {
   "cell_type": "markdown",
   "metadata": {
    "id": "NwRzSaRE68wi"
   },
   "source": [
    "### 1-D array(벡터) 생성하기"
   ]
  },
  {
   "cell_type": "markdown",
   "metadata": {
    "id": "ylFEjmcEvGAr"
   },
   "source": [
    "- 1차원 배열부터 만들어보자.\n",
    "- numpy모듈에서는 배열을 생성하는 다양한 방법을 지원한다.\n",
    "  - numpy 모듈의 `array()`를 통해 배열을 만들 수 있다.\n",
    "  - numpy 모듈의 `arange()`를 통해 배열을 만들 수 있다.\n",
    "\n",
    "\n",
    "```\n",
    "np.array(리스트 or range())\n",
    "np.arange(start, end, step)\n",
    "```\n",
    "\n"
   ]
  },
  {
   "cell_type": "code",
   "execution_count": 2,
   "metadata": {
    "id": "uYGYmPluN3k9"
   },
   "outputs": [],
   "source": [
    "ar1 = np.array([10,25,36,41,59])\n",
    "ar11 = np.array(range(10))\n",
    "ar111 = np.arange(1,6)\n"
   ]
  },
  {
   "cell_type": "markdown",
   "metadata": {
    "id": "FbeeswXO7BAq"
   },
   "source": [
    "### 2-D array(매트릭스, 행렬) 생성하기\n",
    "\n",
    "- 2차원 배열은 행(Row)과 열(Column)로 구성되어 있다.\n",
    "<div align=\"center\"><img src=\"https://haesunbyun.github.io/common/images/array.png\" style=\"width:400px;\"></div>\n",
    "\n",
    "- 행은 가로 방향으로 줄을 세운 것이며, 열은 세로 방향으로 줄을 세운 것이다.\n",
    "- 2차원 배열은 array()에 중첩 리스트를 넣어주거나, arange()로 1차원 배열을 만든 후 배열모양을 바꿔주는 reshape()을 통해서 2차원 배열을 생성할 수 있다.\n",
    "\n",
    "```\n",
    "np.array([리스트 of 리스트])\n",
    "np.arange(start,end,step).reshape(row, column)\n",
    "```\n",
    "- 여기서 row는 행의 개수, column은 열의 개수이다.\n",
    "- 이때 column을 -1로 써주면 각 행에 들어갈 데이터의 개수를 똑같이 적용해준다. 이를 위해서는 배열 원소의 개수와 row*column의 개수가 같아야 한다."
   ]
  },
  {
   "cell_type": "code",
   "execution_count": 3,
   "metadata": {
    "id": "uQ2eHCNUOO-A"
   },
   "outputs": [],
   "source": [
    "ar2 = np.array([[1,2,3], [4,5,6], [7,8,9], [10,11,12]])\n",
    "ar22 = np.arange(1,13).reshape(4,3)\n",
    "ar222 = ar2.reshape(3,-1)\n"
   ]
  },
  {
   "cell_type": "markdown",
   "metadata": {
    "id": "N768ot3h7EP-"
   },
   "source": [
    "### 3-D array(텐서) 생성하기\n",
    "- 3차원 배열은 면(page), 행, 열을 가진다.\n",
    "- 생성하는 방법은 2차원 배열과 유사하지만 리스트가 3번 중첩된다.\n",
    "\n",
    "```\n",
    "np.array([리스트 of 리스트 of 리스트])\n",
    "np.arange(start,end,step).reshape(page, row, column)\n",
    "```"
   ]
  },
  {
   "cell_type": "code",
   "execution_count": 4,
   "metadata": {
    "id": "_tYV1BmqROKg"
   },
   "outputs": [],
   "source": [
    "ar3 = np.array([[[1,2,3], [4,5,6]],\n",
    "                [[7,8,9], [10,11,12]]])\n"
   ]
  },
  {
   "cell_type": "markdown",
   "metadata": {
    "id": "tvs1vdM3rdy9"
   },
   "source": [
    "😄3차원 배열 생성하기1\n",
    "\n",
    "\n",
    "다음과 같은 배열을 생성하시오.\n",
    "\n",
    "\n",
    "```\n",
    "[[[100  90  80]\n",
    "  [ 70  60  50]]\n",
    "\n",
    " [[ 15  25  35]\n",
    "  [ 45  55  65]]\n",
    "\n",
    " [[ 11  22  33]\n",
    "  [ 44  55  66]]]\n",
    "```\n",
    "\n"
   ]
  },
  {
   "cell_type": "markdown",
   "metadata": {
    "id": "-3pUyYKbZT3T"
   },
   "source": [
    "- 3차원 배열의 열의 개수는 `len(배열명[면인덱스,행인덱스])`로 확인할 수 있다.\n"
   ]
  },
  {
   "cell_type": "code",
   "execution_count": 5,
   "metadata": {
    "id": "2z2JhffkXlt5"
   },
   "outputs": [
    {
     "name": "stdout",
     "output_type": "stream",
     "text": [
      "number of pages: 2\n",
      "number of rows: 2\n",
      "number of columns: 3\n"
     ]
    }
   ],
   "source": [
    "print(f'number of pages: {len(ar3)}')\n",
    "print(f'number of rows: {len(ar3[0])}')\n",
    "print(f'number of columns: {len(ar3[0,0])}')"
   ]
  },
  {
   "cell_type": "markdown",
   "metadata": {
    "id": "Z_l0_5DlakqI"
   },
   "source": [
    "- 배열의 구성, 차수 등의 정보를 확인하기 위해서는 다음과 같은 변수를 쓸 수 있다.\n",
    "\n",
    "```\n",
    "배열명.ndim\n",
    "배열명.shape\n",
    "배열명.size\n",
    "```\n",
    "  - ndim: 배열의 축 또는 차원의 개수\n",
    "  - shape: 배열의 모양이며, (m,n)형식으로 나타난다.\n",
    "  - size: 배열 원소의 개수. shape내의 원소의 크기의 곱과 같다. 즉 shape의 m*n은 size와 같다."
   ]
  },
  {
   "cell_type": "code",
   "execution_count": 6,
   "metadata": {
    "id": "JbRVCP28S8UX"
   },
   "outputs": [
    {
     "name": "stdout",
     "output_type": "stream",
     "text": [
      "3\n",
      "(2, 2, 3)\n",
      "12\n"
     ]
    }
   ],
   "source": [
    "print(ar3.ndim)\n",
    "print(ar3.shape)\n",
    "print(ar3.size)"
   ]
  },
  {
   "cell_type": "markdown",
   "metadata": {
    "id": "WlPxbcIrg8Va"
   },
   "source": [
    "## Numpy의 응용"
   ]
  },
  {
   "cell_type": "markdown",
   "metadata": {
    "id": "FFEtDvfxwlVS"
   },
   "source": [
    "- numpy로 만든 배열은 다양한 목적을 위해 사용되지만 선형 그래프를 그리기 위해 배열을 활용하는 하나의 예를 보도록 하자.\n",
    "- 그래프를 그리기 위한 수식은 다음과 같다.\n",
    "\n",
    "> $y=2x^2-3x+1$\n"
   ]
  },
  {
   "cell_type": "markdown",
   "metadata": {
    "id": "ADwhSZzCybAB"
   },
   "source": [
    "- 파이썬으로 그래프를 그리기 위해서는 matplotlib.pyplot 모듈을 불러와야 한다.\n",
    "- matplotlib.pyplot 모듈은 보통 plt라는 별칭으로 불리운다.\n",
    "- plt의 plot()은 선형그래프를 그리는 함수이다.\n",
    "- 파이썬에서는 그래프를 그렸다고 해서 화면에 바로 보여주지 않는다. plt.show()는 그래프를 화면에 보여주는 함수이다.\n",
    "\n",
    "\n",
    "```\n",
    "plt.plot(x축 데이터, y축 데이터)\n",
    "```"
   ]
  },
  {
   "cell_type": "code",
   "execution_count": 7,
   "metadata": {
    "id": "ePRxcSPLyZWi"
   },
   "outputs": [
    {
     "data": {
      "text/plain": [
       "<Figure size 640x480 with 1 Axes>"
      ]
     },
     "metadata": {},
     "output_type": "display_data"
    }
   ],
   "source": [
    "import matplotlib.pyplot as plt\n",
    "x = np.arange(0, 5, 0.1)\n",
    "y = 2*(x**2)-3*x+1\n",
    "plt.plot(x, y)\n",
    "plt.show()"
   ]
  },
  {
   "cell_type": "markdown",
   "metadata": {
    "id": "8vizzRi_Us5T"
   },
   "source": [
    "### Vectorization operation\n",
    "1차원으로 묶은 수를 수학에서 벡터(vector)라고 한다.\n",
    "벡터연산은 벡터의 동일 인덱스에 위치한 원소들끼리 연산을 수행하는 기능이다.\n",
    "numpy에서는 사칙연산, 논리연산, 비교연산에 대해 모두 벡터연산을 지원한다."
   ]
  },
  {
   "cell_type": "markdown",
   "metadata": {
    "id": "vvPQaWKyLSvP"
   },
   "source": [
    "- 모든 사칙연산에 대해 벡터연산을 한다."
   ]
  },
  {
   "cell_type": "code",
   "execution_count": 8,
   "metadata": {
    "id": "h7h-Q1tQhoza"
   },
   "outputs": [
    {
     "name": "stdout",
     "output_type": "stream",
     "text": [
      "[5 7 9]\n",
      "[-3 -3 -3]\n",
      "[ 4 10 18]\n",
      "[0.25 0.4  0.5 ]\n"
     ]
    }
   ],
   "source": [
    "a = np.array([1,2,3])\n",
    "b = np.array([4,5,6])\n",
    "print(a+b)\n",
    "print(a-b)\n",
    "print(a*b)\n",
    "print(a/b)"
   ]
  },
  {
   "cell_type": "markdown",
   "metadata": {
    "id": "TOPtl0I1uHl4"
   },
   "source": [
    "- 행렬끼리 연산할때 크기가 다른 경우 이를 자동으로 확대해 주는 기능을 브로드캐스팅이라고 한다.\n",
    "\n",
    "<div align=\"center\"><img src=\"https://haesunbyun.github.io/common/images/broadcasting.png\" style=\"width:400px;\"></div>"
   ]
  },
  {
   "cell_type": "code",
   "execution_count": 9,
   "metadata": {
    "id": "3MhgkMa1utGI"
   },
   "outputs": [
    {
     "name": "stdout",
     "output_type": "stream",
     "text": [
      "[[ 0  1  2]\n",
      " [ 3  4  5]\n",
      " [ 6  7  8]\n",
      " [ 9 10 11]] \n",
      "\n",
      " [0 1 2] \n",
      "\n",
      " [[0]\n",
      " [1]\n",
      " [2]\n",
      " [3]]\n"
     ]
    }
   ],
   "source": [
    "ar0 = np.arange(12).reshape(4, 3)\n",
    "ar1 = np.arange(3)\n",
    "ar2 = np.arange(4).reshape(4, 1)\n",
    "print(ar0, '\\n\\n', ar1, '\\n\\n', ar2)"
   ]
  },
  {
   "cell_type": "code",
   "execution_count": 10,
   "metadata": {
    "id": "MWpD-xxBuy4g"
   },
   "outputs": [
    {
     "data": {
      "text/plain": [
       "array([[ 0,  2,  4],\n",
       "       [ 3,  5,  7],\n",
       "       [ 6,  8, 10],\n",
       "       [ 9, 11, 13]])"
      ]
     },
     "execution_count": 10,
     "metadata": {},
     "output_type": "execute_result"
    }
   ],
   "source": [
    "ar0 + ar1"
   ]
  },
  {
   "cell_type": "code",
   "execution_count": 11,
   "metadata": {
    "id": "Bo6RQG0Gu2ed"
   },
   "outputs": [
    {
     "data": {
      "text/plain": [
       "array([[ 0,  1,  2],\n",
       "       [ 4,  5,  6],\n",
       "       [ 8,  9, 10],\n",
       "       [12, 13, 14]])"
      ]
     },
     "execution_count": 11,
     "metadata": {},
     "output_type": "execute_result"
    }
   ],
   "source": [
    "ar0 + ar2"
   ]
  },
  {
   "cell_type": "markdown",
   "metadata": {
    "id": "i4ZbdVP3L6YC"
   },
   "source": [
    "- 모든 비교연산에 대해 벡터연산을 한다."
   ]
  },
  {
   "cell_type": "code",
   "execution_count": 12,
   "metadata": {
    "id": "WNy0oVbVLQlw"
   },
   "outputs": [
    {
     "name": "stdout",
     "output_type": "stream",
     "text": [
      "[False False False]\n",
      "[False  True False]\n"
     ]
    }
   ],
   "source": [
    "print(b>10)\n",
    "print((b%2)==1)"
   ]
  },
  {
   "cell_type": "markdown",
   "metadata": {
    "id": "xaJ4hyuFNdNg"
   },
   "source": [
    "- 모든 논리연산에 대해 벡터연산을 한다.\n",
    "그러나 and, or, not 연산자 기호를 쓰지 않는다.\n",
    "- 기호 이외에 별도의 논리적인 연산을 할 수 있는 함수(logical_and(), logical_or(),logical_not()..)도 존재한다.\n",
    "  - and는 `&`,\n",
    "  - or는 `|`,\n",
    "  - not은 `~`로 쓴다."
   ]
  },
  {
   "cell_type": "code",
   "execution_count": 13,
   "metadata": {
    "id": "ulNwmDCxXqMo"
   },
   "outputs": [
    {
     "name": "stdout",
     "output_type": "stream",
     "text": [
      "[ True  True False]\n"
     ]
    }
   ],
   "source": [
    "a = np.array([160,175,157])\n",
    "c = np.array(['여','여','남'])\n",
    "print((a>162) | (c=='여'))"
   ]
  },
  {
   "cell_type": "markdown",
   "metadata": {
    "id": "KkamOPYhu8GP"
   },
   "source": [
    "## 배열과 리스트의 비교\n",
    "- 얼핏 비슷해 보이지만 완전히 기능이 다른\n",
    "파이썬의 리스트(list)와 numpy의 배열(array)의 차이를 간단히 비교해보자."
   ]
  },
  {
   "cell_type": "markdown",
   "metadata": {
    "id": "7WRbQIoYd4W4"
   },
   "source": [
    "- 리스트와 배열의 생성에서,\n",
    "  - 리스트는 정수, 실수, 문자열, 리스트 등 다양한 자료형을 하나의 리스트에 담을 수 있다.\n",
    "  - 배열은 동일한 자료형만 하나의 배열에 담을 수 있다.\n",
    "  - 타입은,\n",
    "    - 리스트는 list 타입이다.\n",
    "    - 배열은 numpy.ndarray 타입이다.\n",
    "- 출력형태\n",
    "  - 리스트는 대괄호안에 콤마(,)로 아이템을 구분한다.\n",
    "  - 배열은 대괄호안에 구분기호 없이 공백으로만 원소를 구분한다."
   ]
  },
  {
   "cell_type": "code",
   "execution_count": 14,
   "metadata": {
    "id": "wzIGZ76deAQs"
   },
   "outputs": [
    {
     "name": "stdout",
     "output_type": "stream",
     "text": [
      "['바나나', '딸기', 100, 5.5, ['BTS', '블랙핑크']]\n",
      "[1. 2. 3.]\n",
      "['1' '2' '3.0']\n",
      "[1 2 None]\n",
      "<class 'list'> <class 'numpy.ndarray'> <class 'numpy.ndarray'> <class 'numpy.ndarray'>\n"
     ]
    }
   ],
   "source": [
    "its_list = ['바나나', '딸기', 100, 5.5,['BTS', '블랙핑크']]\n",
    "its_array = np.array([1, 2, 3.0])\n",
    "its_array1 = np.array([1, 2, '3.0'])\n",
    "its_array2 = np.array([1, 2, None])\n",
    "print(its_list)\n",
    "print(its_array)\n",
    "print(its_array1)\n",
    "print(its_array2)\n",
    "print(type(its_list), type(its_array), type(its_array1), type(its_array2))"
   ]
  },
  {
   "cell_type": "markdown",
   "metadata": {
    "id": "3j5xcnXGgCQt"
   },
   "source": [
    "- 리스트와 배열에 곱셈연산을 해보았을 때,\n",
    "  - 리스트에서 곱셈은 리스트를 이어 붙이는 concatenate이다. 즉, 각 원소에 곱셈을 하지 않는다.\n",
    "  - 배열은 각 원소에 벡터연산을 한다.\n"
   ]
  },
  {
   "cell_type": "code",
   "execution_count": 15,
   "metadata": {
    "id": "GthFPHBIMNA8"
   },
   "outputs": [
    {
     "name": "stdout",
     "output_type": "stream",
     "text": [
      "['바나나', '딸기', 100, 5.5, ['BTS', '블랙핑크'], '바나나', '딸기', 100, 5.5, ['BTS', '블랙핑크']]\n",
      "========\n",
      "[2. 4. 6.]\n"
     ]
    }
   ],
   "source": [
    "print(its_list*2)\n",
    "print('========')\n",
    "print(its_array*2)"
   ]
  },
  {
   "cell_type": "markdown",
   "metadata": {
    "id": "PI3z-b_Enuak"
   },
   "source": [
    "- 리스트와 배열의 메서드\n",
    "  - 리스트와 배열은 자료형이 다르므로 지원하는 메서드의 종류도 다르다.\n",
    "  - 예를 들어, 리스트에서는 mean, argmax, round 등의 메소드를 지원하지 않는다. 그 이유는 리스트에는 다양한 자료형을 저장할 수 있는데 예를 들어, 문자열의 평균, 최대값, 소수점 처리를 할 수 없기 때문이다.\n",
    "    - mean: 평균\n",
    "    - argmax: 최대값 인덱스\n",
    "    - round: 숫자를 지정한 자리수로 반올림\n",
    "    - ...\n",
    "  - 반면, 배열에서는 append, remove, extend 등 리스트 메소드를 지원하지 않는다.\n",
    "    - append: 원소 추가\n",
    "    - remove: 원소 삭제\n",
    "    - extend: 리스트 확장"
   ]
  },
  {
   "cell_type": "markdown",
   "metadata": {
    "id": "YBZyZ0wqo04c"
   },
   "source": [
    "- 리스트와 배열의 연산속도\n",
    "  - 리스트와 배열의 연산속도를 확인해보자.\n",
    "  - 억개의 숫자에 대해서 2를 곱했다.\n",
    "  - 결과를 보면 배열(array)가 10배 이상 빠르다.\n",
    "  - 배열은 동일한 자료형만 저장하므로 데이터 저장에 필요한 저장공간이 일정하며 연속적이다. 따라서 메모리 주소 측면에서 인덱스를 통해 빠르게 데이터에 접근할 수 있다.\n",
    "  - 반면, 리스트는 다양한 자료형을 저장할 수 있어서 필요한 저장공간이 일정하지 않으며, 메모리 활동공간도 연속적이지 않다. 인덱스를 갖지만 이는 몇 번째 데이터인가 정도를 의미한다."
   ]
  },
  {
   "cell_type": "markdown",
   "metadata": {
    "id": "J_7H3pYslpfM"
   },
   "source": [
    "```python\n",
    "import time\n",
    "a = list(range(10 ** 8))\n",
    "\n",
    "start = time.time()\n",
    "[i *2 for i in a]\n",
    "end = time.time()\n",
    "print(f'리스트 실행시간: {end - start}')\n",
    "\n",
    "a = np.array(range(10 ** 8))\n",
    "start = time.time()\n",
    "a * 2\n",
    "end = time.time()\n",
    "print(f'배열 실행시간: {end - start}')\n",
    "```\n",
    "\n"
   ]
  },
  {
   "cell_type": "markdown",
   "metadata": {
    "id": "CjvQz7hiyphu"
   },
   "source": [
    "### 인덱싱\n",
    "- 1차원 배열을 인덱싱하는 것은 리스트와 동일하다.\n"
   ]
  },
  {
   "cell_type": "code",
   "execution_count": 16,
   "metadata": {
    "id": "VQte8atgUr-j"
   },
   "outputs": [
    {
     "name": "stdout",
     "output_type": "stream",
     "text": [
      "[ 0  1  2  3  4  5  6  7  8  9 10 11] \n",
      "\n",
      "===결과===\n",
      "5\n"
     ]
    }
   ],
   "source": [
    "ar=np.arange(12)\n",
    "print(ar, '\\n\\n===결과===')\n",
    "print(ar[5])"
   ]
  },
  {
   "cell_type": "markdown",
   "metadata": {
    "id": "QEjouPNg52B6"
   },
   "source": [
    "- 2차원 배열을 인덱싱하는 방법은 대괄호를 연속하여 쓰고 인덱스를 각각 넣거나 하나의 대괄호에 콤마로 구분하여 인덱스를 넣어준다.\n",
    "    \n",
    "```\n",
    "- 배열명[행인덱스][열인덱스]\n",
    "- 배열명[행인덱스,열인덱스]\n",
    "```\n",
    "\n"
   ]
  },
  {
   "cell_type": "markdown",
   "metadata": {
    "id": "DLju7uir_sGl"
   },
   "source": [
    "- ar[1][2]와 같이 대괄호를 연속하여 쓰면 가장 앞 대괄호부터 인덱싱 하여 나온 결과를 가지고 다음 대괄호의 인덱싱을 차례대로 한다. 즉, 앞의 대괄호를 통해 나온 결과가 작업범위의 대상이 된다.\n",
    "\n",
    "- ar[1,2]와 같이 대괄호를 하나 쓰고 행과 열을 콤마로 구분하면 작업범위가 배열 전체를 대상으로 한다."
   ]
  },
  {
   "cell_type": "code",
   "execution_count": 17,
   "metadata": {
    "id": "vORygazZ5_5l"
   },
   "outputs": [
    {
     "name": "stdout",
     "output_type": "stream",
     "text": [
      "[[ 0  1  2]\n",
      " [ 3  4  5]\n",
      " [ 6  7  8]\n",
      " [ 9 10 11]] \n",
      "\n",
      "===결과===\n",
      "5\n",
      "5\n"
     ]
    }
   ],
   "source": [
    "ar=np.arange(12).reshape(4,3)\n",
    "print(ar, '\\n\\n===결과===')\n",
    "print(ar[1][2])\n",
    "print(ar[1,2])"
   ]
  },
  {
   "cell_type": "markdown",
   "metadata": {
    "id": "OvJldqMc8iGA"
   },
   "source": [
    "### 슬라이싱\n",
    "- 슬라이싱의 경우에는 대괄호를 연속으로 사용하는 것과 하나의 대괄호에 콤마로 나열하는 것의 결과가 다를 수도 있다."
   ]
  },
  {
   "cell_type": "code",
   "execution_count": 18,
   "metadata": {
    "id": "imGqulZIcxIf"
   },
   "outputs": [
    {
     "name": "stdout",
     "output_type": "stream",
     "text": [
      "[[ 0  1  2  3]\n",
      " [ 4  5  6  7]\n",
      " [ 8  9 10 11]]\n",
      "\n",
      "\n",
      "===연속된 대괄호 결과===\n",
      "[[ 8  9 10 11]]\n",
      "\n",
      "\n",
      "===하나의 대괄호 결과===\n",
      "[[ 5  6  7]\n",
      " [ 9 10 11]]\n"
     ]
    }
   ],
   "source": [
    "ar=np.arange(12).reshape(3,4)\n",
    "print(ar)\n",
    "print('\\n\\n===연속된 대괄호 결과===')\n",
    "print(ar[1:][1:])\n",
    "print('\\n\\n===하나의 대괄호 결과===')\n",
    "print(ar[1:, 1:])"
   ]
  },
  {
   "cell_type": "markdown",
   "metadata": {
    "id": "A1ml-aF0Em78"
   },
   "source": [
    "- 위의 코드에서 ar[1:]의 결과는 아래와 같다.\n",
    "\n",
    "```\n",
    " [[ 4  5  6  7]\n",
    " [ 8  9 10 11]]\n",
    "```\n",
    "- 이 결과를 대상으로 두번째 대괄호 [1:]을 슬라이싱한다. 결과는 [ 8  9 10 11]가 슬라이싱 된다.\n",
    "\n",
    "- ar[1:, 1:]는 ar 전체를 대상으로 작업하므로 행은 1행부터 끝까지, 그 범위에서 열이 1열부터 끝까지를 슬라이싱한다."
   ]
  },
  {
   "cell_type": "markdown",
   "metadata": {
    "id": "LJr0W1gUsRZ8"
   },
   "source": [
    "## 배열의 유용한 함수들I\n",
    "- 배열을 생성할 때 사용할 수 있는 몇 가지 유용한 함수를 살펴본다.\n",
    "  - zeros()\n",
    "  - ones()\n",
    "  - np.random\n",
    "  - linspace()\n",
    "  - transpose()\n"
   ]
  },
  {
   "cell_type": "markdown",
   "metadata": {
    "id": "YwWDLgFiulT3"
   },
   "source": [
    "### zeros()\n",
    "- zeros(): 0으로 구성된 배열을 생성한다."
   ]
  },
  {
   "cell_type": "code",
   "execution_count": 19,
   "metadata": {
    "id": "A0wuMxW5T5GX"
   },
   "outputs": [
    {
     "name": "stdout",
     "output_type": "stream",
     "text": [
      "[[0. 0. 0. 0. 0. 0.]\n",
      " [0. 0. 0. 0. 0. 0.]\n",
      " [0. 0. 0. 0. 0. 0.]]\n"
     ]
    }
   ],
   "source": [
    "ar_zero = np.zeros((3,6))\n",
    "print(ar_zero)"
   ]
  },
  {
   "cell_type": "markdown",
   "metadata": {
    "id": "oCb6P6hesWnY"
   },
   "source": [
    "### ones()\n",
    "- ones(): 1로 구성된 배열을 생성한다."
   ]
  },
  {
   "cell_type": "code",
   "execution_count": 20,
   "metadata": {
    "id": "YItZes2UXKwy"
   },
   "outputs": [
    {
     "name": "stdout",
     "output_type": "stream",
     "text": [
      "[[1. 1. 1. 1. 1. 1.]\n",
      " [1. 1. 1. 1. 1. 1.]\n",
      " [1. 1. 1. 1. 1. 1.]]\n"
     ]
    }
   ],
   "source": [
    "ar_one = np.ones((3,6))\n",
    "print(ar_one)"
   ]
  },
  {
   "cell_type": "markdown",
   "metadata": {
    "id": "ScHnIGHT7Xst"
   },
   "source": [
    "### np.random\n",
    "- 0 ≤ 실수 < 1로 채우기: np.random.random(배열의크기)\n",
    "- a ≤ 실수 < b로 채우기: np.random.uniform(a, b, 배열의크기)\n",
    "- a ≤ 정수 < b로 채우기: np.random.randint(a, b, 배열의크기)"
   ]
  },
  {
   "cell_type": "code",
   "execution_count": 21,
   "metadata": {
    "id": "gL0JSOlmum-4"
   },
   "outputs": [
    {
     "name": "stdout",
     "output_type": "stream",
     "text": [
      "[[0.89715899 0.91393086 0.86181934 0.57662372 0.22320917]\n",
      " [0.71609366 0.88054382 0.01754252 0.97787189 0.379411  ]]\n"
     ]
    }
   ],
   "source": [
    "print(np.random.random((2,5)))"
   ]
  },
  {
   "cell_type": "code",
   "execution_count": 22,
   "metadata": {
    "id": "fHXPbIiO1neL"
   },
   "outputs": [
    {
     "name": "stdout",
     "output_type": "stream",
     "text": [
      "[[3.56716893 3.79766719]\n",
      " [3.68764559 3.72318529]\n",
      " [3.82052826 3.92648897]]\n"
     ]
    }
   ],
   "source": [
    "print(np.random.uniform(3.5, 4, (3,2)))"
   ]
  },
  {
   "cell_type": "code",
   "execution_count": 23,
   "metadata": {
    "id": "MMgtrx8AwK55"
   },
   "outputs": [
    {
     "name": "stdout",
     "output_type": "stream",
     "text": [
      "[[[-4 -2 -4  2]\n",
      "  [ 2 -3 -2  3]\n",
      "  [ 1  4  3 -1]]\n",
      "\n",
      " [[ 0  3 -3  2]\n",
      "  [ 1 -4  3  2]\n",
      "  [ 3 -5  2 -1]]]\n"
     ]
    }
   ],
   "source": [
    "print(np.random.randint(-5, 5, (2,3,4)))"
   ]
  },
  {
   "cell_type": "markdown",
   "metadata": {
    "id": "4q1fPoDCv3ZS"
   },
   "source": [
    "- 랜덤하게 생성한 수를 가진 2차원 배열로 산포도 그래프를 그려보자.\n",
    "- 산포도 그래프는 plt.scatter()로 그릴 수 있다.\n",
    "- 대부분의 함수들은 많은 옵션들을 가지고 있고 scatter()함수 또한 옵션이 많다. `help(plt.scatter)`로 옵션을 확인해보기 바란다.\n",
    "\n",
    "```\n",
    "plt.scatter(x축 좌표, y축 좌표)\n",
    "```"
   ]
  },
  {
   "cell_type": "code",
   "execution_count": 24,
   "metadata": {
    "id": "WnjWY2b00otS"
   },
   "outputs": [
    {
     "data": {
      "image/png": "[encoded data removed]",
      "text/plain": [
       "<Figure size 432x288 with 1 Axes>"
      ]
     },
     "metadata": {
      "needs_background": "light"
     },
     "output_type": "display_data"
    }
   ],
   "source": [
    "import matplotlib.pyplot as plt\n",
    "\n",
    "rd_num = np.random.randint(0,100,(50,2))\n",
    "plt.scatter(rd_num[:,0], rd_num[:, 1],s=100)\n",
    "plt.show()"
   ]
  },
  {
   "cell_type": "markdown",
   "metadata": {
    "id": "GThr4K7EydDC"
   },
   "source": [
    "- 2차원 배열 rd_num의 0행부터 9행까지의 배열을 확인해보자."
   ]
  },
  {
   "cell_type": "code",
   "execution_count": 25,
   "metadata": {
    "id": "lyhAmxAHvvEd"
   },
   "outputs": [
    {
     "name": "stdout",
     "output_type": "stream",
     "text": [
      "[[61  3]\n",
      " [48 73]\n",
      " [97 76]\n",
      " [68 97]\n",
      " [56 53]\n",
      " [ 7 79]\n",
      " [92 60]\n",
      " [28 22]\n",
      " [94 57]\n",
      " [17 84]]\n"
     ]
    }
   ],
   "source": [
    "print(rd_num[0:10])"
   ]
  },
  {
   "cell_type": "markdown",
   "metadata": {
    "id": "ue029j8TwUoH"
   },
   "source": [
    "### linspace()\n",
    "- linspace(): 일정한 간격으로 등분한 배열을 생성한다.\n",
    "\n",
    "```\n",
    "np.linspace(start,end,개수)\n",
    "```"
   ]
  },
  {
   "cell_type": "code",
   "execution_count": 26,
   "metadata": {
    "id": "8gFQXN9hBd-n"
   },
   "outputs": [
    {
     "name": "stdout",
     "output_type": "stream",
     "text": [
      "[ 0.  5. 10. 15.]\n"
     ]
    }
   ],
   "source": [
    "print(np.linspace(0,15,4))"
   ]
  },
  {
   "cell_type": "markdown",
   "metadata": {
    "id": "pL-l6OZR0NHg"
   },
   "source": [
    "- linspace()로 생성한 배열을 선형 그래프의 y축의 값을 생성하는데 사용해보자."
   ]
  },
  {
   "cell_type": "code",
   "execution_count": 27,
   "metadata": {
    "id": "tgmm9KGU1rNs"
   },
   "outputs": [
    {
     "data": {
      "image/png": "[encoded data removed]",
      "text/plain": [
       "<Figure size 432x288 with 1 Axes>"
      ]
     },
     "metadata": {
      "needs_background": "light"
     },
     "output_type": "display_data"
    }
   ],
   "source": [
    "x = np.linspace(100000, 700000, 100)\n",
    "y = 0.0012*x+700\n",
    "plt.plot(x, y, ls='dashed', color='g')\n",
    "plt.show()"
   ]
  },
  {
   "cell_type": "markdown",
   "metadata": {
    "id": "MgmUkJM_yt9n"
   },
   "source": [
    "### transpose()\n",
    "- transpose(): 행과 열을 교체한다.  `배열명.T`도 가능하다.\n",
    "\n",
    "```\n",
    "np.transpose(배열명)\n",
    "배열명.T\n",
    "```"
   ]
  },
  {
   "cell_type": "code",
   "execution_count": 28,
   "metadata": {
    "id": "RlhkAmObDWnQ"
   },
   "outputs": [
    {
     "name": "stdout",
     "output_type": "stream",
     "text": [
      "[[0 1 2 3 4]\n",
      " [5 6 7 8 9]]\n",
      "\n",
      "\n",
      "===결과===\n",
      "[[0 5]\n",
      " [1 6]\n",
      " [2 7]\n",
      " [3 8]\n",
      " [4 9]]\n"
     ]
    }
   ],
   "source": [
    "ar= np.arange(10).reshape(2,5)\n",
    "print(ar)\n",
    "print('\\n\\n===결과===')\n",
    "print(ar.T)"
   ]
  },
  {
   "cell_type": "markdown",
   "metadata": {
    "id": "m9teI9rQcKYA"
   },
   "source": [
    "## 배열의 유용한 함수들II\n",
    "배열을 다룰 때 사용할 수 있는 몇 가지 유용한 함수를 살펴본다.\n",
    "- where()\n",
    "- max(), min()\n",
    "- argmax(), argmin()\n",
    "- sum(), mean(), median()\n",
    "- var(), std()\n",
    "- unique()\n",
    "- abs()\n",
    "- sin(), cos()\n",
    "- dot()"
   ]
  },
  {
   "cell_type": "markdown",
   "metadata": {
    "id": "1nEcVgr9NWzR"
   },
   "source": [
    "### where()\n",
    "where(): 조건에 만족하는 인덱스를 반환하거나, 조건에 따라 값을 다르게 적용시킨다.\n",
    "```\n",
    "np.where(조건, True일때 적용값, False일때 적용값)\n",
    "```"
   ]
  },
  {
   "cell_type": "code",
   "execution_count": 29,
   "metadata": {
    "id": "JMxbEWHxNWLP"
   },
   "outputs": [
    {
     "name": "stdout",
     "output_type": "stream",
     "text": [
      "[0 1 2 3 4 5 6 7 8 9]\n",
      "\n",
      "\n",
      "===결과===\n",
      "(array([0, 2, 4, 6, 8], dtype=int64),)\n",
      "['짝수' '홀수' '짝수' '홀수' '짝수' '홀수' '짝수' '홀수' '짝수' '홀수']\n"
     ]
    }
   ],
   "source": [
    "a = np.arange(10)\n",
    "print(a)\n",
    "print('\\n\\n===결과===')\n",
    "print(np.where(a%2==0)) # index 반환\n",
    "print(np.where(a%2==0, \"짝수\", \"홀수\"))"
   ]
  },
  {
   "cell_type": "markdown",
   "metadata": {
    "id": "mA5a1G0lOD7m"
   },
   "source": [
    "### min(), max()\n",
    "- np.min(): 최소값을 반환한다.\n",
    "- np.max(): 최대값을 반환한다."
   ]
  },
  {
   "cell_type": "code",
   "execution_count": 30,
   "metadata": {
    "id": "MM1ABuR_hXBA"
   },
   "outputs": [
    {
     "name": "stdout",
     "output_type": "stream",
     "text": [
      "[[[0.6061177  0.83880529 0.1011717  0.54520354]\n",
      "  [0.93808257 0.19852505 0.96749806 0.78510894]]\n",
      "\n",
      " [[0.69675567 0.1504498  0.55783851 0.38441188]\n",
      "  [0.83457396 0.74910996 0.34779154 0.54938944]]]\n",
      "\n",
      "\n",
      "===결과===\n",
      "0.10117169751548127\n",
      "\n",
      "\n",
      "===결과===\n",
      "0.9674980642203905\n"
     ]
    }
   ],
   "source": [
    "# 최소값, 최대값, 최소값 인덱스, 최대값 인덱스\n",
    "ar = np.random.random((2,2,4))\n",
    "print(ar)\n",
    "print('\\n\\n===결과===')\n",
    "print(np.min(ar))\n",
    "print('\\n\\n===결과===')\n",
    "print(np.max(ar[:1]))"
   ]
  },
  {
   "cell_type": "markdown",
   "metadata": {
    "id": "qLjQnyMOOcN_"
   },
   "source": [
    "### argmin(), argmax()\n",
    "- argmin(): 최소값 인덱스를 반환한다.\n",
    "- argmax(): 최대값 인덱스를 반환한다."
   ]
  },
  {
   "cell_type": "code",
   "execution_count": 31,
   "metadata": {
    "id": "32Pfm8LWOLZa"
   },
   "outputs": [
    {
     "name": "stdout",
     "output_type": "stream",
     "text": [
      "2\n",
      "6\n"
     ]
    }
   ],
   "source": [
    "print(np.argmin(ar))\n",
    "print(np.argmax(ar))"
   ]
  },
  {
   "cell_type": "markdown",
   "metadata": {
    "id": "7hz7g5L5OrKx"
   },
   "source": [
    "### sum(), mean(), median()\n",
    "- np.sum(배열명): 합을 반환한다.\n",
    "- np.mean(배열명): 평균을 반환한다.\n",
    "- np.median(배열명): 중간값을 반환한다.\n",
    "이 때 옵션 axis를 통해 결과를 구하고자 하는 축을 명시해 줄 수 있다.\n",
    "  - axis=0: 행\n",
    "  - axis=1: 열\n"
   ]
  },
  {
   "cell_type": "code",
   "execution_count": 32,
   "metadata": {
    "id": "vJs8cMoOjIHl"
   },
   "outputs": [
    {
     "name": "stdout",
     "output_type": "stream",
     "text": [
      "[[ 1  3  5  7  9]\n",
      " [11 13 15 17 19]\n",
      " [21 23 25 27 29]]\n",
      "225\n",
      "15.0\n",
      "15.0\n",
      "\n",
      "\n",
      "===결과===\n",
      "[33 39 45 51 57]\n",
      "[ 25  75 125]\n"
     ]
    }
   ],
   "source": [
    "ar= np.arange(1,31,2).reshape(3,5)\n",
    "print(ar)\n",
    "\n",
    "print(np.sum(ar))\n",
    "print(np.mean(ar))\n",
    "print(np.median(ar))\n",
    "print('\\n\\n===결과===')\n",
    "print(np.sum(ar, axis=0))\n",
    "print(np.sum(ar, axis=1))"
   ]
  },
  {
   "cell_type": "markdown",
   "metadata": {
    "id": "r5MGuyw45Kfc"
   },
   "source": [
    "😄아래 값들의 평균을 백분율로 소수점 2자리까지 나타내시오. 소수점을 구할때는 round()함수를 사용하세요.\n",
    "\n",
    "\n",
    "```python\n",
    "np.array([0.83333333, 0.76404494, 0.85393258, 0.82022472, 0.86516854,0.80898876, 0.80898876, 0.7752809 , 0.84269663, 0.82022472])\n",
    "```\n",
    "- 데이터.round(n): 데이터를 소수점 n자리까지 나타낸다.\n",
    "- np.round(데이터,n): 데이터를 소수점 n자리까지 나타낸다."
   ]
  },
  {
   "cell_type": "markdown",
   "metadata": {
    "id": "sLyRrx1dWm7F"
   },
   "source": [
    "### var(), std()\n",
    "- np.var(): 분산을 구한다.\n",
    "- np.std(): 표준편차를 구한다."
   ]
  },
  {
   "cell_type": "code",
   "execution_count": 33,
   "metadata": {
    "id": "n5PNAAB71OE0"
   },
   "outputs": [
    {
     "name": "stdout",
     "output_type": "stream",
     "text": [
      "[48.20100561 53.68043566 40.38380921 56.28735777 12.8755078  18.99698691\n",
      " 14.94504078  6.90669026 54.54870215 78.18299476  1.4952705  91.28386665\n",
      " 95.3146812  23.69294621 88.71504335 66.53871006 20.95985014 10.3520794\n",
      " 15.79084146 90.42648677 72.1667987  97.49071665  9.99813826 62.28081919\n",
      " 99.83411166 21.6360984  72.27583694 70.07146505 35.86212497 38.78077685\n",
      " 18.62793211 50.88844288 49.98516201 58.23674345 32.11273613 48.96143801\n",
      " 86.97391931  8.05264627 68.57391188 94.20372191 43.96083961 41.12346581\n",
      " 31.31652879 47.60761811 83.29317164 90.8432965  10.23840721 76.00846073\n",
      " 42.51203096 77.8346377  48.47063889 87.13632574 79.4586935  31.26035197\n",
      " 13.66181605 43.88286325 21.02874185 25.85379471 78.01494075 26.46306034\n",
      "  7.63988771 78.40146795 58.15613854 78.02366454 20.85968351 87.18709869\n",
      " 37.64192214  9.0880777  10.64717863 12.76543021 38.09020354 42.1838504\n",
      " 63.45525782 36.94329792 80.31848748 26.11790867 83.47922991 61.29978703\n",
      " 34.72171979 92.34303518]\n",
      "\n",
      "\n",
      "===결과===\n",
      "809.713710832171\n",
      "28.455468909019423\n"
     ]
    }
   ],
   "source": [
    "ar=np.random.uniform(1,100,80)\n",
    "print(ar)\n",
    "print('\\n\\n===결과===')\n",
    "print(np.var(ar))\n",
    "print(np.std(ar))"
   ]
  },
  {
   "cell_type": "markdown",
   "metadata": {
    "id": "YfO41OZ7W2Tp"
   },
   "source": [
    "### unique()\n",
    "- np.unique(): 중복값을 제거하여 1차원으로 반환한다."
   ]
  },
  {
   "cell_type": "code",
   "execution_count": 34,
   "metadata": {
    "id": "FV2qIyQn89-y"
   },
   "outputs": [
    {
     "name": "stdout",
     "output_type": "stream",
     "text": [
      "[[-2 -3  5  5  6]\n",
      " [ 8 -6  9  5 -1]]\n",
      "\n",
      "\n",
      "===결과===\n",
      "[-6 -3 -2 -1  5  6  8  9]\n"
     ]
    }
   ],
   "source": [
    "ar = np.random.randint(-10, 10, (2,5))\n",
    "print(ar)\n",
    "print('\\n\\n===결과===')\n",
    "print(np.unique(ar))"
   ]
  },
  {
   "cell_type": "markdown",
   "metadata": {
    "id": "AQKPZSWkXQfK"
   },
   "source": [
    "### abs()\n",
    "- np.abs(): 절대값을 구한다."
   ]
  },
  {
   "cell_type": "code",
   "execution_count": 35,
   "metadata": {
    "id": "ly06Lm-x03x0"
   },
   "outputs": [
    {
     "name": "stdout",
     "output_type": "stream",
     "text": [
      "[[ -4   5   6  -2   5]\n",
      " [-10   9   6  -2  -2]]\n",
      "\n",
      "\n",
      "===결과===\n",
      "[[ 4  5  6  2  5]\n",
      " [10  9  6  2  2]]\n"
     ]
    }
   ],
   "source": [
    "ar = np.random.randint(-10, 10, (2,5))\n",
    "print(ar)\n",
    "print('\\n\\n===결과===')\n",
    "print(np.abs(ar))"
   ]
  },
  {
   "cell_type": "markdown",
   "metadata": {
    "id": "KNW4_pscXcB-"
   },
   "source": [
    "### sin(), cos()\n",
    "- np.sin(): sin 값을 구한다.\n",
    "- np.cos(): cos 값을 구한다.\n",
    "- 아래는 sin() 함수와 cos() 함수를 이용하여 그린 다중그래프이다."
   ]
  },
  {
   "cell_type": "code",
   "execution_count": 36,
   "metadata": {
    "id": "pO8rv0aQzpHZ"
   },
   "outputs": [
    {
     "data": {
      "image/png": "[encoded data removed]",
      "text/plain": [
       "<Figure size 432x288 with 1 Axes>"
      ]
     },
     "metadata": {
      "needs_background": "light"
     },
     "output_type": "display_data"
    }
   ],
   "source": [
    "x = np.arange(0, 10, 0.1)\n",
    "plt.plot(x, np.sin(x))\n",
    "plt.plot(x, np.cos(x))\n",
    "plt.show()"
   ]
  },
  {
   "cell_type": "markdown",
   "metadata": {
    "id": "D6wCKcLhX7pQ"
   },
   "source": [
    "### dot()\n",
    "- np.dot(a, b): 행렬의 곱(내적)을 구한다.\n",
    "- a@b와 같이 `@` 기호로 나타내기도 한다.\n"
   ]
  },
  {
   "cell_type": "markdown",
   "metadata": {
    "id": "22OEGDCOnNV-"
   },
   "source": [
    "- 두 행렬 A의 열의 개수와 행렬 B의 행의 개수가 같을 때 행렬 A의 제 i행의 각 원소와 행렬 B의 제 j열의 각 원소를 그 순서대로 곱하여 더한 것을 (i,j)원소로 하는 행렬을 두 행렬 A와 B의 곱이라고 한다.\n",
    "\n",
    "```python\n",
    "===a===\n",
    "[[ 1  2  3  4  5]\n",
    " [ 6  7  8  9 10]]\n",
    "\n",
    "===b===\n",
    "[[ 3  4]\n",
    " [ 5  6]\n",
    " [ 7  8]\n",
    " [ 9 10]\n",
    " [11 12]]\n",
    "\n",
    "```\n",
    "\n",
    "```\n",
    "[[1*3 + 2*5 + 3*7 + 4*9 + 5*11],\n",
    " [1*4 + 2*6 + 3*8 + 4*10 + 5*12]\n",
    "\n",
    " [6*3 + 7*5 + 8*7 + 9*9 +10*11],\n",
    " [6*4 + 7*6 + 8*8 + 9*10 + 10*12]]\n",
    "```\n"
   ]
  },
  {
   "cell_type": "code",
   "execution_count": 37,
   "metadata": {
    "id": "uFQrQ2oBk7gG"
   },
   "outputs": [
    {
     "name": "stdout",
     "output_type": "stream",
     "text": [
      "===a===\n",
      "[[ 1  2  3  4  5]\n",
      " [ 6  7  8  9 10]]\n",
      "\n",
      "\n",
      "===b===\n",
      "[[ 3  4]\n",
      " [ 5  6]\n",
      " [ 7  8]\n",
      " [ 9 10]\n",
      " [11 12]]\n",
      "\n",
      "\n",
      "===결과===\n",
      "[[125 140]\n",
      " [300 340]]\n"
     ]
    }
   ],
   "source": [
    "a = np.arange(1,11,1).reshape(2,5)\n",
    "b = np.arange(3,13,1).reshape(5,2)\n",
    "print('===a===')\n",
    "print(a)\n",
    "print('\\n\\n===b===')\n",
    "print(b)\n",
    "print('\\n\\n===결과===')\n",
    "print(a@b)"
   ]
  },
  {
   "cell_type": "markdown",
   "metadata": {
    "id": "AVwUxY6joUo0"
   },
   "source": [
    "<div align=\"center\"><img src=\"https://haesunbyun.github.io/common/images/dot.png\" style=\"width:400px;\"></div>"
   ]
  },
  {
   "cell_type": "markdown",
   "metadata": {
    "id": "l3yNueJu_5pC"
   },
   "source": [
    "### 파일저장 savetxt() , 읽어오기 loadtxt\n",
    "- np.savetxt(파일명, 배열명): 배열을 텍스트 파일로 저장한다.\n",
    "- np.loadtxt(파일명): 파일을 배열로 불러온다.\n",
    "\n",
    "\n",
    "```python\n",
    "np.savetxt('File123.txt', ar)\n",
    "ar=np.loadtxt('File123.txt')\n",
    "print(ar)\n",
    "```\n",
    "\n"
   ]
  },
  {
   "cell_type": "markdown",
   "metadata": {
    "id": "tGDyLV9IFI-G"
   },
   "source": [
    "## Shallow Copy vs. Deep Copy\n",
    "리스트, 딕셔너리, 집합, 배열 등의 데이터를 복사해서 복사된 데이터를 가지고 작업하기를 원할 때가 있다.\n",
    "이들은 모두 mutable 데이터타입이고, 이들 데이터를 복사할 때의 문제점과 방법을 알아보자.\n",
    "\n",
    "데이터를 복사하는 방법에는 세 가지가 있다.\n",
    "- 일반복사: 원조변수와 복사변수가 같은 메모리를 참조\n",
    "- Shallow Copy : 원조변수와 복사변수가 다른 메모리를 참조하나 2차원 이상인 경우 동일 메모리를 참조\n",
    "- Deep Copy : 복사변수는 새로운 메모리를 할당하여 독립적으로 생성"
   ]
  },
  {
   "cell_type": "markdown",
   "metadata": {
    "id": "v5uX-DiWO7mP"
   },
   "source": [
    "### 일반복사"
   ]
  },
  {
   "cell_type": "markdown",
   "metadata": {
    "id": "u3kZ36HJ_oup"
   },
   "source": [
    "- `cp_a = a`와 같은 복사할 수 있다.\n",
    "- 그러나 이와 같은 복사의 문제는 복사 배열의 데이터를 작업을 하면 원조 배열의 데이터도 똑같이 작업된다는 것이다.\n",
    "- 그 이유는 복사변수와 원조변수가 같은 메모리 주소를 참조하기 때문이다."
   ]
  },
  {
   "cell_type": "markdown",
   "metadata": {
    "id": "HLHKNNTQ_3Uk"
   },
   "source": [
    "<div align=\"center\"><img src=\"https://haesunbyun.github.io/common/images/id3.png\" style=\"width:400px;\"></div>\n"
   ]
  },
  {
   "cell_type": "markdown",
   "metadata": {
    "id": "WglQxXp-ETvN"
   },
   "source": [
    "- 다음 코드를 통해 확인해보자.\n",
    "- 리스트, 딕셔너리, 집합, 배열 각각에 변수 a, b, c, d를  정의하였다.\n"
   ]
  },
  {
   "cell_type": "code",
   "execution_count": 38,
   "metadata": {
    "id": "cHwMbPGXx-I6"
   },
   "outputs": [
    {
     "name": "stdout",
     "output_type": "stream",
     "text": [
      "Origin Data===================\n",
      "리스트: [1, 2, 3, [10, 20, 30]]\n",
      "딕셔너리: {'a': 1, 'b': 2, 'c': [10, 20, 30]}\n",
      "집합: {1, 2, 3, (10, 20, 30)}\n",
      "배열: [[ 1  2  3]\n",
      " [10 20 30]]\n"
     ]
    }
   ],
   "source": [
    "a=[1,2,3,[10,20,30]] #리스트\n",
    "b={'a':1, 'b':2, 'c':[10,20,30]} #딕셔너리\n",
    "c={1,2,3,(10,20,30)} # 집합\n",
    "d=np.array([[1,2,3],[10,20,30]])\n",
    "print('Origin Data===================')\n",
    "print(f'리스트: {a}')\n",
    "print(f'딕셔너리: {b}')\n",
    "print(f'집합: {c}')\n",
    "print(f'배열: {d}')"
   ]
  },
  {
   "cell_type": "markdown",
   "metadata": {
    "id": "tg8SbDAeFFYd"
   },
   "source": [
    "- 위에서 정의한 변수 a, b, c, d를 변수 a1, b1, c1,d1에 각각 복사하였다."
   ]
  },
  {
   "cell_type": "code",
   "execution_count": 39,
   "metadata": {
    "id": "TtrQmZOPEGHl"
   },
   "outputs": [
    {
     "name": "stdout",
     "output_type": "stream",
     "text": [
      "Copy Data=============\n",
      "리스트: [1, 2, 3, [10, 20, 30]]\n",
      "딕셔너리: {'a': 1, 'b': 2, 'c': [10, 20, 30]}\n",
      "집합: {1, 2, 3, (10, 20, 30)}\n",
      "배열: [[ 1  2  3]\n",
      " [10 20 30]]\n"
     ]
    }
   ],
   "source": [
    "a1=a\n",
    "b1=b\n",
    "c1=c\n",
    "d1=d\n",
    "print('Copy Data=============')\n",
    "print(f'리스트: {a1}')\n",
    "print(f'딕셔너리: {b1}')\n",
    "print(f'집합: {c1}')\n",
    "print(f'배열: {d1}')"
   ]
  },
  {
   "cell_type": "markdown",
   "metadata": {
    "id": "KigZJ_yhFMxo"
   },
   "source": [
    "- 복사한 변수 a1, b1, c1, d1의 값의 일부를 수정하였다."
   ]
  },
  {
   "cell_type": "code",
   "execution_count": 40,
   "metadata": {
    "id": "58nyeql3EJMC"
   },
   "outputs": [],
   "source": [
    "a1[1]=100\n",
    "b1['b']=100\n",
    "c1.update((5,6,7))\n",
    "d1[0][1]=100"
   ]
  },
  {
   "cell_type": "markdown",
   "metadata": {
    "id": "d7p6kUAAFWxe"
   },
   "source": [
    "- 원조변수 a, b, c, d와 복사변수 a1, b1, c1, d1을 출력해보면, `원조변수의 값까지 수정된 것을 확인할 수 있다.`"
   ]
  },
  {
   "cell_type": "code",
   "execution_count": 41,
   "metadata": {
    "id": "VnGMG1fGEMZJ"
   },
   "outputs": [
    {
     "name": "stdout",
     "output_type": "stream",
     "text": [
      "Copy Data 수정 후 origin data=============\n",
      "리스트: [1, 100, 3, [10, 20, 30]]\n",
      "딕셔너리: {'a': 1, 'b': 100, 'c': [10, 20, 30]}\n",
      "집합: {1, 2, 3, 5, 6, 7, (10, 20, 30)}\n",
      "배열: [[  1 100   3]\n",
      " [ 10  20  30]]\n",
      "\n",
      "Copy Data 수정 후 copy data=============\n",
      "리스트: [1, 100, 3, [10, 20, 30]]\n",
      "딕셔너리: {'a': 1, 'b': 100, 'c': [10, 20, 30]}\n",
      "집합: {1, 2, 3, 5, 6, 7, (10, 20, 30)}\n",
      "배열: [[  1 100   3]\n",
      " [ 10  20  30]]\n"
     ]
    }
   ],
   "source": [
    "print('Copy Data 수정 후 origin data=============')\n",
    "print(f'리스트: {a}')\n",
    "print(f'딕셔너리: {b}')\n",
    "print(f'집합: {c}')\n",
    "print(f'배열: {d}')\n",
    "\n",
    "print('\\nCopy Data 수정 후 copy data=============')\n",
    "print(f'리스트: {a1}')\n",
    "print(f'딕셔너리: {b1}')\n",
    "print(f'집합: {c1}')\n",
    "print(f'배열: {d1}')"
   ]
  },
  {
   "cell_type": "markdown",
   "metadata": {
    "id": "ACqXO38FIjcR"
   },
   "source": [
    "- 원조변수와 복사변수의 ID가 동일한지 알아보기 위해 is 연산자를 사용하여 확인해볼 수 있다.\n",
    "- is 연산자는 메모리 주소 즉 객체의 ID가 동일한지 확인하는 연산자이다.\n",
    "- 값이 동일한지 확인하는 것은 `==`를 사용하고, ID가 동일한지 확인하기 위해서는 is 연산자를 사용한다."
   ]
  },
  {
   "cell_type": "code",
   "execution_count": 42,
   "metadata": {
    "id": "3OfsAEaoIh75"
   },
   "outputs": [
    {
     "name": "stdout",
     "output_type": "stream",
     "text": [
      "True\n",
      "True\n",
      "True\n",
      "True\n"
     ]
    }
   ],
   "source": [
    "print(a is a1)\n",
    "print(b is b1)\n",
    "print(c is c1)\n",
    "print(d is d1)"
   ]
  },
  {
   "cell_type": "markdown",
   "metadata": {
    "id": "MORpec1cO0Cu"
   },
   "source": [
    "### copy() 메서드(shallow copy)"
   ]
  },
  {
   "cell_type": "markdown",
   "metadata": {
    "id": "STIxgdpO_rRq"
   },
   "source": [
    "\n",
    "- 원조데이터가 수정되는 것을 방지하기 위해서는 copy() 메서드를 사용해보자.\n",
    "- 리스트, 딕셔너리, 집합, 배열 각각에 변수 a, b, c, d를 정의하였다."
   ]
  },
  {
   "cell_type": "code",
   "execution_count": 43,
   "metadata": {
    "id": "HXxGGGvqChzQ"
   },
   "outputs": [
    {
     "name": "stdout",
     "output_type": "stream",
     "text": [
      "Origin Data===================\n",
      "리스트: [1, 2, 3, [10, 20, 30]]\n",
      "딕셔너리: {'a': 1, 'b': 2, 'c': [10, 20, 30]}\n",
      "집합: {1, 2, 3, (10, 20, 30)}\n",
      "배열: [[ 1  2  3]\n",
      " [10 20 30]]\n"
     ]
    }
   ],
   "source": [
    "a=[1,2,3,[10,20,30]] #리스트\n",
    "b={'a':1, 'b':2, 'c':[10,20,30]} #딕셔너리\n",
    "c={1,2,3,(10,20,30)} # 집합\n",
    "d=np.array([[1,2,3],[10,20,30]])\n",
    "print('Origin Data===================')\n",
    "print(f'리스트: {a}')\n",
    "print(f'딕셔너리: {b}')\n",
    "print(f'집합: {c}')\n",
    "print(f'배열: {d}')"
   ]
  },
  {
   "cell_type": "markdown",
   "metadata": {
    "id": "-TnuiDSpGijF"
   },
   "source": [
    "- 이번에는 copy() 메서드를 사용하여 복사하였다."
   ]
  },
  {
   "cell_type": "code",
   "execution_count": 44,
   "metadata": {
    "id": "FPy2XNwBF2js"
   },
   "outputs": [
    {
     "name": "stdout",
     "output_type": "stream",
     "text": [
      "Copy Data=============\n",
      "리스트: [1, 2, 3, [10, 20, 30]]\n",
      "딕셔너리: {'a': 1, 'b': 2, 'c': [10, 20, 30]}\n",
      "집합: {1, 2, 3, (10, 20, 30)}\n",
      "배열: [[ 1  2  3]\n",
      " [10 20 30]]\n"
     ]
    }
   ],
   "source": [
    "a1=a.copy()\n",
    "b1=b.copy()\n",
    "c1=c.copy()\n",
    "d1=d.copy()\n",
    "print('Copy Data=============')\n",
    "print(f'리스트: {a1}')\n",
    "print(f'딕셔너리: {b1}')\n",
    "print(f'집합: {c1}')\n",
    "print(f'배열: {d1}')"
   ]
  },
  {
   "cell_type": "markdown",
   "metadata": {
    "id": "RNV7Xxq0GoMB"
   },
   "source": [
    "- 복사한 변수 a1, b1, c1, d1의 값의 일부를 수정하였다."
   ]
  },
  {
   "cell_type": "code",
   "execution_count": 45,
   "metadata": {
    "id": "9JXeAwzdF55K"
   },
   "outputs": [],
   "source": [
    "a1[1]=100\n",
    "b1['b']=100\n",
    "c1.update((5,6,7))\n",
    "d1[0][1]=100"
   ]
  },
  {
   "cell_type": "markdown",
   "metadata": {
    "id": "6KFLqjCRGwKF"
   },
   "source": [
    "- 원조변수 a, b, c, d와 복사변수 a1, b1, c1, d1을 출력해보면, 원조변수의 값은 그대로 유지되고, 복사변수의 값만 수정된 것을 확인할 수 있다."
   ]
  },
  {
   "cell_type": "code",
   "execution_count": 46,
   "metadata": {
    "id": "-lyGvyMtF-Cf"
   },
   "outputs": [
    {
     "name": "stdout",
     "output_type": "stream",
     "text": [
      "Copy Data 수정 후 origin data=============\n",
      "리스트: [1, 2, 3, [10, 20, 30]]\n",
      "딕셔너리: {'a': 1, 'b': 2, 'c': [10, 20, 30]}\n",
      "집합: {1, 2, 3, (10, 20, 30)}\n",
      "배열: [[ 1  2  3]\n",
      " [10 20 30]]\n",
      "\n",
      "Copy Data 수정 후 copy data=============\n",
      "리스트: [1, 100, 3, [10, 20, 30]]\n",
      "딕셔너리: {'a': 1, 'b': 100, 'c': [10, 20, 30]}\n",
      "집합: {1, 2, 3, 5, 6, 7, (10, 20, 30)}\n",
      "배열: [[  1 100   3]\n",
      " [ 10  20  30]]\n"
     ]
    }
   ],
   "source": [
    "print('Copy Data 수정 후 origin data=============')\n",
    "print(f'리스트: {a}')\n",
    "print(f'딕셔너리: {b}')\n",
    "print(f'집합: {c}')\n",
    "print(f'배열: {d}')\n",
    "print('\\nCopy Data 수정 후 copy data=============')\n",
    "print(f'리스트: {a1}')\n",
    "print(f'딕셔너리: {b1}')\n",
    "print(f'집합: {c1}')\n",
    "print(f'배열: {d1}')"
   ]
  },
  {
   "cell_type": "markdown",
   "metadata": {
    "id": "inUNjPv_JKeN"
   },
   "source": [
    "- 또한 원조변수 a, b, c, d와 복사변수 a1, b1, c1, d1가 서로 다른 ID를 갖고 있는 것을 확인할 수 있다."
   ]
  },
  {
   "cell_type": "code",
   "execution_count": 47,
   "metadata": {
    "id": "T4YkgrMJH-Ti"
   },
   "outputs": [
    {
     "name": "stdout",
     "output_type": "stream",
     "text": [
      "False\n",
      "False\n",
      "False\n",
      "False\n"
     ]
    }
   ],
   "source": [
    "print(a is a1)\n",
    "print(b is b1)\n",
    "print(c is c1)\n",
    "print(d is d1)"
   ]
  },
  {
   "cell_type": "markdown",
   "metadata": {
    "id": "oNKuH811G8-y"
   },
   "source": [
    "- 하지만 결론부터 말하면 리스트안에 리스트이거나, 딕셔너리안에 리스트가 있는 경우 이를 수정했을 때 여전히 원조변수의 값이 같이 수정되는 문제가 발생한다.\n",
    "\n",
    "\n",
    "```\n",
    "a=[1,2,3,[10,20,30]]\n",
    "b={'a':1, 'b':2, 'c':[10,20,30]}\n",
    "c=np.array([{'a':[1,2]},{'b':[1,2]},{'c':[1,2]}])\n",
    "```\n",
    "a[3]의 값이 [10,20,30]리스트이다.\n",
    "\n",
    "b['c']의 값이 [10,20,30]리스트이다.\n",
    "\n",
    "c의 각 값들이 리스트이다.\n"
   ]
  },
  {
   "cell_type": "code",
   "execution_count": 48,
   "metadata": {
    "id": "53RgaaTqezG1"
   },
   "outputs": [],
   "source": [
    "a=[1,2,3,[10,20,30]]\n",
    "b={'a':1, 'b':2, 'c':[10,20,30]}\n",
    "c=np.array([{'a':[1,2]},{'b':[1,2]},{'c':[1,2]}])"
   ]
  },
  {
   "cell_type": "code",
   "execution_count": 49,
   "metadata": {
    "id": "w9KdGVOoe0SM"
   },
   "outputs": [],
   "source": [
    "a1=a.copy()\n",
    "b1=b.copy()\n",
    "c1=c.copy()"
   ]
  },
  {
   "cell_type": "code",
   "execution_count": 50,
   "metadata": {
    "id": "2yhNvirGJpyW"
   },
   "outputs": [],
   "source": [
    "a1[3][0]='here'\n",
    "b1['c'][0]='here'\n",
    "c1[0]['a'][0]=100"
   ]
  },
  {
   "cell_type": "markdown",
   "metadata": {
    "id": "5N3ahl3iU2Ah"
   },
   "source": [
    "<div align=\"center\"><img src=\"https://haesunbyun.github.io/common/images/id4.png\" width=\"350\"></div>"
   ]
  },
  {
   "cell_type": "markdown",
   "metadata": {
    "id": "4AuhAkiiYH6v"
   },
   "source": [
    "- 원본 데이터와 복사 데이터가 모두 수정된 것을 확인할 수 있다."
   ]
  },
  {
   "cell_type": "code",
   "execution_count": 51,
   "metadata": {
    "id": "7QlIAv5NOnBJ"
   },
   "outputs": [
    {
     "name": "stdout",
     "output_type": "stream",
     "text": [
      "[1, 2, 3, ['here', 20, 30]] [1, 2, 3, ['here', 20, 30]]\n",
      "{'a': 1, 'b': 2, 'c': ['here', 20, 30]} {'a': 1, 'b': 2, 'c': ['here', 20, 30]}\n",
      "[{'a': [100, 2]} {'b': [1, 2]} {'c': [1, 2]}] [{'a': [100, 2]} {'b': [1, 2]} {'c': [1, 2]}]\n"
     ]
    }
   ],
   "source": [
    "print(a, a1)\n",
    "print(b, b1)\n",
    "print(c, c1)"
   ]
  },
  {
   "cell_type": "markdown",
   "metadata": {
    "id": "1F7sEpUP705B"
   },
   "source": [
    "### Deepcopy()\n",
    "- Deep copy는 복사변수의 값을 작업(수정, 삭제, 추가 등)해도 원본변수의 값이 작업되지 않는다."
   ]
  },
  {
   "cell_type": "code",
   "execution_count": 52,
   "metadata": {
    "id": "WmAyc1pa1f6J"
   },
   "outputs": [
    {
     "name": "stdout",
     "output_type": "stream",
     "text": [
      "[1, 2, 3, [10, 20, 30]]"
     ]
    },
    {
     "name": "stdout",
     "output_type": "stream",
     "text": [
      "\n",
      "[1, 2, 3, [100, 20, 30]]\n"
     ]
    }
   ],
   "source": [
    "import copy\n",
    "a=[1,2,3,[10,20,30]]\n",
    "b=copy.deepcopy(a)\n",
    "b[3][0] = 100\n",
    "print(a)\n",
    "print(b)"
   ]
  },
  {
   "cell_type": "markdown",
   "metadata": {
    "id": "qd79ookGJz8i"
   },
   "source": [
    "## 마무리\n",
    "- 데이터를 저장할 때에는 어떠한 자료구조에 저장할 것인지를 먼저 생각해야 한다.\n",
    "- 자료구조에는 데이터의 수정, 삽입, 추가, 삭제가 자유로운 가변 데이터 타입과 한번 만들고 나면 수정, 삽입, 추가, 삭제 할 수 없는 불변 데이터 타입이 있다.\n",
    "- 모듈 numpy는 규모 다차원 배열을 쉽고 빠르게 처리할 수 있도록 하는 파이썬 라이브러리이다.\n",
    "- numpy 모듈의 배열(array)과 리스트는 벡터연산 제공 여부와 메모리 접근 속도 측면에서 많은 차이가 있다.\n",
    "- shallow copy(얕은 복사)와 deep copy(깊은 복사)의 차이를 이해하고 복사하여 사용할 때 주의해야 한다."
   ]
  },
  {
   "cell_type": "markdown",
   "metadata": {
    "id": "kDzabw71y57X"
   },
   "source": [
    "---\n",
    "<font color='Grey' size=\"4\">\n",
    "F37.101 컴퓨팅 기초: 처음 만나는 컴퓨팅(First Adventures in Computing)</font> 서울대학교 학부대학 변해선\n",
    "\n",
    "---\n"
   ]
  }
 ],
 "metadata": {
  "colab": {
   "authorship_tag": "ABX9TyMbcZXer3Kx+WnwRDToBCY/",
   "provenance": [
    {
     "file_id": "1oD2xrfevVz-G3RW3AP6xf6uhGGF-117M",
     "timestamp": 1673454760497
    }
   ],
   "toc_visible": true
  },
  "kernelspec": {
   "display_name": "Python 3",
   "name": "python3"
  },
  "language_info": {
   "codemirror_mode": {
    "name": "ipython",
    "version": 3
   },
   "file_extension": ".py",
   "mimetype": "text/x-python",
   "name": "python",
   "nbconvert_exporter": "python",
   "pygments_lexer": "ipython3",
   "version": "3.7.4"
  }
 },
 "nbformat": 4,
 "nbformat_minor": 0
}