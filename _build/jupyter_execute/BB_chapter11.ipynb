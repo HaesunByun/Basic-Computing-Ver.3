{
 "cells": [
  {
   "cell_type": "markdown",
   "metadata": {
    "id": "3SFM4wugjM5-"
   },
   "source": [
    "---\n",
    "<font color='Blue' size=\"4\">\n",
    "F37.101 컴퓨팅 기초: 처음 만나는 컴퓨팅(First Adventures in Computing)</font>\n",
    "\n",
    "---\n",
    "\n"
   ]
  },
  {
   "cell_type": "markdown",
   "metadata": {
    "id": "tnggpWyuaaAw"
   },
   "source": [
    "# Chapter 11. Pandas I\n"
   ]
  },
  {
   "cell_type": "markdown",
   "metadata": {
    "id": "wXgWyFtWU-0F"
   },
   "source": [
    ":::{admonition} 학습목표와 기대효과\n",
    ":class: info  \n",
    "- 학습목표\n",
    "  - Pandas의 자료 구조인 Series와 DataFrame의 구조에 대해 알아본다.\n",
    "  - Series의 생성, 연산, 인덱싱/슬라이싱 등을 실습해본다.\n",
    "  - DataFrame의 생성, 연산, 인덱싱/슬라이싱 등을 실습해본다.\n",
    "- 기대효과\n",
    "  - Series와 DataFrame를 활용하여 다양한 데이터 연산 및 분석에 필요한 기능을 쉽고 빠르게 할 수 있다.\n",
    ":::"
   ]
  },
  {
   "cell_type": "markdown",
   "metadata": {
    "id": "IsXQyDkqIWQD"
   },
   "source": [
    "- 판다스는 파이썬에서 사용하는 데이터 분석 라이브러리이다.\n",
    "- 'pandas'라는 이름은 다차원으로 구조화된 데이터를 뜻하는 경제학 용어인 Panel data와 파이썬 데이터 분석인 Python data analysis에서 따온 것이다.\n",
    "- 2008년 금융데이터 분석용으로 처음 개발되었다.\n",
    "- 대용량의 데이터를 처리하는데 최적화된 도구이며, 데이터의 재배치, 집계, 부분집합 구하기 등을 쉽게 할 수 있다.\n",
    "- Pandas는 Series와 DataFrame이라는 자료구조를 제공한다.\n"
   ]
  },
  {
   "cell_type": "markdown",
   "metadata": {
    "id": "JGMez_0qAx_m"
   },
   "source": [
    "추천자료:\n",
    "- https://wikidocs.net/book/7188 :[Python 완전정복 시리즈] 2편 : Pandas DataFrame 완전정복\n",
    "- https://pandas.pydata.org/docs/reference/index.html : Pandas 공식사이트 문서"
   ]
  },
  {
   "cell_type": "markdown",
   "metadata": {
    "id": "pbTJ9PD9nNfd"
   },
   "source": [
    "## Series\n",
    "\n",
    "- 시리즈는 1차원 배열에 인덱스를 가지고 있는 구조이다.\n",
    "\n",
    "- 이때 값은 **정수 위치 기반 인덱스**로도 접근 할 수 있고 **라벨 기반 인덱스**으로도 접근할 수 있다.\n",
    "\n",
    "- 즉, 인덱스 번호로 값을 접근할 수 있는 리스트(list)와 인덱스명과 같은 키(key)로 값을 접근할 수 있는 딕셔너리(dict)의 장점을 섞어 놓은 자료구조이다."
   ]
  },
  {
   "cell_type": "markdown",
   "metadata": {
    "id": "vEsfw6fplZyE"
   },
   "source": [
    "### 시리즈 생성\n",
    "- 시리즈를 생성하기 위해서는 먼저 pandas 모듈을 불러와야 한다.\n",
    "- pandas 모듈은 보통 pd라는 별칭을 사용한다."
   ]
  },
  {
   "cell_type": "code",
   "execution_count": 1,
   "metadata": {
    "id": "4xpA3qHANczU"
   },
   "outputs": [],
   "source": [
    "import pandas as pd"
   ]
  },
  {
   "cell_type": "markdown",
   "metadata": {
    "id": "fl0XKh8OP-SQ"
   },
   "source": [
    "- 시리즈를 생성해보자. 형식은 아래와 같다. 이때 Series의 'S'를 대문자로 써야 한다는 것에 주의하자.\n",
    "\n",
    "```python\n",
    "pd.Series(list or dict or array, index = list or array)\n",
    "```"
   ]
  },
  {
   "cell_type": "markdown",
   "metadata": {
    "id": "0kQFDsR2_ykI"
   },
   "source": [
    "- 인덱스를 별도 설정하지 않으면 기본적으로 위치 인덱스로 설정된다.\n",
    "- 마지막에 데이터 타입이 표시된다. dtype: int64는 시리즈 속 데이터가 정수형64bit 데이터임을 의미한다.\n",
    "\n",
    "|dtype|설명|\n",
    "|:----------:|:----------|\n",
    "|`int64`|정수|\n",
    "|`float64`|소수|\n",
    "|`object`|텍스트|\n",
    "|`bool`|True/False|\n",
    "|`datetime64`|날짜와 시간|\n",
    "|`category`|카테고리|\n"
   ]
  },
  {
   "cell_type": "code",
   "execution_count": 2,
   "metadata": {
    "id": "fAeZxKzMrzZm"
   },
   "outputs": [
    {
     "data": {
      "text/plain": [
       "0     84\n",
       "1     21\n",
       "2     87\n",
       "3    100\n",
       "4     59\n",
       "5     46\n",
       "dtype: int64"
      ]
     },
     "execution_count": 2,
     "metadata": {},
     "output_type": "execute_result"
    }
   ],
   "source": [
    "score = [84, 21, 87, 100, 59, 46]\n",
    "s = pd.Series(score)\n",
    "s"
   ]
  },
  {
   "cell_type": "markdown",
   "metadata": {
    "id": "da4A3dqK_pdR"
   },
   "source": [
    "- index 옵션을 통해 인덱스명을 설정할 수 있다."
   ]
  },
  {
   "cell_type": "code",
   "execution_count": 3,
   "metadata": {
    "id": "gPfDHvVbr1R2"
   },
   "outputs": [
    {
     "name": "stdout",
     "output_type": "stream",
     "text": [
      "철수     84\n",
      "영이     21\n",
      "길동     87\n",
      "미영    100\n",
      "순이     59\n",
      "철이     46\n",
      "dtype: int64\n"
     ]
    }
   ],
   "source": [
    "score = [84, 21, 87, 100, 59, 46]\n",
    "names=['철수','영이','길동','미영','순이','철이']\n",
    "s = pd.Series(score, index = names)\n",
    "print(s)"
   ]
  },
  {
   "cell_type": "markdown",
   "metadata": {
    "id": "QgGqwdlJTown"
   },
   "source": [
    "- 딕셔너리를 넣어서 시리즈를 생성할 수 있다.\n"
   ]
  },
  {
   "cell_type": "code",
   "execution_count": 4,
   "metadata": {
    "id": "SmFN8hr5r2tf"
   },
   "outputs": [
    {
     "name": "stdout",
     "output_type": "stream",
     "text": [
      "철수     84\n",
      "영이     21\n",
      "길동     87\n",
      "미영    100\n",
      "순이     59\n",
      "철이     46\n",
      "dtype: int64\n"
     ]
    }
   ],
   "source": [
    "dic={'철수':84, '영이':21, '길동':87,'미영':100, '순이':59, '철이':46}\n",
    "s = pd.Series(dic)\n",
    "print(s)"
   ]
  },
  {
   "cell_type": "markdown",
   "metadata": {
    "id": "oGxckjrZQqFT"
   },
   "source": [
    "- type() 함수로 시리즈의 타입을 확인해보자."
   ]
  },
  {
   "cell_type": "code",
   "execution_count": 5,
   "metadata": {
    "id": "s5Woi6p1Qvhv"
   },
   "outputs": [
    {
     "name": "stdout",
     "output_type": "stream",
     "text": [
      "<class 'pandas.core.series.Series'>\n"
     ]
    }
   ],
   "source": [
    "print(type(s))"
   ]
  },
  {
   "cell_type": "markdown",
   "metadata": {
    "id": "ExfTYDmqQgOM"
   },
   "source": [
    "- 시리즈의 모양은 시리즈명.shape으로 확인할 수 있다.\n",
    "- 1차원 배열은 (원소갯수, ) 형태로 나온다."
   ]
  },
  {
   "cell_type": "code",
   "execution_count": 6,
   "metadata": {
    "id": "Ic2RK8hiQhD3"
   },
   "outputs": [
    {
     "name": "stdout",
     "output_type": "stream",
     "text": [
      "(6,)\n"
     ]
    }
   ],
   "source": [
    "print(s.shape)"
   ]
  },
  {
   "cell_type": "markdown",
   "metadata": {
    "id": "CH3GerA1sBDR"
   },
   "source": [
    "### 시리즈 연산\n",
    "- 시리즈에 산술연산을 적용해보자. 이때, 연산하여 나온 결과 또한 시리즈타입이다."
   ]
  },
  {
   "cell_type": "code",
   "execution_count": 7,
   "metadata": {
    "id": "v2AdTDiAsDuK"
   },
   "outputs": [
    {
     "name": "stdout",
     "output_type": "stream",
     "text": [
      "철수     84\n",
      "영이     21\n",
      "길동     87\n",
      "미영    100\n",
      "순이     59\n",
      "철이     46\n",
      "dtype: int64\n",
      "길동    99\n",
      "철수    87\n",
      "영이    87\n",
      "철이    84\n",
      "순이    77\n",
      "미영    15\n",
      "dtype: int64\n"
     ]
    }
   ],
   "source": [
    "import pandas as pd\n",
    "names1=['철수','영이','길동','미영','순이','철이']\n",
    "score1 = [84, 21, 87, 100, 59, 46]\n",
    "names2 =['길동','철수','영이','철이','순이','미영']\n",
    "score2 = [99, 87, 87, 84, 77, 15]\n",
    "\n",
    "s1 = pd.Series(score1, index=names1)\n",
    "s2 = pd.Series(score2, index=names2)\n",
    "print(s1)\n",
    "print(s2)"
   ]
  },
  {
   "cell_type": "code",
   "execution_count": 8,
   "metadata": {
    "id": "f-kY_2D5geJU"
   },
   "outputs": [
    {
     "data": {
      "text/plain": [
       "철수     94\n",
       "영이     31\n",
       "길동     97\n",
       "미영    110\n",
       "순이     69\n",
       "철이     56\n",
       "dtype: int64"
      ]
     },
     "execution_count": 8,
     "metadata": {},
     "output_type": "execute_result"
    }
   ],
   "source": [
    "s1 + 10"
   ]
  },
  {
   "cell_type": "code",
   "execution_count": 9,
   "metadata": {
    "id": "LzSHWaeNgeJV"
   },
   "outputs": [
    {
     "data": {
      "text/plain": [
       "길동    186\n",
       "미영    115\n",
       "순이    136\n",
       "영이    108\n",
       "철수    171\n",
       "철이    130\n",
       "dtype: int64"
      ]
     },
     "execution_count": 9,
     "metadata": {},
     "output_type": "execute_result"
    }
   ],
   "source": [
    "s1 + s2"
   ]
  },
  {
   "cell_type": "code",
   "execution_count": 10,
   "metadata": {
    "id": "RUixGzLKgeJW"
   },
   "outputs": [
    {
     "data": {
      "text/plain": [
       "길동   -12\n",
       "미영    85\n",
       "순이   -18\n",
       "영이   -66\n",
       "철수    -3\n",
       "철이   -38\n",
       "dtype: int64"
      ]
     },
     "execution_count": 10,
     "metadata": {},
     "output_type": "execute_result"
    }
   ],
   "source": [
    "s1 - s2"
   ]
  },
  {
   "cell_type": "code",
   "execution_count": 11,
   "metadata": {
    "id": "sgJNjmoODO34"
   },
   "outputs": [
    {
     "data": {
      "text/plain": [
       "길동    8613\n",
       "미영    1500\n",
       "순이    4543\n",
       "영이    1827\n",
       "철수    7308\n",
       "철이    3864\n",
       "dtype: int64"
      ]
     },
     "execution_count": 11,
     "metadata": {},
     "output_type": "execute_result"
    }
   ],
   "source": [
    "s1 * s2"
   ]
  },
  {
   "cell_type": "code",
   "execution_count": 12,
   "metadata": {
    "id": "4c_67JKPgeJY"
   },
   "outputs": [
    {
     "data": {
      "text/plain": [
       "길동    93.0\n",
       "미영    57.5\n",
       "순이    68.0\n",
       "영이    54.0\n",
       "철수    85.5\n",
       "철이    65.0\n",
       "dtype: float64"
      ]
     },
     "execution_count": 12,
     "metadata": {},
     "output_type": "execute_result"
    }
   ],
   "source": [
    "(s1+s2)/2"
   ]
  },
  {
   "cell_type": "code",
   "execution_count": 13,
   "metadata": {
    "id": "g_jvZdtgZKys"
   },
   "outputs": [
    {
     "data": {
      "text/plain": [
       "철수    0\n",
       "영이    1\n",
       "길동    1\n",
       "미영    0\n",
       "순이    1\n",
       "철이    0\n",
       "dtype: int64"
      ]
     },
     "execution_count": 13,
     "metadata": {},
     "output_type": "execute_result"
    }
   ],
   "source": [
    "s1%2"
   ]
  },
  {
   "cell_type": "code",
   "execution_count": 14,
   "metadata": {
    "id": "Ry-IOjo5DVNu"
   },
   "outputs": [
    {
     "data": {
      "text/plain": [
       "397"
      ]
     },
     "execution_count": 14,
     "metadata": {},
     "output_type": "execute_result"
    }
   ],
   "source": [
    "s1.sum()"
   ]
  },
  {
   "cell_type": "markdown",
   "metadata": {
    "id": "PBoc3nhrsT-1"
   },
   "source": [
    "### 시리즈 인덱싱\n",
    "- 시리즈의 데이터에 접근은 인덱스 번호(위치 인덱스) 또는 인덱스명(라벨 인덱스)를 통해 가능하다.\n",
    "```\n",
    "시리즈명[위치인덱스 or 라벨인덱스]\n",
    "```"
   ]
  },
  {
   "cell_type": "code",
   "execution_count": 15,
   "metadata": {
    "id": "VOnVa7P1QEIp"
   },
   "outputs": [
    {
     "data": {
      "text/plain": [
       "21"
      ]
     },
     "execution_count": 15,
     "metadata": {},
     "output_type": "execute_result"
    }
   ],
   "source": [
    "s1['영이']"
   ]
  },
  {
   "cell_type": "code",
   "execution_count": 16,
   "metadata": {
    "id": "Wj4TiVADRl1_"
   },
   "outputs": [
    {
     "data": {
      "text/plain": [
       "87"
      ]
     },
     "execution_count": 16,
     "metadata": {},
     "output_type": "execute_result"
    }
   ],
   "source": [
    "#라벨인덱스로 만들고 위치 인덱스로 접근하는 기능은 향후 없어질것임\n",
    "s1[2]"
   ]
  },
  {
   "cell_type": "markdown",
   "metadata": {
    "id": "fx2ZxdvWEdnL"
   },
   "source": [
    "### 시리즈 슬라이싱\n",
    "- 위치 인덱스로 슬라이싱하는 방법은 리스트나 배열과 동일하다.\n",
    "- 라벨 인덱스로 슬라이싱하면 `끝 인덱스까지 포함`한다.\n",
    "```\n",
    "시리즈변수명[start:end:step]\n",
    "```"
   ]
  },
  {
   "cell_type": "markdown",
   "metadata": {
    "id": "lTKbyI0AeIuE"
   },
   "source": [
    "- 끝 인덱스인 '순이'까지 포함하여 슬라이싱한다."
   ]
  },
  {
   "cell_type": "code",
   "execution_count": 17,
   "metadata": {
    "id": "f05qIHnAgeJe"
   },
   "outputs": [
    {
     "data": {
      "text/plain": [
       "영이     21\n",
       "길동     87\n",
       "미영    100\n",
       "순이     59\n",
       "dtype: int64"
      ]
     },
     "execution_count": 17,
     "metadata": {},
     "output_type": "execute_result"
    }
   ],
   "source": [
    "s1['영이':'순이']"
   ]
  },
  {
   "cell_type": "code",
   "execution_count": 18,
   "metadata": {
    "id": "Lq1y9DPMgeJe"
   },
   "outputs": [
    {
     "data": {
      "text/plain": [
       "미영    100\n",
       "순이     59\n",
       "철이     46\n",
       "dtype: int64"
      ]
     },
     "execution_count": 18,
     "metadata": {},
     "output_type": "execute_result"
    }
   ],
   "source": [
    "s1['미영':]"
   ]
  },
  {
   "cell_type": "markdown",
   "metadata": {
    "id": "B-8sR5G3sqbk"
   },
   "source": [
    "### 시리즈 데이터 추가, 수정, 삭제"
   ]
  },
  {
   "cell_type": "markdown",
   "metadata": {
    "id": "Ay900C9M-oDS"
   },
   "source": [
    "- 시리즈에 데이터 추가와 수정은 형식이 동일하다. 시리즈에 인덱스가 있으면 수정하고, 없으면 추가한다.\n",
    "- 형식은 다음과 같다.\n",
    "```\n",
    "시리즈명[인덱스] = value\n",
    "```"
   ]
  },
  {
   "cell_type": "markdown",
   "metadata": {
    "id": "Oy1rp9MY_D7_"
   },
   "source": [
    "- '슬기'는 인덱스에 없으므로 추가된다."
   ]
  },
  {
   "cell_type": "code",
   "execution_count": 19,
   "metadata": {
    "id": "bSLf127zsZs6"
   },
   "outputs": [
    {
     "name": "stdout",
     "output_type": "stream",
     "text": [
      "철수     84\n",
      "영이     21\n",
      "길동     87\n",
      "미영    100\n",
      "순이     59\n",
      "철이     46\n",
      "슬기     87\n",
      "dtype: int64\n"
     ]
    }
   ],
   "source": [
    "s1['슬기']= 87\n",
    "print(s1)"
   ]
  },
  {
   "cell_type": "markdown",
   "metadata": {
    "id": "dNsBWNqC_Jer"
   },
   "source": [
    "- '길동'은 인덱스에 있으므로 수정된다."
   ]
  },
  {
   "cell_type": "code",
   "execution_count": 20,
   "metadata": {
    "id": "CXg-2aEy2BJI"
   },
   "outputs": [
    {
     "name": "stdout",
     "output_type": "stream",
     "text": [
      "철수     84\n",
      "영이     21\n",
      "길동     88\n",
      "미영    100\n",
      "순이     59\n",
      "철이     46\n",
      "슬기     87\n",
      "dtype: int64\n"
     ]
    }
   ],
   "source": [
    "s1['길동']=88\n",
    "print(s1)"
   ]
  },
  {
   "cell_type": "markdown",
   "metadata": {
    "id": "PWPDJwqO_SaA"
   },
   "source": [
    "- 시리즈에서 데이터 삭제는 키워드 del을 통해 가능하다.\n",
    "- 아래 코드는 인덱스 '철이'를 삭제한다."
   ]
  },
  {
   "cell_type": "code",
   "execution_count": 21,
   "metadata": {
    "id": "_ZMFMaAq2VcH"
   },
   "outputs": [
    {
     "name": "stdout",
     "output_type": "stream",
     "text": [
      "철수     84\n",
      "영이     21\n",
      "길동     88\n",
      "미영    100\n",
      "순이     59\n",
      "슬기     87\n",
      "dtype: int64\n"
     ]
    }
   ],
   "source": [
    "del s1['철이']\n",
    "print(s1)"
   ]
  },
  {
   "cell_type": "code",
   "execution_count": 22,
   "metadata": {
    "id": "I013txX7R624"
   },
   "outputs": [
    {
     "data": {
      "text/plain": [
       "철수     84\n",
       "영이     21\n",
       "미영    100\n",
       "순이     59\n",
       "슬기     87\n",
       "dtype: int64"
      ]
     },
     "execution_count": 22,
     "metadata": {},
     "output_type": "execute_result"
    }
   ],
   "source": [
    "s1.drop('길동')"
   ]
  },
  {
   "cell_type": "markdown",
   "metadata": {
    "id": "smr1T-MO2g8s"
   },
   "source": [
    "### 시리즈 비교연산과 필터링"
   ]
  },
  {
   "cell_type": "markdown",
   "metadata": {
    "id": "Se56BYmC_587"
   },
   "source": [
    "- 시리즈에서도 넘파이에서와 같이 비교연산의 결과를 얻기도 쉽다.\n"
   ]
  },
  {
   "cell_type": "code",
   "execution_count": 23,
   "metadata": {
    "id": "pj8eTViYH7q8"
   },
   "outputs": [
    {
     "name": "stdout",
     "output_type": "stream",
     "text": [
      "철수    False\n",
      "영이    False\n",
      "길동     True\n",
      "미영     True\n",
      "순이    False\n",
      "슬기     True\n",
      "dtype: bool\n"
     ]
    }
   ],
   "source": [
    "a = s1>=85\n",
    "print(a)"
   ]
  },
  {
   "cell_type": "markdown",
   "metadata": {
    "id": "9d8bFoEbIiFD"
   },
   "source": [
    "- 시리즈에서도 비교연산의 결과를 필터링하는데 사용할 수 있다.\n",
    "- 아래 코드는 시리즈 s1에서 85이상인 값들에 대해서 필터링한다."
   ]
  },
  {
   "cell_type": "code",
   "execution_count": 24,
   "metadata": {
    "id": "tMLZvB6y2sEE"
   },
   "outputs": [
    {
     "data": {
      "text/plain": [
       "길동     88\n",
       "미영    100\n",
       "슬기     87\n",
       "dtype: int64"
      ]
     },
     "execution_count": 24,
     "metadata": {},
     "output_type": "execute_result"
    }
   ],
   "source": [
    "s1[a]"
   ]
  },
  {
   "cell_type": "markdown",
   "metadata": {
    "id": "TDLy4BJB5OVC"
   },
   "source": [
    "## DataFrame\n",
    "\n",
    "DataFrame은 행과 열로 이루어진 2차원 형태의 배열이다.\n",
    "이때 한 개의 열(칼럼)은 하나의 시리즈이며, DataFrame은 시리즈들의 묶음이다."
   ]
  },
  {
   "cell_type": "markdown",
   "metadata": {
    "id": "4oUDmUgw5nEa"
   },
   "source": [
    "### 데이타프레임 생성\n",
    "\n",
    "- 데이타프레임 생성 형식은 다음과 같다.\n",
    "```\n",
    "pd.DataFrame(list or array or series or dictionary, index = list or array, columns = list or array)\n",
    "```\n"
   ]
  },
  {
   "cell_type": "markdown",
   "metadata": {
    "id": "Nb6n8SI0Pwiz"
   },
   "source": [
    "- 먼저, 시리즈를 이용하여 데이터프레임을 생성해보자.\n",
    "- 아래와 같이 시리즈 2개를 만들자."
   ]
  },
  {
   "cell_type": "code",
   "execution_count": 25,
   "metadata": {
    "id": "D8ZOTkq35Sln"
   },
   "outputs": [],
   "source": [
    "names1=['철수','영이','길동','미영','순이','철이']\n",
    "score1 = [84, 21, 87, 100, 59, 46]\n",
    "names2 =['길동','철수','영이','철이','순이','미영']\n",
    "score2 = [99, 87, 87, 84, 77, 15]\n",
    "\n",
    "s1 = pd.Series(score1, index=names1)\n",
    "s2 = pd.Series(score2, index=names2)"
   ]
  },
  {
   "cell_type": "markdown",
   "metadata": {
    "id": "Q--yduvzFs2X"
   },
   "source": [
    "- 시리즈를 데이타프레임의 열(column)로 넣어준다."
   ]
  },
  {
   "cell_type": "code",
   "execution_count": 26,
   "metadata": {
    "id": "76TzhXRyFm8T"
   },
   "outputs": [
    {
     "data": {
      "text/html": [
       "<div>\n",
       "<style scoped>\n",
       "    .dataframe tbody tr th:only-of-type {\n",
       "        vertical-align: middle;\n",
       "    }\n",
       "\n",
       "    .dataframe tbody tr th {\n",
       "        vertical-align: top;\n",
       "    }\n",
       "\n",
       "    .dataframe thead th {\n",
       "        text-align: right;\n",
       "    }\n",
       "</style>\n",
       "<table border=\"1\" class=\"dataframe\">\n",
       "  <thead>\n",
       "    <tr style=\"text-align: right;\">\n",
       "      <th></th>\n",
       "      <th>국어</th>\n",
       "      <th>영어</th>\n",
       "      <th>총점</th>\n",
       "    </tr>\n",
       "  </thead>\n",
       "  <tbody>\n",
       "    <tr>\n",
       "      <th>철수</th>\n",
       "      <td>84</td>\n",
       "      <td>87</td>\n",
       "      <td>171</td>\n",
       "    </tr>\n",
       "    <tr>\n",
       "      <th>영이</th>\n",
       "      <td>21</td>\n",
       "      <td>87</td>\n",
       "      <td>108</td>\n",
       "    </tr>\n",
       "    <tr>\n",
       "      <th>길동</th>\n",
       "      <td>87</td>\n",
       "      <td>99</td>\n",
       "      <td>186</td>\n",
       "    </tr>\n",
       "    <tr>\n",
       "      <th>미영</th>\n",
       "      <td>100</td>\n",
       "      <td>15</td>\n",
       "      <td>115</td>\n",
       "    </tr>\n",
       "    <tr>\n",
       "      <th>순이</th>\n",
       "      <td>59</td>\n",
       "      <td>77</td>\n",
       "      <td>136</td>\n",
       "    </tr>\n",
       "    <tr>\n",
       "      <th>철이</th>\n",
       "      <td>46</td>\n",
       "      <td>84</td>\n",
       "      <td>130</td>\n",
       "    </tr>\n",
       "  </tbody>\n",
       "</table>\n",
       "</div>"
      ],
      "text/plain": [
       "     국어  영어   총점\n",
       "철수   84  87  171\n",
       "영이   21  87  108\n",
       "길동   87  99  186\n",
       "미영  100  15  115\n",
       "순이   59  77  136\n",
       "철이   46  84  130"
      ]
     },
     "execution_count": 26,
     "metadata": {},
     "output_type": "execute_result"
    }
   ],
   "source": [
    "df = pd.DataFrame()\n",
    "df['국어']= s1  # 국어 칼럼 생성\n",
    "df['영어']= s2  # 영어 칼럼 생성\n",
    "df['총점']=df['국어']+df['영어'] # 합계 칼럼 생성\n",
    "df"
   ]
  },
  {
   "cell_type": "markdown",
   "metadata": {
    "id": "eHjYFzUzM9XZ"
   },
   "source": [
    ":::{admonition} 인덱싱 주의\n",
    ":class: warning  \n",
    "- 시리즈에서 인덱싱\n",
    "  - 예) s['영이']로 했다면 '영이'는 행의 인덱스이다.\n",
    "- 데이터프레임 인덱싱\n",
    "  - 예) df['국어']로 했다면 '국어'는 열의 인덱스이다.\n",
    "\n",
    ":::"
   ]
  },
  {
   "cell_type": "markdown",
   "metadata": {
    "id": "B1VoOQeHHcWc"
   },
   "source": [
    "- 데이타프레임을 리스트나 어레이로도 만들 수 있다."
   ]
  },
  {
   "cell_type": "code",
   "execution_count": 27,
   "metadata": {
    "id": "dzq_ik756KVB"
   },
   "outputs": [
    {
     "data": {
      "text/html": [
       "<div>\n",
       "<style scoped>\n",
       "    .dataframe tbody tr th:only-of-type {\n",
       "        vertical-align: middle;\n",
       "    }\n",
       "\n",
       "    .dataframe tbody tr th {\n",
       "        vertical-align: top;\n",
       "    }\n",
       "\n",
       "    .dataframe thead th {\n",
       "        text-align: right;\n",
       "    }\n",
       "</style>\n",
       "<table border=\"1\" class=\"dataframe\">\n",
       "  <thead>\n",
       "    <tr style=\"text-align: right;\">\n",
       "      <th></th>\n",
       "      <th>0</th>\n",
       "      <th>1</th>\n",
       "      <th>2</th>\n",
       "    </tr>\n",
       "  </thead>\n",
       "  <tbody>\n",
       "    <tr>\n",
       "      <th>0</th>\n",
       "      <td>84</td>\n",
       "      <td>87</td>\n",
       "      <td>78</td>\n",
       "    </tr>\n",
       "    <tr>\n",
       "      <th>1</th>\n",
       "      <td>21</td>\n",
       "      <td>15</td>\n",
       "      <td>84</td>\n",
       "    </tr>\n",
       "    <tr>\n",
       "      <th>2</th>\n",
       "      <td>87</td>\n",
       "      <td>84</td>\n",
       "      <td>76</td>\n",
       "    </tr>\n",
       "    <tr>\n",
       "      <th>3</th>\n",
       "      <td>100</td>\n",
       "      <td>87</td>\n",
       "      <td>99</td>\n",
       "    </tr>\n",
       "    <tr>\n",
       "      <th>4</th>\n",
       "      <td>59</td>\n",
       "      <td>99</td>\n",
       "      <td>59</td>\n",
       "    </tr>\n",
       "    <tr>\n",
       "      <th>5</th>\n",
       "      <td>46</td>\n",
       "      <td>77</td>\n",
       "      <td>56</td>\n",
       "    </tr>\n",
       "  </tbody>\n",
       "</table>\n",
       "</div>"
      ],
      "text/plain": [
       "     0   1   2\n",
       "0   84  87  78\n",
       "1   21  15  84\n",
       "2   87  84  76\n",
       "3  100  87  99\n",
       "4   59  99  59\n",
       "5   46  77  56"
      ]
     },
     "execution_count": 27,
     "metadata": {},
     "output_type": "execute_result"
    }
   ],
   "source": [
    "scores = [[84,87,78], [21,15,84], [87,84,76], [100,87,99],[59,99,59],[46,77,56]]\n",
    "d1 = pd.DataFrame(scores)\n",
    "d1"
   ]
  },
  {
   "cell_type": "markdown",
   "metadata": {
    "id": "osDfPrcbHtOo"
   },
   "source": [
    "- 데이터프레임에 옵션 index와 columns에 인덱스와 칼럼명을 직접 명시해줄 수도 있다."
   ]
  },
  {
   "cell_type": "code",
   "execution_count": 28,
   "metadata": {
    "id": "TA42vAb56L6x"
   },
   "outputs": [
    {
     "data": {
      "text/html": [
       "<div>\n",
       "<style scoped>\n",
       "    .dataframe tbody tr th:only-of-type {\n",
       "        vertical-align: middle;\n",
       "    }\n",
       "\n",
       "    .dataframe tbody tr th {\n",
       "        vertical-align: top;\n",
       "    }\n",
       "\n",
       "    .dataframe thead th {\n",
       "        text-align: right;\n",
       "    }\n",
       "</style>\n",
       "<table border=\"1\" class=\"dataframe\">\n",
       "  <thead>\n",
       "    <tr style=\"text-align: right;\">\n",
       "      <th></th>\n",
       "      <th>국어</th>\n",
       "      <th>수학</th>\n",
       "      <th>영어</th>\n",
       "    </tr>\n",
       "  </thead>\n",
       "  <tbody>\n",
       "    <tr>\n",
       "      <th>철수</th>\n",
       "      <td>84</td>\n",
       "      <td>87</td>\n",
       "      <td>78</td>\n",
       "    </tr>\n",
       "    <tr>\n",
       "      <th>영이</th>\n",
       "      <td>21</td>\n",
       "      <td>15</td>\n",
       "      <td>84</td>\n",
       "    </tr>\n",
       "    <tr>\n",
       "      <th>길동</th>\n",
       "      <td>87</td>\n",
       "      <td>84</td>\n",
       "      <td>76</td>\n",
       "    </tr>\n",
       "    <tr>\n",
       "      <th>미영</th>\n",
       "      <td>100</td>\n",
       "      <td>87</td>\n",
       "      <td>99</td>\n",
       "    </tr>\n",
       "    <tr>\n",
       "      <th>순이</th>\n",
       "      <td>59</td>\n",
       "      <td>99</td>\n",
       "      <td>59</td>\n",
       "    </tr>\n",
       "    <tr>\n",
       "      <th>철이</th>\n",
       "      <td>46</td>\n",
       "      <td>77</td>\n",
       "      <td>56</td>\n",
       "    </tr>\n",
       "  </tbody>\n",
       "</table>\n",
       "</div>"
      ],
      "text/plain": [
       "     국어  수학  영어\n",
       "철수   84  87  78\n",
       "영이   21  15  84\n",
       "길동   87  84  76\n",
       "미영  100  87  99\n",
       "순이   59  99  59\n",
       "철이   46  77  56"
      ]
     },
     "execution_count": 28,
     "metadata": {},
     "output_type": "execute_result"
    }
   ],
   "source": [
    "scores = [[84,87,78], [21,15,84], [87,84,76], [100,87,99],[59,99,59],[46,77,56]]\n",
    "names=['철수','영이','길동','미영','순이','철이']\n",
    "lectures=['국어','수학','영어']\n",
    "d2 = pd.DataFrame(scores, index=names, columns=lectures)\n",
    "d2"
   ]
  },
  {
   "cell_type": "markdown",
   "metadata": {
    "id": "MxG3jFjRICvM"
   },
   "source": [
    "- 딕셔너리를 데이터로 넣어 줄 수도 있다."
   ]
  },
  {
   "cell_type": "code",
   "execution_count": 29,
   "metadata": {
    "id": "ianSGLu76NrH"
   },
   "outputs": [
    {
     "data": {
      "text/html": [
       "<div>\n",
       "<style scoped>\n",
       "    .dataframe tbody tr th:only-of-type {\n",
       "        vertical-align: middle;\n",
       "    }\n",
       "\n",
       "    .dataframe tbody tr th {\n",
       "        vertical-align: top;\n",
       "    }\n",
       "\n",
       "    .dataframe thead th {\n",
       "        text-align: right;\n",
       "    }\n",
       "</style>\n",
       "<table border=\"1\" class=\"dataframe\">\n",
       "  <thead>\n",
       "    <tr style=\"text-align: right;\">\n",
       "      <th></th>\n",
       "      <th>국어</th>\n",
       "      <th>수학</th>\n",
       "      <th>영어</th>\n",
       "    </tr>\n",
       "  </thead>\n",
       "  <tbody>\n",
       "    <tr>\n",
       "      <th>철수</th>\n",
       "      <td>84</td>\n",
       "      <td>87</td>\n",
       "      <td>78</td>\n",
       "    </tr>\n",
       "    <tr>\n",
       "      <th>영이</th>\n",
       "      <td>21</td>\n",
       "      <td>15</td>\n",
       "      <td>84</td>\n",
       "    </tr>\n",
       "    <tr>\n",
       "      <th>길동</th>\n",
       "      <td>87</td>\n",
       "      <td>84</td>\n",
       "      <td>76</td>\n",
       "    </tr>\n",
       "    <tr>\n",
       "      <th>미영</th>\n",
       "      <td>100</td>\n",
       "      <td>87</td>\n",
       "      <td>99</td>\n",
       "    </tr>\n",
       "    <tr>\n",
       "      <th>순이</th>\n",
       "      <td>59</td>\n",
       "      <td>99</td>\n",
       "      <td>59</td>\n",
       "    </tr>\n",
       "    <tr>\n",
       "      <th>철이</th>\n",
       "      <td>46</td>\n",
       "      <td>77</td>\n",
       "      <td>56</td>\n",
       "    </tr>\n",
       "  </tbody>\n",
       "</table>\n",
       "</div>"
      ],
      "text/plain": [
       "     국어  수학  영어\n",
       "철수   84  87  78\n",
       "영이   21  15  84\n",
       "길동   87  84  76\n",
       "미영  100  87  99\n",
       "순이   59  99  59\n",
       "철이   46  77  56"
      ]
     },
     "execution_count": 29,
     "metadata": {},
     "output_type": "execute_result"
    }
   ],
   "source": [
    "ScoresWithLectures={'국어':[84,21,87,100,59,46], '수학':[87,15,84,87,99,77], '영어':[78,84,76,99,59,56]}\n",
    "names=['철수','영이','길동','미영','순이','철이']\n",
    "d3 = pd.DataFrame(ScoresWithLectures, index=names)\n",
    "d3"
   ]
  },
  {
   "cell_type": "markdown",
   "metadata": {
    "id": "mjs8SbtwIRlo"
   },
   "source": [
    "- numpy에서 배웠던 전치행열 시키는 transpose() 또는 .T를 사용하여 행과 열을 교환할 수도 있다.\n",
    "- 그러나 데이터프레임 원본에는 반영되지 않는다."
   ]
  },
  {
   "cell_type": "code",
   "execution_count": 30,
   "metadata": {
    "id": "9pis1pzONlrr"
   },
   "outputs": [
    {
     "data": {
      "text/html": [
       "<div>\n",
       "<style scoped>\n",
       "    .dataframe tbody tr th:only-of-type {\n",
       "        vertical-align: middle;\n",
       "    }\n",
       "\n",
       "    .dataframe tbody tr th {\n",
       "        vertical-align: top;\n",
       "    }\n",
       "\n",
       "    .dataframe thead th {\n",
       "        text-align: right;\n",
       "    }\n",
       "</style>\n",
       "<table border=\"1\" class=\"dataframe\">\n",
       "  <thead>\n",
       "    <tr style=\"text-align: right;\">\n",
       "      <th></th>\n",
       "      <th>철수</th>\n",
       "      <th>영이</th>\n",
       "      <th>길동</th>\n",
       "      <th>미영</th>\n",
       "      <th>순이</th>\n",
       "      <th>철이</th>\n",
       "    </tr>\n",
       "  </thead>\n",
       "  <tbody>\n",
       "    <tr>\n",
       "      <th>국어</th>\n",
       "      <td>84</td>\n",
       "      <td>21</td>\n",
       "      <td>87</td>\n",
       "      <td>100</td>\n",
       "      <td>59</td>\n",
       "      <td>46</td>\n",
       "    </tr>\n",
       "    <tr>\n",
       "      <th>수학</th>\n",
       "      <td>87</td>\n",
       "      <td>15</td>\n",
       "      <td>84</td>\n",
       "      <td>87</td>\n",
       "      <td>99</td>\n",
       "      <td>77</td>\n",
       "    </tr>\n",
       "    <tr>\n",
       "      <th>영어</th>\n",
       "      <td>78</td>\n",
       "      <td>84</td>\n",
       "      <td>76</td>\n",
       "      <td>99</td>\n",
       "      <td>59</td>\n",
       "      <td>56</td>\n",
       "    </tr>\n",
       "  </tbody>\n",
       "</table>\n",
       "</div>"
      ],
      "text/plain": [
       "    철수  영이  길동   미영  순이  철이\n",
       "국어  84  21  87  100  59  46\n",
       "수학  87  15  84   87  99  77\n",
       "영어  78  84  76   99  59  56"
      ]
     },
     "execution_count": 30,
     "metadata": {},
     "output_type": "execute_result"
    }
   ],
   "source": [
    "d4 = d3.transpose()\n",
    "d4"
   ]
  },
  {
   "cell_type": "code",
   "execution_count": 31,
   "metadata": {
    "id": "s8YBdaNJf0Ol"
   },
   "outputs": [
    {
     "data": {
      "text/html": [
       "<div>\n",
       "<style scoped>\n",
       "    .dataframe tbody tr th:only-of-type {\n",
       "        vertical-align: middle;\n",
       "    }\n",
       "\n",
       "    .dataframe tbody tr th {\n",
       "        vertical-align: top;\n",
       "    }\n",
       "\n",
       "    .dataframe thead th {\n",
       "        text-align: right;\n",
       "    }\n",
       "</style>\n",
       "<table border=\"1\" class=\"dataframe\">\n",
       "  <thead>\n",
       "    <tr style=\"text-align: right;\">\n",
       "      <th></th>\n",
       "      <th>국어</th>\n",
       "      <th>수학</th>\n",
       "      <th>영어</th>\n",
       "    </tr>\n",
       "  </thead>\n",
       "  <tbody>\n",
       "    <tr>\n",
       "      <th>철수</th>\n",
       "      <td>84</td>\n",
       "      <td>87</td>\n",
       "      <td>78</td>\n",
       "    </tr>\n",
       "    <tr>\n",
       "      <th>영이</th>\n",
       "      <td>21</td>\n",
       "      <td>15</td>\n",
       "      <td>84</td>\n",
       "    </tr>\n",
       "    <tr>\n",
       "      <th>길동</th>\n",
       "      <td>87</td>\n",
       "      <td>84</td>\n",
       "      <td>76</td>\n",
       "    </tr>\n",
       "    <tr>\n",
       "      <th>미영</th>\n",
       "      <td>100</td>\n",
       "      <td>87</td>\n",
       "      <td>99</td>\n",
       "    </tr>\n",
       "    <tr>\n",
       "      <th>순이</th>\n",
       "      <td>59</td>\n",
       "      <td>99</td>\n",
       "      <td>59</td>\n",
       "    </tr>\n",
       "    <tr>\n",
       "      <th>철이</th>\n",
       "      <td>46</td>\n",
       "      <td>77</td>\n",
       "      <td>56</td>\n",
       "    </tr>\n",
       "  </tbody>\n",
       "</table>\n",
       "</div>"
      ],
      "text/plain": [
       "     국어  수학  영어\n",
       "철수   84  87  78\n",
       "영이   21  15  84\n",
       "길동   87  84  76\n",
       "미영  100  87  99\n",
       "순이   59  99  59\n",
       "철이   46  77  56"
      ]
     },
     "execution_count": 31,
     "metadata": {},
     "output_type": "execute_result"
    }
   ],
   "source": [
    "d3"
   ]
  },
  {
   "cell_type": "markdown",
   "metadata": {
    "id": "Y9mBNMYggXsz"
   },
   "source": [
    "### 데이터프레임 확인\n",
    "- 데이터프레임의 정보를 확인하기 위해 다음과 같은 변수 또는 메서드를 사용한다.\n",
    "  - .shape: 모양을 확인한다.\n",
    "  - .columns: 열이름을 확인한다.\n",
    "  - head(): 데이터프레임의 맨 위 5개 행을 보여준다.\n",
    "  - tail(): 데이터프레임의 맨 아래 5개 행을 보여준다.\n",
    "  - info(): 칼럼명, Non-Null count, Dtype 정보를 보여준다.\n",
    "  - isnull().sum(): 값이 없는(null) 갯수를 반환한다."
   ]
  },
  {
   "cell_type": "markdown",
   "metadata": {
    "id": "B1yalp4Wl6o9"
   },
   "source": [
    "```\n",
    "url='https://raw.githubusercontent.com/HaesunByun/Basic-Computing/main/titanic_test.csv'\n",
    "titanic_test = pd.read_csv(url)\n",
    "titanic_test\n",
    "```\n",
    "- passenger ID\n",
    "- Pclass: 티켓 클래스. (1 = 1st, 2 = 2nd, 3 = 3rd)\n",
    "- Name: 이름\n",
    "- Sex: 성별\n",
    "- Age: 나이(세)\n",
    "- Sibsp (Siblings and spouse): 함께 탑승한 형제자매, 배우자 수 총합\n",
    "- Parch (Parents and children): 함께 탑승한 부모, 자녀 수 총합\n",
    "- Ticket: 티켓 번호\n",
    "- Fare: 탑승 요금\n",
    "- Cabin: 객실 번호\n",
    "- Embarked: 탑승 항구"
   ]
  },
  {
   "cell_type": "code",
   "execution_count": null,
   "metadata": {
    "id": "pZjA4SLTgySF"
   },
   "outputs": [],
   "source": []
  },
  {
   "cell_type": "code",
   "execution_count": 32,
   "metadata": {
    "id": "hIHDwxBtP9Jr"
   },
   "outputs": [],
   "source": [
    "# titanic_test.shape\n",
    "# titanic_test.head(3)\n",
    "# titanic_test.tail()\n",
    "# titanic_test.info()\n",
    "# titanic_test.isnull().sum()"
   ]
  },
  {
   "cell_type": "markdown",
   "metadata": {
    "id": "TCcHdM9t6k05"
   },
   "source": [
    "### 데이터프레임 인덱싱과 슬라이싱"
   ]
  },
  {
   "cell_type": "markdown",
   "metadata": {
    "id": "igolbtMF56KD"
   },
   "source": [
    "#### .iloc[]\n",
    "\n",
    "- iloc는 index location의 약자로 위치 인덱스로만 인덱싱과 슬라이싱을 할 수 있다.\n",
    "- .iloc[]을 사용하여 행추출/열추출/행렬추출을 해보자.\n",
    "- 형식은 다음과 같다.\n",
    "```\n",
    "데이터프레임명.iloc[행 또는 행범위, 열 또는 열범위]\n",
    "```\n",
    "- 이때 행이든 열이든 범위가 아닌 하나만 명시했다면 그 결과는 시리즈로 나온다.\n",
    "- 행과 열 모두 범위로 명시했다면 그 결과는 데이터프레임으로 나온다.\n",
    "\n"
   ]
  },
  {
   "cell_type": "markdown",
   "metadata": {
    "id": "eag4GAu6lqmD"
   },
   "source": [
    "- 행추출"
   ]
  },
  {
   "cell_type": "code",
   "execution_count": 33,
   "metadata": {
    "id": "0Al3hi6u6oxg"
   },
   "outputs": [
    {
     "data": {
      "text/plain": [
       "국어    87\n",
       "수학    84\n",
       "영어    76\n",
       "Name: 길동, dtype: int64"
      ]
     },
     "execution_count": 33,
     "metadata": {},
     "output_type": "execute_result"
    }
   ],
   "source": [
    "d3.iloc[2]\n",
    "#d3.iloc[2:3]"
   ]
  },
  {
   "cell_type": "markdown",
   "metadata": {
    "id": "m-a1271wM-op"
   },
   "source": [
    "- 열추출"
   ]
  },
  {
   "cell_type": "code",
   "execution_count": 34,
   "metadata": {
    "id": "y-iP6Ws1L6rf"
   },
   "outputs": [
    {
     "data": {
      "text/plain": [
       "철수    87\n",
       "영이    15\n",
       "길동    84\n",
       "미영    87\n",
       "순이    99\n",
       "철이    77\n",
       "Name: 수학, dtype: int64"
      ]
     },
     "execution_count": 34,
     "metadata": {},
     "output_type": "execute_result"
    }
   ],
   "source": [
    "d3.iloc[:, 1]\n",
    "#d3.iloc[:, 0:2]"
   ]
  },
  {
   "cell_type": "markdown",
   "metadata": {
    "id": "hUhT5ZWRNFP7"
   },
   "source": [
    "- 행열 추출"
   ]
  },
  {
   "cell_type": "code",
   "execution_count": 35,
   "metadata": {
    "id": "T_5yohojL87U"
   },
   "outputs": [
    {
     "data": {
      "text/html": [
       "<div>\n",
       "<style scoped>\n",
       "    .dataframe tbody tr th:only-of-type {\n",
       "        vertical-align: middle;\n",
       "    }\n",
       "\n",
       "    .dataframe tbody tr th {\n",
       "        vertical-align: top;\n",
       "    }\n",
       "\n",
       "    .dataframe thead th {\n",
       "        text-align: right;\n",
       "    }\n",
       "</style>\n",
       "<table border=\"1\" class=\"dataframe\">\n",
       "  <thead>\n",
       "    <tr style=\"text-align: right;\">\n",
       "      <th></th>\n",
       "      <th>국어</th>\n",
       "      <th>수학</th>\n",
       "    </tr>\n",
       "  </thead>\n",
       "  <tbody>\n",
       "    <tr>\n",
       "      <th>영이</th>\n",
       "      <td>21</td>\n",
       "      <td>15</td>\n",
       "    </tr>\n",
       "    <tr>\n",
       "      <th>길동</th>\n",
       "      <td>87</td>\n",
       "      <td>84</td>\n",
       "    </tr>\n",
       "  </tbody>\n",
       "</table>\n",
       "</div>"
      ],
      "text/plain": [
       "    국어  수학\n",
       "영이  21  15\n",
       "길동  87  84"
      ]
     },
     "execution_count": 35,
     "metadata": {},
     "output_type": "execute_result"
    }
   ],
   "source": [
    "d3.iloc[1:3, 0:2]"
   ]
  },
  {
   "cell_type": "markdown",
   "metadata": {
    "id": "NYLcSZej6EvR"
   },
   "source": [
    "#### .loc[]\n",
    "- 라벨 인덱스로만 인덱싱과 슬라이싱을 할 수 있다.\n",
    "- 사용하는 방법은 다음과 같다.\n",
    "\n",
    "```\n",
    "데이터프레임명.loc[행 또는 행범위, 열 또는 열범위]\n",
    "```\n",
    "- 이때 행이든 열이든 범위가 아닌 하나만 명시했다면 그 결과는 시리즈로 나온다.\n",
    "- 행과 열 모두 범위로 명시했다면 그 결과는 데이터프레임으로 나온다."
   ]
  },
  {
   "cell_type": "markdown",
   "metadata": {
    "id": "CUYwG9HvnA7s"
   },
   "source": [
    "- 행추출"
   ]
  },
  {
   "cell_type": "code",
   "execution_count": 36,
   "metadata": {
    "id": "9MiDgWSL66fu"
   },
   "outputs": [
    {
     "data": {
      "text/html": [
       "<div>\n",
       "<style scoped>\n",
       "    .dataframe tbody tr th:only-of-type {\n",
       "        vertical-align: middle;\n",
       "    }\n",
       "\n",
       "    .dataframe tbody tr th {\n",
       "        vertical-align: top;\n",
       "    }\n",
       "\n",
       "    .dataframe thead th {\n",
       "        text-align: right;\n",
       "    }\n",
       "</style>\n",
       "<table border=\"1\" class=\"dataframe\">\n",
       "  <thead>\n",
       "    <tr style=\"text-align: right;\">\n",
       "      <th></th>\n",
       "      <th>국어</th>\n",
       "      <th>수학</th>\n",
       "      <th>영어</th>\n",
       "    </tr>\n",
       "  </thead>\n",
       "  <tbody>\n",
       "    <tr>\n",
       "      <th>길동</th>\n",
       "      <td>87</td>\n",
       "      <td>84</td>\n",
       "      <td>76</td>\n",
       "    </tr>\n",
       "    <tr>\n",
       "      <th>미영</th>\n",
       "      <td>100</td>\n",
       "      <td>87</td>\n",
       "      <td>99</td>\n",
       "    </tr>\n",
       "    <tr>\n",
       "      <th>순이</th>\n",
       "      <td>59</td>\n",
       "      <td>99</td>\n",
       "      <td>59</td>\n",
       "    </tr>\n",
       "  </tbody>\n",
       "</table>\n",
       "</div>"
      ],
      "text/plain": [
       "     국어  수학  영어\n",
       "길동   87  84  76\n",
       "미영  100  87  99\n",
       "순이   59  99  59"
      ]
     },
     "execution_count": 36,
     "metadata": {},
     "output_type": "execute_result"
    }
   ],
   "source": [
    "d3.loc['길동']\n",
    "d3.loc['길동':'순이']"
   ]
  },
  {
   "cell_type": "markdown",
   "metadata": {
    "id": "IXxb1IHvnuTF"
   },
   "source": [
    "- 열추출"
   ]
  },
  {
   "cell_type": "code",
   "execution_count": 37,
   "metadata": {
    "id": "GjgALq1NNxYq"
   },
   "outputs": [
    {
     "data": {
      "text/html": [
       "<div>\n",
       "<style scoped>\n",
       "    .dataframe tbody tr th:only-of-type {\n",
       "        vertical-align: middle;\n",
       "    }\n",
       "\n",
       "    .dataframe tbody tr th {\n",
       "        vertical-align: top;\n",
       "    }\n",
       "\n",
       "    .dataframe thead th {\n",
       "        text-align: right;\n",
       "    }\n",
       "</style>\n",
       "<table border=\"1\" class=\"dataframe\">\n",
       "  <thead>\n",
       "    <tr style=\"text-align: right;\">\n",
       "      <th></th>\n",
       "      <th>국어</th>\n",
       "      <th>수학</th>\n",
       "    </tr>\n",
       "  </thead>\n",
       "  <tbody>\n",
       "    <tr>\n",
       "      <th>철수</th>\n",
       "      <td>84</td>\n",
       "      <td>87</td>\n",
       "    </tr>\n",
       "    <tr>\n",
       "      <th>영이</th>\n",
       "      <td>21</td>\n",
       "      <td>15</td>\n",
       "    </tr>\n",
       "    <tr>\n",
       "      <th>길동</th>\n",
       "      <td>87</td>\n",
       "      <td>84</td>\n",
       "    </tr>\n",
       "    <tr>\n",
       "      <th>미영</th>\n",
       "      <td>100</td>\n",
       "      <td>87</td>\n",
       "    </tr>\n",
       "    <tr>\n",
       "      <th>순이</th>\n",
       "      <td>59</td>\n",
       "      <td>99</td>\n",
       "    </tr>\n",
       "    <tr>\n",
       "      <th>철이</th>\n",
       "      <td>46</td>\n",
       "      <td>77</td>\n",
       "    </tr>\n",
       "  </tbody>\n",
       "</table>\n",
       "</div>"
      ],
      "text/plain": [
       "     국어  수학\n",
       "철수   84  87\n",
       "영이   21  15\n",
       "길동   87  84\n",
       "미영  100  87\n",
       "순이   59  99\n",
       "철이   46  77"
      ]
     },
     "execution_count": 37,
     "metadata": {},
     "output_type": "execute_result"
    }
   ],
   "source": [
    "d3.loc[:, '국어']\n",
    "d3.loc[:, '국어':'수학']"
   ]
  },
  {
   "cell_type": "markdown",
   "metadata": {
    "id": "mCei_t1Ko0Wt"
   },
   "source": [
    "- 행렬추출"
   ]
  },
  {
   "cell_type": "code",
   "execution_count": 38,
   "metadata": {
    "id": "pVep_xLmN0Ht"
   },
   "outputs": [
    {
     "data": {
      "text/html": [
       "<div>\n",
       "<style scoped>\n",
       "    .dataframe tbody tr th:only-of-type {\n",
       "        vertical-align: middle;\n",
       "    }\n",
       "\n",
       "    .dataframe tbody tr th {\n",
       "        vertical-align: top;\n",
       "    }\n",
       "\n",
       "    .dataframe thead th {\n",
       "        text-align: right;\n",
       "    }\n",
       "</style>\n",
       "<table border=\"1\" class=\"dataframe\">\n",
       "  <thead>\n",
       "    <tr style=\"text-align: right;\">\n",
       "      <th></th>\n",
       "      <th>국어</th>\n",
       "      <th>수학</th>\n",
       "    </tr>\n",
       "  </thead>\n",
       "  <tbody>\n",
       "    <tr>\n",
       "      <th>철수</th>\n",
       "      <td>84</td>\n",
       "      <td>87</td>\n",
       "    </tr>\n",
       "    <tr>\n",
       "      <th>영이</th>\n",
       "      <td>21</td>\n",
       "      <td>15</td>\n",
       "    </tr>\n",
       "  </tbody>\n",
       "</table>\n",
       "</div>"
      ],
      "text/plain": [
       "    국어  수학\n",
       "철수  84  87\n",
       "영이  21  15"
      ]
     },
     "execution_count": 38,
     "metadata": {},
     "output_type": "execute_result"
    }
   ],
   "source": [
    "d3.loc['철수':'영이', '국어':'수학']"
   ]
  },
  {
   "cell_type": "markdown",
   "metadata": {
    "id": "B00kuH7W8unT"
   },
   "source": [
    "#### 데이터프레임명\n",
    "- 데이터프레임명만 사용하여 추출하는 방법이 조금 복잡하다."
   ]
  },
  {
   "cell_type": "markdown",
   "metadata": {
    "id": "lD225gKqDNFH"
   },
   "source": [
    "- 행추출은 하나의 행을 추출하더라도 반드시 **슬라이싱**으로 해야 한다. 그렇지 않으면 열이름으로 인식해 에러가 난다.\n",
    "```\n",
    "데이터프레임명[행범위]\n",
    "```"
   ]
  },
  {
   "cell_type": "code",
   "execution_count": 39,
   "metadata": {
    "id": "NICht5Y2Douf"
   },
   "outputs": [
    {
     "data": {
      "text/html": [
       "<div>\n",
       "<style scoped>\n",
       "    .dataframe tbody tr th:only-of-type {\n",
       "        vertical-align: middle;\n",
       "    }\n",
       "\n",
       "    .dataframe tbody tr th {\n",
       "        vertical-align: top;\n",
       "    }\n",
       "\n",
       "    .dataframe thead th {\n",
       "        text-align: right;\n",
       "    }\n",
       "</style>\n",
       "<table border=\"1\" class=\"dataframe\">\n",
       "  <thead>\n",
       "    <tr style=\"text-align: right;\">\n",
       "      <th></th>\n",
       "      <th>국어</th>\n",
       "      <th>수학</th>\n",
       "      <th>영어</th>\n",
       "    </tr>\n",
       "  </thead>\n",
       "  <tbody>\n",
       "    <tr>\n",
       "      <th>길동</th>\n",
       "      <td>87</td>\n",
       "      <td>84</td>\n",
       "      <td>76</td>\n",
       "    </tr>\n",
       "    <tr>\n",
       "      <th>미영</th>\n",
       "      <td>100</td>\n",
       "      <td>87</td>\n",
       "      <td>99</td>\n",
       "    </tr>\n",
       "    <tr>\n",
       "      <th>순이</th>\n",
       "      <td>59</td>\n",
       "      <td>99</td>\n",
       "      <td>59</td>\n",
       "    </tr>\n",
       "    <tr>\n",
       "      <th>철이</th>\n",
       "      <td>46</td>\n",
       "      <td>77</td>\n",
       "      <td>56</td>\n",
       "    </tr>\n",
       "  </tbody>\n",
       "</table>\n",
       "</div>"
      ],
      "text/plain": [
       "     국어  수학  영어\n",
       "길동   87  84  76\n",
       "미영  100  87  99\n",
       "순이   59  99  59\n",
       "철이   46  77  56"
      ]
     },
     "execution_count": 39,
     "metadata": {},
     "output_type": "execute_result"
    }
   ],
   "source": [
    "d3[2:3]\n",
    "d3[2:5]\n",
    "d3['길동':'길동']\n",
    "d3['길동':'철이']"
   ]
  },
  {
   "cell_type": "markdown",
   "metadata": {
    "id": "ytUu_wh5FCvf"
   },
   "source": [
    "- 열추출은 반드시 **칼럼명으로만** 추출가능하다.\n",
    "- 여러 칼럼을 추출할 때에는 **리스트**로 넣어준다.\n",
    "```\n",
    "데이터프레임명[열이름 또는 열이름 리스트]\n",
    "```"
   ]
  },
  {
   "cell_type": "code",
   "execution_count": 40,
   "metadata": {
    "id": "SngMsGSPFaMc"
   },
   "outputs": [
    {
     "data": {
      "text/html": [
       "<div>\n",
       "<style scoped>\n",
       "    .dataframe tbody tr th:only-of-type {\n",
       "        vertical-align: middle;\n",
       "    }\n",
       "\n",
       "    .dataframe tbody tr th {\n",
       "        vertical-align: top;\n",
       "    }\n",
       "\n",
       "    .dataframe thead th {\n",
       "        text-align: right;\n",
       "    }\n",
       "</style>\n",
       "<table border=\"1\" class=\"dataframe\">\n",
       "  <thead>\n",
       "    <tr style=\"text-align: right;\">\n",
       "      <th></th>\n",
       "      <th>국어</th>\n",
       "      <th>수학</th>\n",
       "    </tr>\n",
       "  </thead>\n",
       "  <tbody>\n",
       "    <tr>\n",
       "      <th>철수</th>\n",
       "      <td>84</td>\n",
       "      <td>87</td>\n",
       "    </tr>\n",
       "    <tr>\n",
       "      <th>영이</th>\n",
       "      <td>21</td>\n",
       "      <td>15</td>\n",
       "    </tr>\n",
       "    <tr>\n",
       "      <th>길동</th>\n",
       "      <td>87</td>\n",
       "      <td>84</td>\n",
       "    </tr>\n",
       "    <tr>\n",
       "      <th>미영</th>\n",
       "      <td>100</td>\n",
       "      <td>87</td>\n",
       "    </tr>\n",
       "    <tr>\n",
       "      <th>순이</th>\n",
       "      <td>59</td>\n",
       "      <td>99</td>\n",
       "    </tr>\n",
       "    <tr>\n",
       "      <th>철이</th>\n",
       "      <td>46</td>\n",
       "      <td>77</td>\n",
       "    </tr>\n",
       "  </tbody>\n",
       "</table>\n",
       "</div>"
      ],
      "text/plain": [
       "     국어  수학\n",
       "철수   84  87\n",
       "영이   21  15\n",
       "길동   87  84\n",
       "미영  100  87\n",
       "순이   59  99\n",
       "철이   46  77"
      ]
     },
     "execution_count": 40,
     "metadata": {},
     "output_type": "execute_result"
    }
   ],
   "source": [
    "d3['국어']\n",
    "d3[['국어','수학']]"
   ]
  },
  {
   "cell_type": "markdown",
   "metadata": {
    "id": "7Gyaq_glF3EI"
   },
   "source": [
    "- 행렬추출은 **행렬의 대괄호 순서를 바꿀 수 있지만** 행추출, 열추출 제약사항이 그대로 적용된다.\n",
    "  - 행추출은 **슬라이싱으로만!**\n",
    "  - 열추출은 **칼럼명으로만!**\n",
    "  - 여러 열을 추출할 때에는 **리스트로만!**\n",
    "```\n",
    "데이터프레임명[행범위][열이름 또는 열이름 리스트]\n",
    "데이터프레임명[열이름 또는 열이름 리스트][행범위]\n",
    "```"
   ]
  },
  {
   "cell_type": "code",
   "execution_count": 41,
   "metadata": {
    "id": "pk5CVRrtGJX0"
   },
   "outputs": [
    {
     "data": {
      "text/html": [
       "<div>\n",
       "<style scoped>\n",
       "    .dataframe tbody tr th:only-of-type {\n",
       "        vertical-align: middle;\n",
       "    }\n",
       "\n",
       "    .dataframe tbody tr th {\n",
       "        vertical-align: top;\n",
       "    }\n",
       "\n",
       "    .dataframe thead th {\n",
       "        text-align: right;\n",
       "    }\n",
       "</style>\n",
       "<table border=\"1\" class=\"dataframe\">\n",
       "  <thead>\n",
       "    <tr style=\"text-align: right;\">\n",
       "      <th></th>\n",
       "      <th>국어</th>\n",
       "      <th>수학</th>\n",
       "    </tr>\n",
       "  </thead>\n",
       "  <tbody>\n",
       "    <tr>\n",
       "      <th>길동</th>\n",
       "      <td>87</td>\n",
       "      <td>84</td>\n",
       "    </tr>\n",
       "    <tr>\n",
       "      <th>미영</th>\n",
       "      <td>100</td>\n",
       "      <td>87</td>\n",
       "    </tr>\n",
       "  </tbody>\n",
       "</table>\n",
       "</div>"
      ],
      "text/plain": [
       "     국어  수학\n",
       "길동   87  84\n",
       "미영  100  87"
      ]
     },
     "execution_count": 41,
     "metadata": {},
     "output_type": "execute_result"
    }
   ],
   "source": [
    "d3['길동':'미영'][['국어','수학']]\n",
    "d3[2:4][['국어','수학']]\n",
    "\n",
    "d3[['국어','수학']]['길동':'미영']\n",
    "d3[['국어','수학']][2:4]"
   ]
  },
  {
   "cell_type": "markdown",
   "metadata": {
    "id": "3DHQK9NrE0WH"
   },
   "source": [
    "### 데이터프레임 행/열 추가\n",
    "\n"
   ]
  },
  {
   "cell_type": "markdown",
   "metadata": {
    "id": "ev12V1qi9F_K"
   },
   "source": [
    "- '컴기' 열을 추가해보자.\n",
    "- '컴기'라는 칼럼이 없으면 추가되고, 있으면 업데이트 된다."
   ]
  },
  {
   "cell_type": "code",
   "execution_count": 42,
   "metadata": {
    "id": "4A70L3ivulgp"
   },
   "outputs": [
    {
     "data": {
      "text/html": [
       "<div>\n",
       "<style scoped>\n",
       "    .dataframe tbody tr th:only-of-type {\n",
       "        vertical-align: middle;\n",
       "    }\n",
       "\n",
       "    .dataframe tbody tr th {\n",
       "        vertical-align: top;\n",
       "    }\n",
       "\n",
       "    .dataframe thead th {\n",
       "        text-align: right;\n",
       "    }\n",
       "</style>\n",
       "<table border=\"1\" class=\"dataframe\">\n",
       "  <thead>\n",
       "    <tr style=\"text-align: right;\">\n",
       "      <th></th>\n",
       "      <th>국어</th>\n",
       "      <th>수학</th>\n",
       "      <th>영어</th>\n",
       "      <th>컴기</th>\n",
       "    </tr>\n",
       "  </thead>\n",
       "  <tbody>\n",
       "    <tr>\n",
       "      <th>철수</th>\n",
       "      <td>84</td>\n",
       "      <td>87</td>\n",
       "      <td>78</td>\n",
       "      <td>60</td>\n",
       "    </tr>\n",
       "    <tr>\n",
       "      <th>영이</th>\n",
       "      <td>21</td>\n",
       "      <td>15</td>\n",
       "      <td>84</td>\n",
       "      <td>70</td>\n",
       "    </tr>\n",
       "    <tr>\n",
       "      <th>길동</th>\n",
       "      <td>87</td>\n",
       "      <td>84</td>\n",
       "      <td>76</td>\n",
       "      <td>56</td>\n",
       "    </tr>\n",
       "    <tr>\n",
       "      <th>미영</th>\n",
       "      <td>100</td>\n",
       "      <td>87</td>\n",
       "      <td>99</td>\n",
       "      <td>74</td>\n",
       "    </tr>\n",
       "    <tr>\n",
       "      <th>순이</th>\n",
       "      <td>59</td>\n",
       "      <td>99</td>\n",
       "      <td>59</td>\n",
       "      <td>77</td>\n",
       "    </tr>\n",
       "    <tr>\n",
       "      <th>철이</th>\n",
       "      <td>46</td>\n",
       "      <td>77</td>\n",
       "      <td>56</td>\n",
       "      <td>66</td>\n",
       "    </tr>\n",
       "  </tbody>\n",
       "</table>\n",
       "</div>"
      ],
      "text/plain": [
       "     국어  수학  영어  컴기\n",
       "철수   84  87  78  60\n",
       "영이   21  15  84  70\n",
       "길동   87  84  76  56\n",
       "미영  100  87  99  74\n",
       "순이   59  99  59  77\n",
       "철이   46  77  56  66"
      ]
     },
     "execution_count": 42,
     "metadata": {},
     "output_type": "execute_result"
    }
   ],
   "source": [
    "comScore=[60, 70, 56, 74, 77, 66]\n",
    "d3['컴기']= comScore\n",
    "d3"
   ]
  },
  {
   "cell_type": "markdown",
   "metadata": {
    "id": "291S4I1xhX7R"
   },
   "source": [
    "- '총점'행을 추가해보자.\n",
    "- '총점'행에 들어갈 값은 sum()함수로 구한다.\n",
    "  - sum()함수 괄호 안에는 axis(축)을 명시할 수 있다.\n",
    "  - axis=0은 행, axis=1은 열을 의미한다.\n",
    "  - axis를 생략하면 기본값은 0이다."
   ]
  },
  {
   "cell_type": "code",
   "execution_count": 43,
   "metadata": {
    "id": "CgcAp_VKcVtA"
   },
   "outputs": [
    {
     "data": {
      "text/html": [
       "<div>\n",
       "<style scoped>\n",
       "    .dataframe tbody tr th:only-of-type {\n",
       "        vertical-align: middle;\n",
       "    }\n",
       "\n",
       "    .dataframe tbody tr th {\n",
       "        vertical-align: top;\n",
       "    }\n",
       "\n",
       "    .dataframe thead th {\n",
       "        text-align: right;\n",
       "    }\n",
       "</style>\n",
       "<table border=\"1\" class=\"dataframe\">\n",
       "  <thead>\n",
       "    <tr style=\"text-align: right;\">\n",
       "      <th></th>\n",
       "      <th>국어</th>\n",
       "      <th>수학</th>\n",
       "      <th>영어</th>\n",
       "      <th>컴기</th>\n",
       "    </tr>\n",
       "  </thead>\n",
       "  <tbody>\n",
       "    <tr>\n",
       "      <th>철수</th>\n",
       "      <td>84</td>\n",
       "      <td>87</td>\n",
       "      <td>78</td>\n",
       "      <td>60</td>\n",
       "    </tr>\n",
       "    <tr>\n",
       "      <th>영이</th>\n",
       "      <td>21</td>\n",
       "      <td>15</td>\n",
       "      <td>84</td>\n",
       "      <td>70</td>\n",
       "    </tr>\n",
       "    <tr>\n",
       "      <th>길동</th>\n",
       "      <td>87</td>\n",
       "      <td>84</td>\n",
       "      <td>76</td>\n",
       "      <td>56</td>\n",
       "    </tr>\n",
       "    <tr>\n",
       "      <th>미영</th>\n",
       "      <td>100</td>\n",
       "      <td>87</td>\n",
       "      <td>99</td>\n",
       "      <td>74</td>\n",
       "    </tr>\n",
       "    <tr>\n",
       "      <th>순이</th>\n",
       "      <td>59</td>\n",
       "      <td>99</td>\n",
       "      <td>59</td>\n",
       "      <td>77</td>\n",
       "    </tr>\n",
       "    <tr>\n",
       "      <th>철이</th>\n",
       "      <td>46</td>\n",
       "      <td>77</td>\n",
       "      <td>56</td>\n",
       "      <td>66</td>\n",
       "    </tr>\n",
       "    <tr>\n",
       "      <th>총점</th>\n",
       "      <td>397</td>\n",
       "      <td>449</td>\n",
       "      <td>452</td>\n",
       "      <td>403</td>\n",
       "    </tr>\n",
       "  </tbody>\n",
       "</table>\n",
       "</div>"
      ],
      "text/plain": [
       "     국어   수학   영어   컴기\n",
       "철수   84   87   78   60\n",
       "영이   21   15   84   70\n",
       "길동   87   84   76   56\n",
       "미영  100   87   99   74\n",
       "순이   59   99   59   77\n",
       "철이   46   77   56   66\n",
       "총점  397  449  452  403"
      ]
     },
     "execution_count": 43,
     "metadata": {},
     "output_type": "execute_result"
    }
   ],
   "source": [
    "d3.loc['총점']=d3.sum()\n",
    "d3"
   ]
  },
  {
   "cell_type": "markdown",
   "metadata": {
    "id": "7jUA7NMFKcSX"
   },
   "source": [
    "## 마무리\n",
    "- pandas는 파이썬에서 사용하는 데이터 분석 라이브러리이다.\n",
    "- Pandas는 Series와 DataFrame이라는 자료구조를 제공한다.\n",
    "- 시리즈는 1차원 배열에 인덱스를 가지고 있는 구조이다.\n",
    "- DataFrame은 행과 열로 이루어진 2차원 형태의 배열로, 시리즈들의 묶음이다.\n",
    "\n",
    "- loc를 이용한 행열선택 : 데이터프레임명.loc[index명, column명 ]\n",
    "- iloc를 이용한 행열선택 : 데이터프레임명.iloc[index번호, column번호]\n"
   ]
  },
  {
   "cell_type": "markdown",
   "metadata": {
    "id": "kDzabw71y57X"
   },
   "source": [
    "---\n",
    "<font color='Grey' size=\"4\">\n",
    "F37.101 컴퓨팅 기초: 처음 만나는 컴퓨팅(First Adventures in Computing)</font> 서울대학교 학부대학 변해선\n",
    "\n",
    "---\n"
   ]
  }
 ],
 "metadata": {
  "colab": {
   "provenance": [
    {
     "file_id": "1Wqoo6g-UF5F7OBCtrCUF1W_SeGG4VGM8",
     "timestamp": 1678443253117
    }
   ],
   "toc_visible": true
  },
  "kernelspec": {
   "display_name": "Python 3",
   "name": "python3"
  },
  "language_info": {
   "codemirror_mode": {
    "name": "ipython",
    "version": 3
   },
   "file_extension": ".py",
   "mimetype": "text/x-python",
   "name": "python",
   "nbconvert_exporter": "python",
   "pygments_lexer": "ipython3",
   "version": "3.7.4"
  }
 },
 "nbformat": 4,
 "nbformat_minor": 0
}